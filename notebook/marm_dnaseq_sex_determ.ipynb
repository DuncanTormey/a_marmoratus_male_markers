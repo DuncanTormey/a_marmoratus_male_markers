{
 "cells": [
  {
   "cell_type": "markdown",
   "metadata": {},
   "source": [
    "# _Aspidoscelis marmoratus_ Male Specific Markers"
   ]
  },
  {
   "cell_type": "markdown",
   "metadata": {},
   "source": [
    "## Imports and Constants"
   ]
  },
  {
   "cell_type": "code",
   "execution_count": 229,
   "metadata": {
    "ExecuteTime": {
     "end_time": "2017-10-25T16:11:57.642557Z",
     "start_time": "2017-10-25T16:11:57.568263Z"
    }
   },
   "outputs": [],
   "source": [
    "import pandas as pd\n",
    "import numpy as np\n",
    "import matplotlib.pylab as plt\n",
    "from matplotlib.patches import Rectangle\n",
    "import seaborn as sns\n",
    "import os\n",
    "from glob import glob\n",
    "from wand.image import Image as WImage\n",
    "import itertools as it\n",
    "from Bio import SeqIO\n",
    "from sklearn.preprocessing import scale\n",
    "from scipy.spatial import distance\n",
    "from scipy.cluster import hierarchy\n",
    "import primer3\n",
    "import sys\n",
    "import datetime\n"
   ]
  },
  {
   "cell_type": "code",
   "execution_count": 115,
   "metadata": {
    "ExecuteTime": {
     "end_time": "2017-10-23T20:53:01.599061Z",
     "start_time": "2017-10-23T20:53:01.588944Z"
    },
    "collapsed": true
   },
   "outputs": [],
   "source": [
    "sys.path = ['../../../python_tools/fasta_class/'] + sys.path"
   ]
  },
  {
   "cell_type": "code",
   "execution_count": 2,
   "metadata": {
    "ExecuteTime": {
     "end_time": "2017-10-23T15:12:50.434073Z",
     "start_time": "2017-10-23T15:12:50.422922Z"
    },
    "collapsed": true
   },
   "outputs": [],
   "source": [
    "%matplotlib inline\n",
    "sns.set_style(\"whitegrid\")"
   ]
  },
  {
   "cell_type": "code",
   "execution_count": 3,
   "metadata": {
    "ExecuteTime": {
     "end_time": "2017-10-23T15:12:50.460087Z",
     "start_time": "2017-10-23T15:12:50.436344Z"
    },
    "collapsed": true
   },
   "outputs": [],
   "source": [
    "# plotting constants\n",
    "minor_f_size = 14\n",
    "major_f_size = 16\n",
    "title_f_size = 18\n",
    "notebook_fig_size = (10,8)\n",
    "sns.set_context(rc={\"font.size\":major_f_size,\"axes.titlesize\":major_f_size,\"axes.labelsize\":minor_f_size})   \n",
    "\n",
    "\n",
    "# other constants\n",
    "marm_genome_size = 1639530780\n",
    "read_length = 250"
   ]
  },
  {
   "cell_type": "markdown",
   "metadata": {},
   "source": [
    "## Gathering Data"
   ]
  },
  {
   "cell_type": "markdown",
   "metadata": {},
   "source": [
    "This family of lizards was originally sequenced in order to generate a meotic map for the _A. marmoratus_ genome assembly. Since we already have the DNAseq data for the animals, we decided to try and leverage those data in order to identify a male specific dna sequence that can be used for genotyping. In this section I will download/link to the dnaseq alignments that Aaron Odell generated. However, first I downloaded some meta data as well as the data about the original sequencing run"
   ]
  },
  {
   "cell_type": "markdown",
   "metadata": {},
   "source": [
    "### Sequencing Data"
   ]
  },
  {
   "cell_type": "markdown",
   "metadata": {},
   "source": [
    "This cohort of animals was sequenced across three illumina HiSeq 2500 2 lane flowcells in rapid run mode."
   ]
  },
  {
   "cell_type": "code",
   "execution_count": 4,
   "metadata": {
    "ExecuteTime": {
     "end_time": "2017-10-23T15:12:50.626682Z",
     "start_time": "2017-10-23T15:12:50.462061Z"
    }
   },
   "outputs": [
    {
     "data": {
      "text/plain": [
       "['/n/analysis/Baumann/rmh/MOLNG-1807/H2L7VBCXYa/Sample_Report.csv',\n",
       " '/n/analysis/Baumann/rmh/MOLNG-1807/H7CN3BCXYa/Sample_Report.csv',\n",
       " '/n/analysis/Baumann/rmh/MOLNG-1807/H2WCCBCXYa/Sample_Report.csv']"
      ]
     },
     "execution_count": 4,
     "metadata": {},
     "output_type": "execute_result"
    }
   ],
   "source": [
    "sampleReportPaths = glob('/n/analysis/Baumann/*/MOLNG-1807/*/Sample_Report.csv')\n",
    "sampleReportPaths"
   ]
  },
  {
   "cell_type": "code",
   "execution_count": 5,
   "metadata": {
    "ExecuteTime": {
     "end_time": "2017-10-23T15:12:50.687731Z",
     "start_time": "2017-10-23T15:12:50.628487Z"
    }
   },
   "outputs": [
    {
     "data": {
      "text/html": [
       "<div>\n",
       "<style>\n",
       "    .dataframe thead tr:only-child th {\n",
       "        text-align: right;\n",
       "    }\n",
       "\n",
       "    .dataframe thead th {\n",
       "        text-align: left;\n",
       "    }\n",
       "\n",
       "    .dataframe tbody tr th {\n",
       "        vertical-align: top;\n",
       "    }\n",
       "</style>\n",
       "<table border=\"1\" class=\"dataframe\">\n",
       "  <thead>\n",
       "    <tr style=\"text-align: right;\">\n",
       "      <th></th>\n",
       "      <th>output</th>\n",
       "      <th>order</th>\n",
       "      <th>order_type</th>\n",
       "      <th>lane</th>\n",
       "      <th>sample_name</th>\n",
       "      <th>library_id</th>\n",
       "      <th>illumina_index</th>\n",
       "      <th>custom_barcode</th>\n",
       "      <th>read</th>\n",
       "      <th>reference</th>\n",
       "      <th>lab</th>\n",
       "      <th>total_reads</th>\n",
       "      <th>pass_filter_reads</th>\n",
       "      <th>pass_filter_percent</th>\n",
       "      <th>align_percent</th>\n",
       "      <th>type</th>\n",
       "      <th>read_length</th>\n",
       "    </tr>\n",
       "  </thead>\n",
       "  <tbody>\n",
       "    <tr>\n",
       "      <th>0</th>\n",
       "      <td>s_1_1_CGATGT.fastq.gz</td>\n",
       "      <td>MOLNG-1807</td>\n",
       "      <td>DNA-Seq (1ug)</td>\n",
       "      <td>1</td>\n",
       "      <td>A.tig_17115</td>\n",
       "      <td>L24712</td>\n",
       "      <td>CGATGT</td>\n",
       "      <td>NaN</td>\n",
       "      <td>1</td>\n",
       "      <td>None</td>\n",
       "      <td>Baumann Lab</td>\n",
       "      <td>18234321</td>\n",
       "      <td>18234321</td>\n",
       "      <td>100.0</td>\n",
       "      <td>NaN</td>\n",
       "      <td>Paired Reads</td>\n",
       "      <td>251</td>\n",
       "    </tr>\n",
       "    <tr>\n",
       "      <th>1</th>\n",
       "      <td>s_1_2_CGATGT.fastq.gz</td>\n",
       "      <td>MOLNG-1807</td>\n",
       "      <td>DNA-Seq (1ug)</td>\n",
       "      <td>1</td>\n",
       "      <td>A.tig_17115</td>\n",
       "      <td>L24712</td>\n",
       "      <td>CGATGT</td>\n",
       "      <td>NaN</td>\n",
       "      <td>2</td>\n",
       "      <td>None</td>\n",
       "      <td>Baumann Lab</td>\n",
       "      <td>18234321</td>\n",
       "      <td>18234321</td>\n",
       "      <td>100.0</td>\n",
       "      <td>NaN</td>\n",
       "      <td>Paired Reads</td>\n",
       "      <td>251</td>\n",
       "    </tr>\n",
       "    <tr>\n",
       "      <th>2</th>\n",
       "      <td>s_1_1_TGACCA.fastq.gz</td>\n",
       "      <td>MOLNG-1807</td>\n",
       "      <td>DNA-Seq (1ug)</td>\n",
       "      <td>1</td>\n",
       "      <td>A.tig_17118</td>\n",
       "      <td>L24713</td>\n",
       "      <td>TGACCA</td>\n",
       "      <td>NaN</td>\n",
       "      <td>1</td>\n",
       "      <td>None</td>\n",
       "      <td>Baumann Lab</td>\n",
       "      <td>14017603</td>\n",
       "      <td>14017603</td>\n",
       "      <td>100.0</td>\n",
       "      <td>NaN</td>\n",
       "      <td>Paired Reads</td>\n",
       "      <td>251</td>\n",
       "    </tr>\n",
       "    <tr>\n",
       "      <th>3</th>\n",
       "      <td>s_1_2_TGACCA.fastq.gz</td>\n",
       "      <td>MOLNG-1807</td>\n",
       "      <td>DNA-Seq (1ug)</td>\n",
       "      <td>1</td>\n",
       "      <td>A.tig_17118</td>\n",
       "      <td>L24713</td>\n",
       "      <td>TGACCA</td>\n",
       "      <td>NaN</td>\n",
       "      <td>2</td>\n",
       "      <td>None</td>\n",
       "      <td>Baumann Lab</td>\n",
       "      <td>14017603</td>\n",
       "      <td>14017603</td>\n",
       "      <td>100.0</td>\n",
       "      <td>NaN</td>\n",
       "      <td>Paired Reads</td>\n",
       "      <td>251</td>\n",
       "    </tr>\n",
       "    <tr>\n",
       "      <th>4</th>\n",
       "      <td>s_1_1_ACAGTG.fastq.gz</td>\n",
       "      <td>MOLNG-1807</td>\n",
       "      <td>DNA-Seq (1ug)</td>\n",
       "      <td>1</td>\n",
       "      <td>A.tig_21321</td>\n",
       "      <td>L24714</td>\n",
       "      <td>ACAGTG</td>\n",
       "      <td>NaN</td>\n",
       "      <td>1</td>\n",
       "      <td>None</td>\n",
       "      <td>Baumann Lab</td>\n",
       "      <td>9493500</td>\n",
       "      <td>9493500</td>\n",
       "      <td>100.0</td>\n",
       "      <td>NaN</td>\n",
       "      <td>Paired Reads</td>\n",
       "      <td>251</td>\n",
       "    </tr>\n",
       "  </tbody>\n",
       "</table>\n",
       "</div>"
      ],
      "text/plain": [
       "                  output       order     order_type  lane  sample_name  \\\n",
       "0  s_1_1_CGATGT.fastq.gz  MOLNG-1807  DNA-Seq (1ug)     1  A.tig_17115   \n",
       "1  s_1_2_CGATGT.fastq.gz  MOLNG-1807  DNA-Seq (1ug)     1  A.tig_17115   \n",
       "2  s_1_1_TGACCA.fastq.gz  MOLNG-1807  DNA-Seq (1ug)     1  A.tig_17118   \n",
       "3  s_1_2_TGACCA.fastq.gz  MOLNG-1807  DNA-Seq (1ug)     1  A.tig_17118   \n",
       "4  s_1_1_ACAGTG.fastq.gz  MOLNG-1807  DNA-Seq (1ug)     1  A.tig_21321   \n",
       "\n",
       "  library_id illumina_index  custom_barcode  read reference          lab  \\\n",
       "0     L24712         CGATGT             NaN     1      None  Baumann Lab   \n",
       "1     L24712         CGATGT             NaN     2      None  Baumann Lab   \n",
       "2     L24713         TGACCA             NaN     1      None  Baumann Lab   \n",
       "3     L24713         TGACCA             NaN     2      None  Baumann Lab   \n",
       "4     L24714         ACAGTG             NaN     1      None  Baumann Lab   \n",
       "\n",
       "   total_reads  pass_filter_reads  pass_filter_percent  align_percent  \\\n",
       "0     18234321           18234321                100.0            NaN   \n",
       "1     18234321           18234321                100.0            NaN   \n",
       "2     14017603           14017603                100.0            NaN   \n",
       "3     14017603           14017603                100.0            NaN   \n",
       "4      9493500            9493500                100.0            NaN   \n",
       "\n",
       "           type  read_length  \n",
       "0  Paired Reads          251  \n",
       "1  Paired Reads          251  \n",
       "2  Paired Reads          251  \n",
       "3  Paired Reads          251  \n",
       "4  Paired Reads          251  "
      ]
     },
     "execution_count": 5,
     "metadata": {},
     "output_type": "execute_result"
    }
   ],
   "source": [
    "sampleReportDfs = [pd.read_csv(path) for path in sampleReportPaths]\n",
    "sampleReportDf = pd.concat(sampleReportDfs)\n",
    "sampleReportDf.columns = [c.replace(' ', '_') for c in sampleReportDf.columns] # I dont like to deal with spaces in column names\n",
    "sampleReportDf.head()"
   ]
  },
  {
   "cell_type": "code",
   "execution_count": 6,
   "metadata": {
    "ExecuteTime": {
     "end_time": "2017-10-23T15:12:50.702550Z",
     "start_time": "2017-10-23T15:12:50.689562Z"
    }
   },
   "outputs": [
    {
     "data": {
      "text/plain": [
       "{'ACAGTG': 'A.tig_21321',\n",
       " 'ACTTGA': 'A.tig_22151',\n",
       " 'ATCACG': 'A.tig_21545',\n",
       " 'CAGATC': 'A.tig_21323',\n",
       " 'CGATGT': 'A.tig_17115',\n",
       " 'CTTGTA': 'A.tig_21544',\n",
       " 'GCCAAT': 'A.tig_21322',\n",
       " 'TGACCA': 'A.tig_17118',\n",
       " 'TTAGGC': 'A.tig_21546'}"
      ]
     },
     "execution_count": 6,
     "metadata": {},
     "output_type": "execute_result"
    }
   ],
   "source": [
    "indexToSampleDict = dict(zip(sampleReportDf.illumina_index, sampleReportDf.sample_name))\n",
    "indexToSampleDict"
   ]
  },
  {
   "cell_type": "code",
   "execution_count": 7,
   "metadata": {
    "ExecuteTime": {
     "end_time": "2017-10-23T15:12:50.822384Z",
     "start_time": "2017-10-23T15:12:50.704286Z"
    }
   },
   "outputs": [
    {
     "data": {
      "text/html": [
       "<div>\n",
       "<style>\n",
       "    .dataframe thead tr:only-child th {\n",
       "        text-align: right;\n",
       "    }\n",
       "\n",
       "    .dataframe thead th {\n",
       "        text-align: left;\n",
       "    }\n",
       "\n",
       "    .dataframe tbody tr th {\n",
       "        vertical-align: top;\n",
       "    }\n",
       "</style>\n",
       "<table border=\"1\" class=\"dataframe\">\n",
       "  <thead>\n",
       "    <tr style=\"text-align: right;\">\n",
       "      <th></th>\n",
       "      <th>sample_name</th>\n",
       "      <th>total_reads</th>\n",
       "      <th>total_read_pairs</th>\n",
       "      <th>estimated_coverage</th>\n",
       "    </tr>\n",
       "  </thead>\n",
       "  <tbody>\n",
       "    <tr>\n",
       "      <th>0</th>\n",
       "      <td>A.tig_17115</td>\n",
       "      <td>233057978</td>\n",
       "      <td>116528989.0</td>\n",
       "      <td>35.537298</td>\n",
       "    </tr>\n",
       "    <tr>\n",
       "      <th>1</th>\n",
       "      <td>A.tig_17118</td>\n",
       "      <td>179242302</td>\n",
       "      <td>89621151.0</td>\n",
       "      <td>27.331341</td>\n",
       "    </tr>\n",
       "    <tr>\n",
       "      <th>2</th>\n",
       "      <td>A.tig_21321</td>\n",
       "      <td>124487662</td>\n",
       "      <td>62243831.0</td>\n",
       "      <td>18.982209</td>\n",
       "    </tr>\n",
       "    <tr>\n",
       "      <th>3</th>\n",
       "      <td>A.tig_21322</td>\n",
       "      <td>152940748</td>\n",
       "      <td>76470374.0</td>\n",
       "      <td>23.320811</td>\n",
       "    </tr>\n",
       "    <tr>\n",
       "      <th>4</th>\n",
       "      <td>A.tig_21323</td>\n",
       "      <td>193542766</td>\n",
       "      <td>96771383.0</td>\n",
       "      <td>29.511914</td>\n",
       "    </tr>\n",
       "    <tr>\n",
       "      <th>5</th>\n",
       "      <td>A.tig_21544</td>\n",
       "      <td>210063366</td>\n",
       "      <td>105031683.0</td>\n",
       "      <td>32.031019</td>\n",
       "    </tr>\n",
       "    <tr>\n",
       "      <th>6</th>\n",
       "      <td>A.tig_21545</td>\n",
       "      <td>186505874</td>\n",
       "      <td>93252937.0</td>\n",
       "      <td>28.438910</td>\n",
       "    </tr>\n",
       "    <tr>\n",
       "      <th>7</th>\n",
       "      <td>A.tig_21546</td>\n",
       "      <td>287261598</td>\n",
       "      <td>143630799.0</td>\n",
       "      <td>43.802410</td>\n",
       "    </tr>\n",
       "    <tr>\n",
       "      <th>8</th>\n",
       "      <td>A.tig_22151</td>\n",
       "      <td>241724858</td>\n",
       "      <td>120862429.0</td>\n",
       "      <td>36.858847</td>\n",
       "    </tr>\n",
       "  </tbody>\n",
       "</table>\n",
       "</div>"
      ],
      "text/plain": [
       "   sample_name  total_reads  total_read_pairs  estimated_coverage\n",
       "0  A.tig_17115    233057978       116528989.0           35.537298\n",
       "1  A.tig_17118    179242302        89621151.0           27.331341\n",
       "2  A.tig_21321    124487662        62243831.0           18.982209\n",
       "3  A.tig_21322    152940748        76470374.0           23.320811\n",
       "4  A.tig_21323    193542766        96771383.0           29.511914\n",
       "5  A.tig_21544    210063366       105031683.0           32.031019\n",
       "6  A.tig_21545    186505874        93252937.0           28.438910\n",
       "7  A.tig_21546    287261598       143630799.0           43.802410\n",
       "8  A.tig_22151    241724858       120862429.0           36.858847"
      ]
     },
     "execution_count": 7,
     "metadata": {},
     "output_type": "execute_result"
    }
   ],
   "source": [
    "readCounts = sampleReportDf.groupby('sample_name').sum().reset_index()[['sample_name', 'total_reads']]\n",
    "readCounts['total_read_pairs'] = readCounts['total_reads'] / 2\n",
    "readCounts['estimated_coverage'] = (readCounts['total_reads'] * 250)/ marm_genome_size\n",
    "readCounts"
   ]
  },
  {
   "cell_type": "code",
   "execution_count": 8,
   "metadata": {
    "ExecuteTime": {
     "end_time": "2017-10-23T15:12:51.219471Z",
     "start_time": "2017-10-23T15:12:50.824202Z"
    }
   },
   "outputs": [
    {
     "data": {
      "text/plain": [
       "<matplotlib.text.Text at 0x7f30cbf34470>"
      ]
     },
     "execution_count": 8,
     "metadata": {},
     "output_type": "execute_result"
    },
    {
     "data": {
      "image/png": "[encoded data removed]",
      "text/plain": [
       "<matplotlib.figure.Figure at 0x7f30ce6003c8>"
      ]
     },
     "metadata": {},
     "output_type": "display_data"
    }
   ],
   "source": [
    "ax = readCounts.plot('sample_name', \n",
    "                     'total_read_pairs', \n",
    "                     kind='bar', \n",
    "                     fontsize=minor_f_size, \n",
    "                     legend=False, \n",
    "                     figsize=notebook_fig_size)\n",
    "\n",
    "ax.yaxis.offsetText.set_fontsize(minor_f_size)\n",
    "ax.set_yticklabels(['{:,}'.format(int(y)) for y in ax.get_yticks().tolist()]);\n",
    "ax.set_ylabel('Number of Read Pairs', fontsize=major_f_size)\n",
    "ax.set_xlabel('')\n",
    "ax.set_title('Read Pairs Sequenced For Each Animal', fontsize=title_f_size)"
   ]
  },
  {
   "cell_type": "code",
   "execution_count": 9,
   "metadata": {
    "ExecuteTime": {
     "end_time": "2017-10-23T15:12:51.570588Z",
     "start_time": "2017-10-23T15:12:51.221496Z"
    }
   },
   "outputs": [
    {
     "data": {
      "text/plain": [
       "<matplotlib.text.Text at 0x7f30cbe8aa20>"
      ]
     },
     "execution_count": 9,
     "metadata": {},
     "output_type": "execute_result"
    },
    {
     "data": {
      "image/png": "[encoded data removed]",
      "text/plain": [
       "<matplotlib.figure.Figure at 0x7f30ce6005f8>"
      ]
     },
     "metadata": {},
     "output_type": "display_data"
    }
   ],
   "source": [
    "ax = readCounts.plot('sample_name', \n",
    "                     'estimated_coverage', \n",
    "                     kind='bar', \n",
    "                     color='darkred', \n",
    "                     fontsize=minor_f_size, \n",
    "                     legend=False, \n",
    "                     figsize=notebook_fig_size)\n",
    "\n",
    "ax.yaxis.offsetText.set_fontsize(minor_f_size)\n",
    "ax.set_yticklabels(['{:,}'.format(int(y)) for y in ax.get_yticks().tolist()]);\n",
    "ax.set_ylabel('Estimated Coverage', fontsize=major_f_size)\n",
    "ax.set_xlabel('')\n",
    "ax.set_title('Coverage', fontsize=title_f_size)"
   ]
  },
  {
   "cell_type": "markdown",
   "metadata": {
    "ExecuteTime": {
     "end_time": "2017-10-16T21:54:54.284159Z",
     "start_time": "2017-10-16T21:54:54.280385Z"
    }
   },
   "source": [
    "### Meta Data"
   ]
  },
  {
   "cell_type": "code",
   "execution_count": 10,
   "metadata": {
    "ExecuteTime": {
     "end_time": "2017-10-23T15:12:51.652598Z",
     "start_time": "2017-10-23T15:12:51.572411Z"
    }
   },
   "outputs": [
    {
     "data": {
      "text/html": [
       "<div>\n",
       "<style>\n",
       "    .dataframe thead tr:only-child th {\n",
       "        text-align: right;\n",
       "    }\n",
       "\n",
       "    .dataframe thead th {\n",
       "        text-align: left;\n",
       "    }\n",
       "\n",
       "    .dataframe tbody tr th {\n",
       "        vertical-align: top;\n",
       "    }\n",
       "</style>\n",
       "<table border=\"1\" class=\"dataframe\">\n",
       "  <thead>\n",
       "    <tr style=\"text-align: right;\">\n",
       "      <th></th>\n",
       "      <th>animal_id</th>\n",
       "      <th>sample_name</th>\n",
       "      <th>generation</th>\n",
       "      <th>letter</th>\n",
       "      <th>species</th>\n",
       "      <th>laid_by</th>\n",
       "      <th>date_hatched</th>\n",
       "      <th>hatchling_notes</th>\n",
       "      <th>gender</th>\n",
       "    </tr>\n",
       "  </thead>\n",
       "  <tbody>\n",
       "    <tr>\n",
       "      <th>0</th>\n",
       "      <td>21321</td>\n",
       "      <td>A.tig_21321</td>\n",
       "      <td>F1</td>\n",
       "      <td>Z259</td>\n",
       "      <td>tig</td>\n",
       "      <td>17118.0</td>\n",
       "      <td>2016-03-29</td>\n",
       "      <td>NaN</td>\n",
       "      <td>F</td>\n",
       "    </tr>\n",
       "    <tr>\n",
       "      <th>1</th>\n",
       "      <td>21322</td>\n",
       "      <td>A.tig_21322</td>\n",
       "      <td>F1</td>\n",
       "      <td>Z259</td>\n",
       "      <td>tig</td>\n",
       "      <td>17118.0</td>\n",
       "      <td>2016-03-29</td>\n",
       "      <td>NaN</td>\n",
       "      <td>M</td>\n",
       "    </tr>\n",
       "    <tr>\n",
       "      <th>2</th>\n",
       "      <td>21323</td>\n",
       "      <td>A.tig_21323</td>\n",
       "      <td>F1</td>\n",
       "      <td>Z259</td>\n",
       "      <td>tig</td>\n",
       "      <td>17118.0</td>\n",
       "      <td>2016-03-29</td>\n",
       "      <td>NaN</td>\n",
       "      <td>M</td>\n",
       "    </tr>\n",
       "    <tr>\n",
       "      <th>3</th>\n",
       "      <td>21544</td>\n",
       "      <td>A.tig_21544</td>\n",
       "      <td>F1</td>\n",
       "      <td>C263</td>\n",
       "      <td>tig</td>\n",
       "      <td>17118.0</td>\n",
       "      <td>2016-04-24</td>\n",
       "      <td>NaN</td>\n",
       "      <td>F</td>\n",
       "    </tr>\n",
       "    <tr>\n",
       "      <th>4</th>\n",
       "      <td>21545</td>\n",
       "      <td>A.tig_21545</td>\n",
       "      <td>F1</td>\n",
       "      <td>C263</td>\n",
       "      <td>tig</td>\n",
       "      <td>17118.0</td>\n",
       "      <td>2016-04-24</td>\n",
       "      <td>NaN</td>\n",
       "      <td>M</td>\n",
       "    </tr>\n",
       "    <tr>\n",
       "      <th>5</th>\n",
       "      <td>21546</td>\n",
       "      <td>A.tig_21546</td>\n",
       "      <td>F1</td>\n",
       "      <td>C263</td>\n",
       "      <td>tig</td>\n",
       "      <td>17118.0</td>\n",
       "      <td>2016-04-29</td>\n",
       "      <td>NaN</td>\n",
       "      <td>F</td>\n",
       "    </tr>\n",
       "    <tr>\n",
       "      <th>6</th>\n",
       "      <td>22151</td>\n",
       "      <td>A.tig_22151</td>\n",
       "      <td>F1</td>\n",
       "      <td>I272</td>\n",
       "      <td>tig</td>\n",
       "      <td>17118.0</td>\n",
       "      <td>2016-06-14</td>\n",
       "      <td>hatched with opening in chest and kinked tail</td>\n",
       "      <td>NaN</td>\n",
       "    </tr>\n",
       "    <tr>\n",
       "      <th>7</th>\n",
       "      <td>17118</td>\n",
       "      <td>A.tig_17118</td>\n",
       "      <td>NaN</td>\n",
       "      <td>NaN</td>\n",
       "      <td>tig</td>\n",
       "      <td>NaN</td>\n",
       "      <td>NaT</td>\n",
       "      <td>NaN</td>\n",
       "      <td>F</td>\n",
       "    </tr>\n",
       "    <tr>\n",
       "      <th>8</th>\n",
       "      <td>17115</td>\n",
       "      <td>A.tig_17115</td>\n",
       "      <td>NaN</td>\n",
       "      <td>NaN</td>\n",
       "      <td>tig</td>\n",
       "      <td>NaN</td>\n",
       "      <td>NaT</td>\n",
       "      <td>NaN</td>\n",
       "      <td>M</td>\n",
       "    </tr>\n",
       "  </tbody>\n",
       "</table>\n",
       "</div>"
      ],
      "text/plain": [
       "   animal_id  sample_name generation letter species  laid_by date_hatched  \\\n",
       "0      21321  A.tig_21321         F1   Z259     tig  17118.0   2016-03-29   \n",
       "1      21322  A.tig_21322         F1   Z259     tig  17118.0   2016-03-29   \n",
       "2      21323  A.tig_21323         F1   Z259     tig  17118.0   2016-03-29   \n",
       "3      21544  A.tig_21544         F1   C263     tig  17118.0   2016-04-24   \n",
       "4      21545  A.tig_21545         F1   C263     tig  17118.0   2016-04-24   \n",
       "5      21546  A.tig_21546         F1   C263     tig  17118.0   2016-04-29   \n",
       "6      22151  A.tig_22151         F1   I272     tig  17118.0   2016-06-14   \n",
       "7      17118  A.tig_17118        NaN    NaN     tig      NaN          NaT   \n",
       "8      17115  A.tig_17115        NaN    NaN     tig      NaN          NaT   \n",
       "\n",
       "                                 hatchling_notes gender  \n",
       "0                                            NaN      F  \n",
       "1                                            NaN      M  \n",
       "2                                            NaN      M  \n",
       "3                                            NaN      F  \n",
       "4                                            NaN      M  \n",
       "5                                            NaN      F  \n",
       "6  hatched with opening in chest and kinked tail    NaN  \n",
       "7                                            NaN      F  \n",
       "8                                            NaN      M  "
      ]
     },
     "execution_count": 10,
     "metadata": {},
     "output_type": "execute_result"
    }
   ],
   "source": [
    "metaData = pd.read_excel('../data/external_data/mm_animal_meta_data_1.xlsx')\n",
    "metaData.columns = [c.replace(' ', '_').lower() for c in metaData.columns]\n",
    "metaData"
   ]
  },
  {
   "cell_type": "code",
   "execution_count": 11,
   "metadata": {
    "ExecuteTime": {
     "end_time": "2017-10-23T15:12:51.658716Z",
     "start_time": "2017-10-23T15:12:51.654354Z"
    },
    "collapsed": true
   },
   "outputs": [],
   "source": [
    "sampleToSexDict = dict(zip(metaData.sample_name, metaData.gender))"
   ]
  },
  {
   "cell_type": "markdown",
   "metadata": {},
   "source": [
    "### Alignment Files"
   ]
  },
  {
   "cell_type": "code",
   "execution_count": 12,
   "metadata": {
    "ExecuteTime": {
     "end_time": "2017-10-23T15:12:51.726911Z",
     "start_time": "2017-10-23T15:12:51.661460Z"
    }
   },
   "outputs": [
    {
     "data": {
      "text/plain": [
       "['/n/projects/aodell/A_MARMORATA_MEIOTIC_MAP/BWA/UNIFIED_GENOTYPER_BAMS/ATCACG_merged_sorted_markDup_indelRealign.bam',\n",
       " '/n/projects/aodell/A_MARMORATA_MEIOTIC_MAP/BWA/UNIFIED_GENOTYPER_BAMS/ACAGTG_merged_sorted_markDup_indelRealign.bam',\n",
       " '/n/projects/aodell/A_MARMORATA_MEIOTIC_MAP/BWA/UNIFIED_GENOTYPER_BAMS/GCCAAT_merged_sorted_markDup_indelRealign.bam',\n",
       " '/n/projects/aodell/A_MARMORATA_MEIOTIC_MAP/BWA/UNIFIED_GENOTYPER_BAMS/CTTGTA_merged_sorted_markDup_indelRealign.bam',\n",
       " '/n/projects/aodell/A_MARMORATA_MEIOTIC_MAP/BWA/UNIFIED_GENOTYPER_BAMS/CGATGT_merged_sorted_markDup_indelRealign.bam',\n",
       " '/n/projects/aodell/A_MARMORATA_MEIOTIC_MAP/BWA/UNIFIED_GENOTYPER_BAMS/ACTTGA_merged_sorted_markDup_indelRealign.bam',\n",
       " '/n/projects/aodell/A_MARMORATA_MEIOTIC_MAP/BWA/UNIFIED_GENOTYPER_BAMS/TTAGGC_merged_sorted_markDup_indelRealign.bam',\n",
       " '/n/projects/aodell/A_MARMORATA_MEIOTIC_MAP/BWA/UNIFIED_GENOTYPER_BAMS/TGACCA_merged_sorted_markDup_indelRealign.bam',\n",
       " '/n/projects/aodell/A_MARMORATA_MEIOTIC_MAP/BWA/UNIFIED_GENOTYPER_BAMS/CAGATC_merged_sorted_markDup_indelRealign.bam']"
      ]
     },
     "execution_count": 12,
     "metadata": {},
     "output_type": "execute_result"
    }
   ],
   "source": [
    "alignmentPaths = glob('/n/projects/aodell/A_MARMORATA_MEIOTIC_MAP/BWA/UNIFIED_GENOTYPER_BAMS/*_merged_sorted_markDup_indelRealign.bam')\n",
    "alignmentPaths"
   ]
  },
  {
   "cell_type": "code",
   "execution_count": 13,
   "metadata": {
    "ExecuteTime": {
     "end_time": "2017-10-23T15:12:51.737528Z",
     "start_time": "2017-10-23T15:12:51.729638Z"
    }
   },
   "outputs": [
    {
     "data": {
      "text/plain": [
       "['/n/projects/aodell/A_MARMORATA_MEIOTIC_MAP/BWA/UNIFIED_GENOTYPER_BAMS/CGATGT_merged_sorted_markDup_indelRealign.bai',\n",
       " '/n/projects/aodell/A_MARMORATA_MEIOTIC_MAP/BWA/UNIFIED_GENOTYPER_BAMS/TGACCA_merged_sorted_markDup_indelRealign.bai',\n",
       " '/n/projects/aodell/A_MARMORATA_MEIOTIC_MAP/BWA/UNIFIED_GENOTYPER_BAMS/CAGATC_merged_sorted_markDup_indelRealign.bai',\n",
       " '/n/projects/aodell/A_MARMORATA_MEIOTIC_MAP/BWA/UNIFIED_GENOTYPER_BAMS/CTTGTA_merged_sorted_markDup_indelRealign.bai',\n",
       " '/n/projects/aodell/A_MARMORATA_MEIOTIC_MAP/BWA/UNIFIED_GENOTYPER_BAMS/ACAGTG_merged_sorted_markDup_indelRealign.bai',\n",
       " '/n/projects/aodell/A_MARMORATA_MEIOTIC_MAP/BWA/UNIFIED_GENOTYPER_BAMS/TTAGGC_merged_sorted_markDup_indelRealign.bai',\n",
       " '/n/projects/aodell/A_MARMORATA_MEIOTIC_MAP/BWA/UNIFIED_GENOTYPER_BAMS/ACTTGA_merged_sorted_markDup_indelRealign.bai',\n",
       " '/n/projects/aodell/A_MARMORATA_MEIOTIC_MAP/BWA/UNIFIED_GENOTYPER_BAMS/ATCACG_merged_sorted_markDup_indelRealign.bai',\n",
       " '/n/projects/aodell/A_MARMORATA_MEIOTIC_MAP/BWA/UNIFIED_GENOTYPER_BAMS/GCCAAT_merged_sorted_markDup_indelRealign.bai']"
      ]
     },
     "execution_count": 13,
     "metadata": {},
     "output_type": "execute_result"
    }
   ],
   "source": [
    "alignmentIndexPaths = glob('/n/projects/aodell/A_MARMORATA_MEIOTIC_MAP/BWA/UNIFIED_GENOTYPER_BAMS/*_merged_sorted_markDup_indelRealign.bai')\n",
    "alignmentIndexPaths"
   ]
  },
  {
   "cell_type": "markdown",
   "metadata": {},
   "source": [
    "### Genome Assembly Reference Used"
   ]
  },
  {
   "cell_type": "code",
   "execution_count": 14,
   "metadata": {
    "ExecuteTime": {
     "end_time": "2017-10-23T15:12:51.755907Z",
     "start_time": "2017-10-23T15:12:51.739279Z"
    },
    "collapsed": true
   },
   "outputs": [],
   "source": [
    "genomeAssemblyPath = \"/n/projects/aodell/GENOMES/a_marmorata_unmasked.fasta\"\n",
    "genomePicardDict = \"/n/projects/aodell/GENOMES/a_marmorata_unmasked.fasta.fai\""
   ]
  },
  {
   "cell_type": "markdown",
   "metadata": {},
   "source": [
    "## Alignment Mapping Stats\n",
    "\n",
    "First I am going use the local install of samtools. Here is the info about the version I used."
   ]
  },
  {
   "cell_type": "code",
   "execution_count": 15,
   "metadata": {
    "ExecuteTime": {
     "end_time": "2017-10-23T15:12:51.810471Z",
     "start_time": "2017-10-23T15:12:51.757675Z"
    }
   },
   "outputs": [
    {
     "name": "stdout",
     "output_type": "stream",
     "text": [
      "\n",
      "Program: samtools (Tools for alignments in the SAM format)\n",
      "Version: 1.3.1 (using htslib 1.3.1)\n",
      "\n",
      "Usage:   samtools <command> [options]\n",
      "\n",
      "Commands:\n",
      "  -- Indexing\n",
      "     dict           create a sequence dictionary file\n",
      "     faidx          index/extract FASTA\n"
     ]
    }
   ],
   "source": [
    "%%bash\n",
    "samtools help | head"
   ]
  },
  {
   "cell_type": "markdown",
   "metadata": {},
   "source": [
    " Write the commands to a text file so I can parallelize the execution."
   ]
  },
  {
   "cell_type": "code",
   "execution_count": 16,
   "metadata": {
    "ExecuteTime": {
     "end_time": "2017-10-23T15:12:51.850596Z",
     "start_time": "2017-10-23T15:12:51.812655Z"
    }
   },
   "outputs": [
    {
     "name": "stdout",
     "output_type": "stream",
     "text": [
      "9\n"
     ]
    }
   ],
   "source": [
    "flagstatPathsDict = {}\n",
    "with open('../bin/samtools_flagstat.txt','w') as fw:\n",
    "    for bam in alignmentPaths:\n",
    "        filename = os.path.basename(bam)\n",
    "        flagstat = '../data/' + filename.replace('.bam', '.flagstat')\n",
    "        index = filename.split(\"_\")[0]\n",
    "        sample_name = indexToSampleDict[index]\n",
    "        command = 'samtools flagstat {} > {}'.format(bam, flagstat)\n",
    "        flagstatPathsDict[sample_name] = flagstat\n",
    "        fw.write(command + '\\n')\n",
    "\n",
    "print(len(flagstatPathsDict.keys()))"
   ]
  },
  {
   "cell_type": "markdown",
   "metadata": {},
   "source": [
    "Run the commands in parallel. Took about 5 min. (I actually ran the command in terminal)."
   ]
  },
  {
   "cell_type": "code",
   "execution_count": 17,
   "metadata": {
    "ExecuteTime": {
     "end_time": "2017-10-23T15:12:51.871057Z",
     "start_time": "2017-10-23T15:12:51.852488Z"
    }
   },
   "outputs": [
    {
     "name": "stdout",
     "output_type": "stream",
     "text": [
      "samtools flagstat /n/projects/aodell/A_MARMORATA_MEIOTIC_MAP/BWA/UNIFIED_GENOTYPER_BAMS/ATCACG_merged_sorted_markDup_indelRealign.bam > ../data/ATCACG_merged_sorted_markDup_indelRealign.flagstat\n",
      "samtools flagstat /n/projects/aodell/A_MARMORATA_MEIOTIC_MAP/BWA/UNIFIED_GENOTYPER_BAMS/ACAGTG_merged_sorted_markDup_indelRealign.bam > ../data/ACAGTG_merged_sorted_markDup_indelRealign.flagstat\n",
      "samtools flagstat /n/projects/aodell/A_MARMORATA_MEIOTIC_MAP/BWA/UNIFIED_GENOTYPER_BAMS/GCCAAT_merged_sorted_markDup_indelRealign.bam > ../data/GCCAAT_merged_sorted_markDup_indelRealign.flagstat\n",
      "samtools flagstat /n/projects/aodell/A_MARMORATA_MEIOTIC_MAP/BWA/UNIFIED_GENOTYPER_BAMS/CTTGTA_merged_sorted_markDup_indelRealign.bam > ../data/CTTGTA_merged_sorted_markDup_indelRealign.flagstat\n",
      "samtools flagstat /n/projects/aodell/A_MARMORATA_MEIOTIC_MAP/BWA/UNIFIED_GENOTYPER_BAMS/CGATGT_merged_sorted_markDup_indelRealign.bam > ../data/CGATGT_merged_sorted_markDup_indelRealign.flagstat\n",
      "samtools flagstat /n/projects/aodell/A_MARMORATA_MEIOTIC_MAP/BWA/UNIFIED_GENOTYPER_BAMS/ACTTGA_merged_sorted_markDup_indelRealign.bam > ../data/ACTTGA_merged_sorted_markDup_indelRealign.flagstat\n",
      "samtools flagstat /n/projects/aodell/A_MARMORATA_MEIOTIC_MAP/BWA/UNIFIED_GENOTYPER_BAMS/TTAGGC_merged_sorted_markDup_indelRealign.bam > ../data/TTAGGC_merged_sorted_markDup_indelRealign.flagstat\n",
      "samtools flagstat /n/projects/aodell/A_MARMORATA_MEIOTIC_MAP/BWA/UNIFIED_GENOTYPER_BAMS/TGACCA_merged_sorted_markDup_indelRealign.bam > ../data/TGACCA_merged_sorted_markDup_indelRealign.flagstat\n",
      "samtools flagstat /n/projects/aodell/A_MARMORATA_MEIOTIC_MAP/BWA/UNIFIED_GENOTYPER_BAMS/CAGATC_merged_sorted_markDup_indelRealign.bam > ../data/CAGATC_merged_sorted_markDup_indelRealign.flagstat\n"
     ]
    }
   ],
   "source": [
    "%%bash\n",
    "cat ../bin/samtools_flagstat.txt\n",
    "#nohup parallel --no-notice -j 9 :::: ../bin/samtools_flagstat.txt &> ../bin/samtools_flagstat.out &"
   ]
  },
  {
   "cell_type": "markdown",
   "metadata": {},
   "source": [
    "Clean up the results file so that I can read them in as a csv"
   ]
  },
  {
   "cell_type": "code",
   "execution_count": 23,
   "metadata": {
    "ExecuteTime": {
     "end_time": "2017-10-23T15:35:27.819266Z",
     "start_time": "2017-10-23T15:35:27.672150Z"
    }
   },
   "outputs": [
    {
     "name": "stdout",
     "output_type": "stream",
     "text": [
      "../data/ACAGTG_merged_sorted_markDup_indelRealign.flagstat\n",
      "../data/ACTTGA_merged_sorted_markDup_indelRealign.flagstat\n",
      "../data/ATCACG_merged_sorted_markDup_indelRealign.flagstat\n",
      "../data/CAGATC_merged_sorted_markDup_indelRealign.flagstat\n",
      "../data/CGATGT_merged_sorted_markDup_indelRealign.flagstat\n",
      "../data/CTTGTA_merged_sorted_markDup_indelRealign.flagstat\n",
      "../data/GCCAAT_merged_sorted_markDup_indelRealign.flagstat\n",
      "../data/TGACCA_merged_sorted_markDup_indelRealign.flagstat\n",
      "../data/TTAGGC_merged_sorted_markDup_indelRealign.flagstat\n",
      "ACAGTG,121793509,94.99\n",
      "ACTTGA,238250452,97.18\n",
      "ATCACG,185085996,96.62\n",
      "CAGATC,193085899,97.05\n",
      "CGATGT,228954817,96.85\n"
     ]
    }
   ],
   "source": [
    "%%bash \n",
    "rm ../data/flagstat_mapped_data.csv\n",
    "touch ../data/flagstat_mapped_data.csv\n",
    "for file in ../data/*Realign.flagstat\n",
    " do\n",
    "  echo $file\n",
    "  index=$(basename $file | cut -f 1 -d '_')\n",
    "  cat $file | grep \"mapped (\" | sed \"s/ + 0 mapped (/,/\" | sed \"s/%.*$//\" | sed \"s/^/$index,/\" >> ../data/flagstat_mapped_data.csv\n",
    " done\n",
    "\n",
    "head -n 5 ../data/flagstat_mapped_data.csv"
   ]
  },
  {
   "cell_type": "code",
   "execution_count": 24,
   "metadata": {
    "ExecuteTime": {
     "end_time": "2017-10-23T15:35:27.865171Z",
     "start_time": "2017-10-23T15:35:27.823025Z"
    }
   },
   "outputs": [
    {
     "data": {
      "text/html": [
       "<div>\n",
       "<style>\n",
       "    .dataframe thead tr:only-child th {\n",
       "        text-align: right;\n",
       "    }\n",
       "\n",
       "    .dataframe thead th {\n",
       "        text-align: left;\n",
       "    }\n",
       "\n",
       "    .dataframe tbody tr th {\n",
       "        vertical-align: top;\n",
       "    }\n",
       "</style>\n",
       "<table border=\"1\" class=\"dataframe\">\n",
       "  <thead>\n",
       "    <tr style=\"text-align: right;\">\n",
       "      <th></th>\n",
       "      <th>index</th>\n",
       "      <th>reads_mapped</th>\n",
       "      <th>percent_mapped</th>\n",
       "      <th>sample_name</th>\n",
       "      <th>sex</th>\n",
       "    </tr>\n",
       "  </thead>\n",
       "  <tbody>\n",
       "    <tr>\n",
       "      <th>0</th>\n",
       "      <td>ACAGTG</td>\n",
       "      <td>121793509</td>\n",
       "      <td>94.99</td>\n",
       "      <td>A.tig_21321</td>\n",
       "      <td>F</td>\n",
       "    </tr>\n",
       "    <tr>\n",
       "      <th>5</th>\n",
       "      <td>CTTGTA</td>\n",
       "      <td>205882982</td>\n",
       "      <td>96.72</td>\n",
       "      <td>A.tig_21544</td>\n",
       "      <td>F</td>\n",
       "    </tr>\n",
       "    <tr>\n",
       "      <th>7</th>\n",
       "      <td>TGACCA</td>\n",
       "      <td>179237242</td>\n",
       "      <td>97.17</td>\n",
       "      <td>A.tig_17118</td>\n",
       "      <td>F</td>\n",
       "    </tr>\n",
       "    <tr>\n",
       "      <th>8</th>\n",
       "      <td>TTAGGC</td>\n",
       "      <td>282106059</td>\n",
       "      <td>97.50</td>\n",
       "      <td>A.tig_21546</td>\n",
       "      <td>F</td>\n",
       "    </tr>\n",
       "    <tr>\n",
       "      <th>2</th>\n",
       "      <td>ATCACG</td>\n",
       "      <td>185085996</td>\n",
       "      <td>96.62</td>\n",
       "      <td>A.tig_21545</td>\n",
       "      <td>M</td>\n",
       "    </tr>\n",
       "    <tr>\n",
       "      <th>3</th>\n",
       "      <td>CAGATC</td>\n",
       "      <td>193085899</td>\n",
       "      <td>97.05</td>\n",
       "      <td>A.tig_21323</td>\n",
       "      <td>M</td>\n",
       "    </tr>\n",
       "    <tr>\n",
       "      <th>4</th>\n",
       "      <td>CGATGT</td>\n",
       "      <td>228954817</td>\n",
       "      <td>96.85</td>\n",
       "      <td>A.tig_17115</td>\n",
       "      <td>M</td>\n",
       "    </tr>\n",
       "    <tr>\n",
       "      <th>6</th>\n",
       "      <td>GCCAAT</td>\n",
       "      <td>150815423</td>\n",
       "      <td>96.03</td>\n",
       "      <td>A.tig_21322</td>\n",
       "      <td>M</td>\n",
       "    </tr>\n",
       "    <tr>\n",
       "      <th>1</th>\n",
       "      <td>ACTTGA</td>\n",
       "      <td>238250452</td>\n",
       "      <td>97.18</td>\n",
       "      <td>A.tig_22151</td>\n",
       "      <td>NaN</td>\n",
       "    </tr>\n",
       "  </tbody>\n",
       "</table>\n",
       "</div>"
      ],
      "text/plain": [
       "    index  reads_mapped  percent_mapped  sample_name  sex\n",
       "0  ACAGTG     121793509           94.99  A.tig_21321    F\n",
       "5  CTTGTA     205882982           96.72  A.tig_21544    F\n",
       "7  TGACCA     179237242           97.17  A.tig_17118    F\n",
       "8  TTAGGC     282106059           97.50  A.tig_21546    F\n",
       "2  ATCACG     185085996           96.62  A.tig_21545    M\n",
       "3  CAGATC     193085899           97.05  A.tig_21323    M\n",
       "4  CGATGT     228954817           96.85  A.tig_17115    M\n",
       "6  GCCAAT     150815423           96.03  A.tig_21322    M\n",
       "1  ACTTGA     238250452           97.18  A.tig_22151  NaN"
      ]
     },
     "execution_count": 24,
     "metadata": {},
     "output_type": "execute_result"
    }
   ],
   "source": [
    "flagstatDF = pd.read_csv('../data/flagstat_mapped_data.csv',names=['index', 'reads_mapped', 'percent_mapped'])\n",
    "flagstatDF['sample_name'] = flagstatDF['index'].apply(lambda x: indexToSampleDict[x])\n",
    "flagstatDF['sex'] = flagstatDF['sample_name'].apply(lambda x: sampleToSexDict[x])\n",
    "flagstatDF.sort_values('sex', inplace=True)\n",
    "flagstatDF"
   ]
  },
  {
   "cell_type": "code",
   "execution_count": 25,
   "metadata": {
    "ExecuteTime": {
     "end_time": "2017-10-23T15:35:28.310783Z",
     "start_time": "2017-10-23T15:35:27.867573Z"
    }
   },
   "outputs": [
    {
     "data": {
      "image/png": "[encoded data removed]",
      "text/plain": [
       "<matplotlib.figure.Figure at 0x7f30cbb4bba8>"
      ]
     },
     "metadata": {},
     "output_type": "display_data"
    }
   ],
   "source": [
    "df = flagstatDF.dropna().copy()\n",
    "df['color'] = df['sex'].apply(lambda x: 'purple' if x=='M' else 'green')\n",
    "ax = df.plot('sample_name', \n",
    "             'percent_mapped', \n",
    "             kind='bar', \n",
    "             color=df['color'], \n",
    "             fontsize=minor_f_size,\n",
    "             legend=False, \n",
    "             figsize=notebook_fig_size)\n",
    "\n",
    "ax.set_ylim(94,98)\n",
    "ax.yaxis.offsetText.set_fontsize(minor_f_size)\n",
    "ax.set_yticklabels(['{:,}'.format(int(y)) for y in ax.get_yticks().tolist()]);\n",
    "ax.set_ylabel('Percent Mapped', fontsize=major_f_size)\n",
    "ax.set_xlabel('')\n",
    "\n",
    "\n",
    "#legend\n",
    "female = plt.Rectangle((0,0),1,1,fc=\"purple\", edgecolor = 'none')\n",
    "male = plt.Rectangle((0,0),1,1,fc='green',  edgecolor = 'none')\n",
    "\n",
    "l = ax.legend([female, male], \n",
    "              ['F', 'M'], \n",
    "              loc=1, \n",
    "              ncol = 1, \n",
    "              fontsize=minor_f_size\n",
    "              )\n",
    "\n",
    "l.draw_frame(False)"
   ]
  },
  {
   "cell_type": "markdown",
   "metadata": {},
   "source": [
    "## Extracting Unmapped Reads"
   ]
  },
  {
   "cell_type": "code",
   "execution_count": 26,
   "metadata": {
    "ExecuteTime": {
     "end_time": "2017-10-23T15:35:28.347604Z",
     "start_time": "2017-10-23T15:35:28.312730Z"
    }
   },
   "outputs": [
    {
     "name": "stdout",
     "output_type": "stream",
     "text": [
      "9\n"
     ]
    }
   ],
   "source": [
    "unmappedPathsDict = {}\n",
    "with open('../bin/extract_unmapped.txt','w') as fw:\n",
    "    for bam in alignmentPaths:\n",
    "        filename = os.path.basename(bam)\n",
    "        unmapped = '../data/' + filename.replace('.bam', '.unmapped.bam')\n",
    "        index = filename.split(\"_\")[0]\n",
    "        sample_name = indexToSampleDict[index]\n",
    "        command = 'samtools view -@ 3 -f 12 -b {} > {}'.format(bam, unmapped)\n",
    "        unmappedPathsDict[sample_name] = unmapped\n",
    "        fw.write(command + '\\n')\n",
    "\n",
    "print(len(unmappedPathsDict.keys()))"
   ]
  },
  {
   "cell_type": "code",
   "execution_count": 27,
   "metadata": {
    "ExecuteTime": {
     "end_time": "2017-10-23T15:35:28.396914Z",
     "start_time": "2017-10-23T15:35:28.349385Z"
    }
   },
   "outputs": [
    {
     "name": "stdout",
     "output_type": "stream",
     "text": [
      "samtools view -@ 3 -f 12 -b /n/projects/aodell/A_MARMORATA_MEIOTIC_MAP/BWA/UNIFIED_GENOTYPER_BAMS/ATCACG_merged_sorted_markDup_indelRealign.bam > ../data/ATCACG_merged_sorted_markDup_indelRealign.unmapped.bam\n",
      "samtools view -@ 3 -f 12 -b /n/projects/aodell/A_MARMORATA_MEIOTIC_MAP/BWA/UNIFIED_GENOTYPER_BAMS/ACAGTG_merged_sorted_markDup_indelRealign.bam > ../data/ACAGTG_merged_sorted_markDup_indelRealign.unmapped.bam\n",
      "samtools view -@ 3 -f 12 -b /n/projects/aodell/A_MARMORATA_MEIOTIC_MAP/BWA/UNIFIED_GENOTYPER_BAMS/GCCAAT_merged_sorted_markDup_indelRealign.bam > ../data/GCCAAT_merged_sorted_markDup_indelRealign.unmapped.bam\n",
      "samtools view -@ 3 -f 12 -b /n/projects/aodell/A_MARMORATA_MEIOTIC_MAP/BWA/UNIFIED_GENOTYPER_BAMS/CTTGTA_merged_sorted_markDup_indelRealign.bam > ../data/CTTGTA_merged_sorted_markDup_indelRealign.unmapped.bam\n",
      "samtools view -@ 3 -f 12 -b /n/projects/aodell/A_MARMORATA_MEIOTIC_MAP/BWA/UNIFIED_GENOTYPER_BAMS/CGATGT_merged_sorted_markDup_indelRealign.bam > ../data/CGATGT_merged_sorted_markDup_indelRealign.unmapped.bam\n",
      "samtools view -@ 3 -f 12 -b /n/projects/aodell/A_MARMORATA_MEIOTIC_MAP/BWA/UNIFIED_GENOTYPER_BAMS/ACTTGA_merged_sorted_markDup_indelRealign.bam > ../data/ACTTGA_merged_sorted_markDup_indelRealign.unmapped.bam\n",
      "samtools view -@ 3 -f 12 -b /n/projects/aodell/A_MARMORATA_MEIOTIC_MAP/BWA/UNIFIED_GENOTYPER_BAMS/TTAGGC_merged_sorted_markDup_indelRealign.bam > ../data/TTAGGC_merged_sorted_markDup_indelRealign.unmapped.bam\n",
      "samtools view -@ 3 -f 12 -b /n/projects/aodell/A_MARMORATA_MEIOTIC_MAP/BWA/UNIFIED_GENOTYPER_BAMS/TGACCA_merged_sorted_markDup_indelRealign.bam > ../data/TGACCA_merged_sorted_markDup_indelRealign.unmapped.bam\n",
      "samtools view -@ 3 -f 12 -b /n/projects/aodell/A_MARMORATA_MEIOTIC_MAP/BWA/UNIFIED_GENOTYPER_BAMS/CAGATC_merged_sorted_markDup_indelRealign.bam > ../data/CAGATC_merged_sorted_markDup_indelRealign.unmapped.bam\n"
     ]
    }
   ],
   "source": [
    "%%bash\n",
    "cat ../bin/extract_unmapped.txt\n",
    "#nohup parallel --no-notice -j 27 :::: ../bin/extract_unmapped.txt &> ../bin/extract_unmapped.out &"
   ]
  },
  {
   "cell_type": "code",
   "execution_count": 28,
   "metadata": {
    "ExecuteTime": {
     "end_time": "2017-10-23T15:35:28.475071Z",
     "start_time": "2017-10-23T15:35:28.398895Z"
    },
    "collapsed": true
   },
   "outputs": [],
   "source": [
    "sexPathsDict = {}\n",
    "with open('../bin/merge_sexes.txt','w') as fw:\n",
    "    male = []\n",
    "    female = []\n",
    "    for sample_name in unmappedPathsDict:\n",
    "        if sampleToSexDict[sample_name]=='M':\n",
    "            male.append(unmappedPathsDict[sample_name])\n",
    "        elif sampleToSexDict[sample_name]=='F':\n",
    "            female.append(unmappedPathsDict[sample_name])\n",
    "        else:\n",
    "            pass\n",
    "\n",
    "            \n",
    "    male_bam = '../data/male_unmapped.bam'\n",
    "    female_bam = '../data/female_unmapped.bam'\n",
    "    command = 'samtools merge -f {} {}'.format(male_bam, ' '.join(male))\n",
    "    command2 = 'samtools merge -f {} {}'.format(female_bam, ' '.join(female))\n",
    "    sexPathsDict['M'] = female_bam\n",
    "    sexPathsDict['F'] = male_bam\n",
    "    \n",
    "    fw.write(command + '\\n' + command2 + '\\n')\n",
    "\n"
   ]
  },
  {
   "cell_type": "code",
   "execution_count": 29,
   "metadata": {
    "ExecuteTime": {
     "end_time": "2017-10-23T15:35:28.500780Z",
     "start_time": "2017-10-23T15:35:28.476842Z"
    }
   },
   "outputs": [
    {
     "name": "stdout",
     "output_type": "stream",
     "text": [
      "samtools merge -f ../data/male_unmapped.bam ../data/ATCACG_merged_sorted_markDup_indelRealign.unmapped.bam ../data/GCCAAT_merged_sorted_markDup_indelRealign.unmapped.bam ../data/CGATGT_merged_sorted_markDup_indelRealign.unmapped.bam ../data/CAGATC_merged_sorted_markDup_indelRealign.unmapped.bam\n",
      "samtools merge -f ../data/female_unmapped.bam ../data/ACAGTG_merged_sorted_markDup_indelRealign.unmapped.bam ../data/CTTGTA_merged_sorted_markDup_indelRealign.unmapped.bam ../data/TTAGGC_merged_sorted_markDup_indelRealign.unmapped.bam ../data/TGACCA_merged_sorted_markDup_indelRealign.unmapped.bam\n"
     ]
    }
   ],
   "source": [
    "%%bash\n",
    "cat ../bin/merge_sexes.txt\n",
    "#nohup parallel --no-notice -j 2 :::: ../bin/merge_sexes.txt &> ../bin/merge_sexes.out &"
   ]
  },
  {
   "cell_type": "markdown",
   "metadata": {},
   "source": [
    "## Alignments Stats for Assemblies"
   ]
  },
  {
   "cell_type": "markdown",
   "metadata": {},
   "source": [
    "Download Picard Tools for insert statistics."
   ]
  },
  {
   "cell_type": "code",
   "execution_count": 30,
   "metadata": {
    "ExecuteTime": {
     "end_time": "2017-10-23T15:35:28.524539Z",
     "start_time": "2017-10-23T15:35:28.502876Z"
    },
    "collapsed": true
   },
   "outputs": [],
   "source": [
    "%%bash\n",
    "cd ../bin\n",
    "#git clone https://github.com/broadinstitute/picard.git\n",
    "#cd picard/\n",
    "#./gradlew shadowJar\n",
    "#java -jar build/libs/picard.jar"
   ]
  },
  {
   "cell_type": "markdown",
   "metadata": {
    "ExecuteTime": {
     "end_time": "2017-10-17T21:52:56.613902Z",
     "start_time": "2017-10-17T21:52:56.606905Z"
    }
   },
   "source": [
    "Sub sample alignments to gather insert size metrics"
   ]
  },
  {
   "cell_type": "code",
   "execution_count": 31,
   "metadata": {
    "ExecuteTime": {
     "end_time": "2017-10-23T15:35:28.550241Z",
     "start_time": "2017-10-23T15:35:28.528375Z"
    }
   },
   "outputs": [
    {
     "data": {
      "text/plain": [
       "{'A.tig_17115': '/n/projects/aodell/A_MARMORATA_MEIOTIC_MAP/BWA/UNIFIED_GENOTYPER_BAMS/CGATGT_merged_sorted_markDup_indelRealign.bam',\n",
       " 'A.tig_17118': '/n/projects/aodell/A_MARMORATA_MEIOTIC_MAP/BWA/UNIFIED_GENOTYPER_BAMS/TGACCA_merged_sorted_markDup_indelRealign.bam',\n",
       " 'A.tig_21321': '/n/projects/aodell/A_MARMORATA_MEIOTIC_MAP/BWA/UNIFIED_GENOTYPER_BAMS/ACAGTG_merged_sorted_markDup_indelRealign.bam',\n",
       " 'A.tig_21322': '/n/projects/aodell/A_MARMORATA_MEIOTIC_MAP/BWA/UNIFIED_GENOTYPER_BAMS/GCCAAT_merged_sorted_markDup_indelRealign.bam',\n",
       " 'A.tig_21323': '/n/projects/aodell/A_MARMORATA_MEIOTIC_MAP/BWA/UNIFIED_GENOTYPER_BAMS/CAGATC_merged_sorted_markDup_indelRealign.bam',\n",
       " 'A.tig_21544': '/n/projects/aodell/A_MARMORATA_MEIOTIC_MAP/BWA/UNIFIED_GENOTYPER_BAMS/CTTGTA_merged_sorted_markDup_indelRealign.bam',\n",
       " 'A.tig_21545': '/n/projects/aodell/A_MARMORATA_MEIOTIC_MAP/BWA/UNIFIED_GENOTYPER_BAMS/ATCACG_merged_sorted_markDup_indelRealign.bam',\n",
       " 'A.tig_21546': '/n/projects/aodell/A_MARMORATA_MEIOTIC_MAP/BWA/UNIFIED_GENOTYPER_BAMS/TTAGGC_merged_sorted_markDup_indelRealign.bam',\n",
       " 'A.tig_22151': '/n/projects/aodell/A_MARMORATA_MEIOTIC_MAP/BWA/UNIFIED_GENOTYPER_BAMS/ACTTGA_merged_sorted_markDup_indelRealign.bam'}"
      ]
     },
     "execution_count": 31,
     "metadata": {},
     "output_type": "execute_result"
    }
   ],
   "source": [
    "alignmentPathsDict = {indexToSampleDict[os.path.basename(path).split('_')[0]]:path for path in alignmentPaths}\n",
    "alignmentPathsDict"
   ]
  },
  {
   "cell_type": "code",
   "execution_count": 32,
   "metadata": {
    "ExecuteTime": {
     "end_time": "2017-10-23T15:35:28.623965Z",
     "start_time": "2017-10-23T15:35:28.552913Z"
    }
   },
   "outputs": [
    {
     "name": "stdout",
     "output_type": "stream",
     "text": [
      "samtools view -@ 2 -b -F 4 -s 0.001351 /n/projects/aodell/A_MARMORATA_MEIOTIC_MAP/BWA/UNIFIED_GENOTYPER_BAMS/ATCACG_merged_sorted_markDup_indelRealign.bam > ../data/ATCACG_merged_sorted_markDup_indelRealign.250kSub.bam\n",
      "samtools view -@ 2 -b -F 4 -s 0.002053 /n/projects/aodell/A_MARMORATA_MEIOTIC_MAP/BWA/UNIFIED_GENOTYPER_BAMS/ACAGTG_merged_sorted_markDup_indelRealign.bam > ../data/ACAGTG_merged_sorted_markDup_indelRealign.250kSub.bam\n",
      "samtools view -@ 2 -b -F 4 -s 0.001658 /n/projects/aodell/A_MARMORATA_MEIOTIC_MAP/BWA/UNIFIED_GENOTYPER_BAMS/GCCAAT_merged_sorted_markDup_indelRealign.bam > ../data/GCCAAT_merged_sorted_markDup_indelRealign.250kSub.bam\n",
      "samtools view -@ 2 -b -F 4 -s 0.001214 /n/projects/aodell/A_MARMORATA_MEIOTIC_MAP/BWA/UNIFIED_GENOTYPER_BAMS/CTTGTA_merged_sorted_markDup_indelRealign.bam > ../data/CTTGTA_merged_sorted_markDup_indelRealign.250kSub.bam\n",
      "samtools view -@ 2 -b -F 4 -s 0.001092 /n/projects/aodell/A_MARMORATA_MEIOTIC_MAP/BWA/UNIFIED_GENOTYPER_BAMS/CGATGT_merged_sorted_markDup_indelRealign.bam > ../data/CGATGT_merged_sorted_markDup_indelRealign.250kSub.bam\n",
      "samtools view -@ 2 -b -F 4 -s 0.000886 /n/projects/aodell/A_MARMORATA_MEIOTIC_MAP/BWA/UNIFIED_GENOTYPER_BAMS/TTAGGC_merged_sorted_markDup_indelRealign.bam > ../data/TTAGGC_merged_sorted_markDup_indelRealign.250kSub.bam\n",
      "samtools view -@ 2 -b -F 4 -s 0.001395 /n/projects/aodell/A_MARMORATA_MEIOTIC_MAP/BWA/UNIFIED_GENOTYPER_BAMS/TGACCA_merged_sorted_markDup_indelRealign.bam > ../data/TGACCA_merged_sorted_markDup_indelRealign.250kSub.bam\n",
      "samtools view -@ 2 -b -F 4 -s 0.001295 /n/projects/aodell/A_MARMORATA_MEIOTIC_MAP/BWA/UNIFIED_GENOTYPER_BAMS/CAGATC_merged_sorted_markDup_indelRealign.bam > ../data/CAGATC_merged_sorted_markDup_indelRealign.250kSub.bam\n"
     ]
    },
    {
     "data": {
      "text/plain": [
       "{'F': ['../data/ACAGTG_merged_sorted_markDup_indelRealign.250kSub.bam',\n",
       "  '../data/CTTGTA_merged_sorted_markDup_indelRealign.250kSub.bam',\n",
       "  '../data/TTAGGC_merged_sorted_markDup_indelRealign.250kSub.bam',\n",
       "  '../data/TGACCA_merged_sorted_markDup_indelRealign.250kSub.bam'],\n",
       " 'M': ['../data/ATCACG_merged_sorted_markDup_indelRealign.250kSub.bam',\n",
       "  '../data/GCCAAT_merged_sorted_markDup_indelRealign.250kSub.bam',\n",
       "  '../data/CGATGT_merged_sorted_markDup_indelRealign.250kSub.bam',\n",
       "  '../data/CAGATC_merged_sorted_markDup_indelRealign.250kSub.bam']}"
      ]
     },
     "execution_count": 32,
     "metadata": {},
     "output_type": "execute_result"
    }
   ],
   "source": [
    "sexSubPathsDict = {'F':[], 'M':[]}\n",
    "\n",
    "with open('../bin/sub_all_sexes.txt','w') as fw:\n",
    "    for sample_name in alignmentPathsDict:\n",
    "        if sampleToSexDict[sample_name]=='M' or sampleToSexDict[sample_name]=='F':\n",
    "            mapped_reads = flagstatDF[flagstatDF['sample_name'] == sample_name]['reads_mapped'].iloc[0]\n",
    "            perc = round(250e3/mapped_reads,6)\n",
    "            out_bam = '../data/' + os.path.basename(alignmentPathsDict[sample_name]).replace('.bam','.250kSub.bam')\n",
    "            command = 'samtools view -@ 2 -b -F 4 -s {} {} > {}'.format(perc, alignmentPathsDict[sample_name], out_bam)\n",
    "            print(command)\n",
    "            \n",
    "            fw.write(command + '\\n')\n",
    "            sexSubPathsDict[sampleToSexDict[sample_name]].append(out_bam)\n",
    "            \n",
    "sexSubPathsDict   "
   ]
  },
  {
   "cell_type": "code",
   "execution_count": 33,
   "metadata": {
    "ExecuteTime": {
     "end_time": "2017-10-23T15:35:28.649357Z",
     "start_time": "2017-10-23T15:35:28.625746Z"
    }
   },
   "outputs": [
    {
     "name": "stdout",
     "output_type": "stream",
     "text": [
      "samtools view -@ 2 -b -F 4 -s 0.001351 /n/projects/aodell/A_MARMORATA_MEIOTIC_MAP/BWA/UNIFIED_GENOTYPER_BAMS/ATCACG_merged_sorted_markDup_indelRealign.bam > ../data/ATCACG_merged_sorted_markDup_indelRealign.250kSub.bam\n",
      "samtools view -@ 2 -b -F 4 -s 0.002053 /n/projects/aodell/A_MARMORATA_MEIOTIC_MAP/BWA/UNIFIED_GENOTYPER_BAMS/ACAGTG_merged_sorted_markDup_indelRealign.bam > ../data/ACAGTG_merged_sorted_markDup_indelRealign.250kSub.bam\n",
      "samtools view -@ 2 -b -F 4 -s 0.001658 /n/projects/aodell/A_MARMORATA_MEIOTIC_MAP/BWA/UNIFIED_GENOTYPER_BAMS/GCCAAT_merged_sorted_markDup_indelRealign.bam > ../data/GCCAAT_merged_sorted_markDup_indelRealign.250kSub.bam\n",
      "samtools view -@ 2 -b -F 4 -s 0.001214 /n/projects/aodell/A_MARMORATA_MEIOTIC_MAP/BWA/UNIFIED_GENOTYPER_BAMS/CTTGTA_merged_sorted_markDup_indelRealign.bam > ../data/CTTGTA_merged_sorted_markDup_indelRealign.250kSub.bam\n",
      "samtools view -@ 2 -b -F 4 -s 0.001092 /n/projects/aodell/A_MARMORATA_MEIOTIC_MAP/BWA/UNIFIED_GENOTYPER_BAMS/CGATGT_merged_sorted_markDup_indelRealign.bam > ../data/CGATGT_merged_sorted_markDup_indelRealign.250kSub.bam\n",
      "samtools view -@ 2 -b -F 4 -s 0.000886 /n/projects/aodell/A_MARMORATA_MEIOTIC_MAP/BWA/UNIFIED_GENOTYPER_BAMS/TTAGGC_merged_sorted_markDup_indelRealign.bam > ../data/TTAGGC_merged_sorted_markDup_indelRealign.250kSub.bam\n",
      "samtools view -@ 2 -b -F 4 -s 0.001395 /n/projects/aodell/A_MARMORATA_MEIOTIC_MAP/BWA/UNIFIED_GENOTYPER_BAMS/TGACCA_merged_sorted_markDup_indelRealign.bam > ../data/TGACCA_merged_sorted_markDup_indelRealign.250kSub.bam\n",
      "samtools view -@ 2 -b -F 4 -s 0.001295 /n/projects/aodell/A_MARMORATA_MEIOTIC_MAP/BWA/UNIFIED_GENOTYPER_BAMS/CAGATC_merged_sorted_markDup_indelRealign.bam > ../data/CAGATC_merged_sorted_markDup_indelRealign.250kSub.bam\n"
     ]
    }
   ],
   "source": [
    "%%bash\n",
    "cat ../bin/sub_all_sexes.txt\n",
    "#nohup parallel --no-notice -j 16 :::: ../bin/sub_all_sexes.txt &> ../bin/sub_all_sexes.out &"
   ]
  },
  {
   "cell_type": "markdown",
   "metadata": {},
   "source": [
    "Merge the subsampled alignments."
   ]
  },
  {
   "cell_type": "code",
   "execution_count": 34,
   "metadata": {
    "ExecuteTime": {
     "end_time": "2017-10-23T15:35:28.655769Z",
     "start_time": "2017-10-23T15:35:28.651389Z"
    },
    "collapsed": true
   },
   "outputs": [],
   "source": [
    "subSexMergeCommand1 = 'samtools merge -@ 8 -f ../data/subSexMale.bam {}'.format(' '.join(sexSubPathsDict['M']))\n",
    "subSexMergeCommand2 = 'samtools merge -@ 8 -f ../data/subSexFemale.bam {}'.format(' '.join(sexSubPathsDict['F']))"
   ]
  },
  {
   "cell_type": "code",
   "execution_count": 35,
   "metadata": {
    "ExecuteTime": {
     "end_time": "2017-10-23T15:35:28.707522Z",
     "start_time": "2017-10-23T15:35:28.657596Z"
    }
   },
   "outputs": [
    {
     "name": "stdout",
     "output_type": "stream",
     "text": [
      "samtools merge -@ 8 -f ../data/subSexMale.bam ../data/ATCACG_merged_sorted_markDup_indelRealign.250kSub.bam ../data/GCCAAT_merged_sorted_markDup_indelRealign.250kSub.bam ../data/CGATGT_merged_sorted_markDup_indelRealign.250kSub.bam ../data/CAGATC_merged_sorted_markDup_indelRealign.250kSub.bam\n",
      "samtools merge -@ 8 -f ../data/subSexFemale.bam ../data/ACAGTG_merged_sorted_markDup_indelRealign.250kSub.bam ../data/CTTGTA_merged_sorted_markDup_indelRealign.250kSub.bam ../data/TTAGGC_merged_sorted_markDup_indelRealign.250kSub.bam ../data/TGACCA_merged_sorted_markDup_indelRealign.250kSub.bam\n"
     ]
    }
   ],
   "source": [
    "%%bash -s \"$subSexMergeCommand1\" \"$subSexMergeCommand2 \"\n",
    "echo $1\n",
    "echo $2\n",
    "#eval $1\n",
    "#eval $2"
   ]
  },
  {
   "cell_type": "markdown",
   "metadata": {},
   "source": [
    "Run Picard Tools on the merged subsampled alignments."
   ]
  },
  {
   "cell_type": "code",
   "execution_count": 36,
   "metadata": {
    "ExecuteTime": {
     "end_time": "2017-10-23T15:35:28.753461Z",
     "start_time": "2017-10-23T15:35:28.712163Z"
    },
    "collapsed": true
   },
   "outputs": [],
   "source": [
    "%%bash\n",
    "#java -jar ../bin/picard/build/libs/picard.jar CollectInsertSizeMetrics I=../data/subSexMale.bam O=../data/subSexMale.insert_metrics.txt H=../data/subSexMale.insert_metrics.hist.pdf M=0.05"
   ]
  },
  {
   "cell_type": "code",
   "execution_count": 37,
   "metadata": {
    "ExecuteTime": {
     "end_time": "2017-10-23T15:35:28.777206Z",
     "start_time": "2017-10-23T15:35:28.757207Z"
    },
    "collapsed": true
   },
   "outputs": [],
   "source": [
    "%%bash\n",
    "#java -jar ../bin/picard/build/libs/picard.jar CollectInsertSizeMetrics I=../data/../data/subSexFemale.bam O=../data/subSexFemale.insert_metrics.txt H=../data/subSexFemale.insert_metrics.hist.pdf M=0.05\n"
   ]
  },
  {
   "cell_type": "markdown",
   "metadata": {},
   "source": [
    "Plots of insert size and metrics output by picard tools."
   ]
  },
  {
   "cell_type": "code",
   "execution_count": 38,
   "metadata": {
    "ExecuteTime": {
     "end_time": "2017-10-23T15:35:29.303851Z",
     "start_time": "2017-10-23T15:35:28.780483Z"
    }
   },
   "outputs": [
    {
     "data": {
      "image/png": "[encoded data removed]",
      "text/plain": [
       "<wand.image.Image: 22e6527 'PDF' (504x504)>"
      ]
     },
     "execution_count": 38,
     "metadata": {},
     "output_type": "execute_result"
    }
   ],
   "source": [
    "WImage(filename='../data/../data/subSexMale.insert_metrics.hist.pdf')"
   ]
  },
  {
   "cell_type": "code",
   "execution_count": 39,
   "metadata": {
    "ExecuteTime": {
     "end_time": "2017-10-23T15:35:29.699364Z",
     "start_time": "2017-10-23T15:35:29.306326Z"
    }
   },
   "outputs": [
    {
     "data": {
      "image/png": "[encoded data removed]",
      "text/plain": [
       "<wand.image.Image: c9878b0 'PDF' (504x504)>"
      ]
     },
     "execution_count": 39,
     "metadata": {},
     "output_type": "execute_result"
    }
   ],
   "source": [
    "WImage(filename='../data/subSexFemale.insert_metrics.hist.pdf')"
   ]
  },
  {
   "cell_type": "code",
   "execution_count": 40,
   "metadata": {
    "ExecuteTime": {
     "end_time": "2017-10-23T15:35:29.741164Z",
     "start_time": "2017-10-23T15:35:29.701857Z"
    }
   },
   "outputs": [
    {
     "name": "stdout",
     "output_type": "stream",
     "text": [
      "MEDIAN_INSERT_SIZE  MEDIAN_ABSOLUTE_DEVIATION  MIN_INSERT_SIZE  MAX_INSERT_SIZE  MEAN_INSERT_SIZE  STANDARD_DEVIATION\n",
      "535                 31                         2                72207764         523.151352        86.359569\n"
     ]
    }
   ],
   "source": [
    "%%bash\n",
    "grep -A 2 \"## METRICS CLASS\" ../data/subSexFemale.insert_metrics.txt | sed 1d | cut -f 1-6| column -t"
   ]
  },
  {
   "cell_type": "code",
   "execution_count": 41,
   "metadata": {
    "ExecuteTime": {
     "end_time": "2017-10-23T15:35:29.778508Z",
     "start_time": "2017-10-23T15:35:29.745815Z"
    }
   },
   "outputs": [
    {
     "name": "stdout",
     "output_type": "stream",
     "text": [
      "MEDIAN_INSERT_SIZE  MEDIAN_ABSOLUTE_DEVIATION  MIN_INSERT_SIZE  MAX_INSERT_SIZE  MEAN_INSERT_SIZE  STANDARD_DEVIATION\n",
      "538                 30                         2                72335463         531.725321        72.614146\n"
     ]
    }
   ],
   "source": [
    "%%bash\n",
    "grep -A 2 \"## METRICS CLASS\" ../data/subSexMale.insert_metrics.txt | sed 1d | cut -f 1-6| column -t"
   ]
  },
  {
   "cell_type": "code",
   "execution_count": 42,
   "metadata": {
    "ExecuteTime": {
     "end_time": "2017-10-23T15:35:29.784147Z",
     "start_time": "2017-10-23T15:35:29.780722Z"
    },
    "collapsed": true
   },
   "outputs": [],
   "source": [
    "femaleInsertSize = 535\n",
    "maleInsertSize = 538"
   ]
  },
  {
   "cell_type": "markdown",
   "metadata": {},
   "source": [
    "## Assemblying Unmapped Reads 127-mer"
   ]
  },
  {
   "cell_type": "code",
   "execution_count": 188,
   "metadata": {
    "ExecuteTime": {
     "end_time": "2017-10-17T16:48:55.163411Z",
     "start_time": "2017-10-17T16:48:55.137343Z"
    },
    "collapsed": true,
    "editable": false,
    "run_control": {
     "frozen": true
    }
   },
   "outputs": [],
   "source": [
    "%%bash\n",
    "cd ../bin\n",
    "wget https://sourceforge.net/projects/soapdenovo2/files/SOAPdenovo2/bin/r240/SOAPdenovo2-bin-LINUX-generic-r240.tgz"
   ]
  },
  {
   "cell_type": "code",
   "execution_count": 187,
   "metadata": {
    "ExecuteTime": {
     "end_time": "2017-10-17T16:48:40.603243Z",
     "start_time": "2017-10-17T16:48:40.441884Z"
    },
    "collapsed": true,
    "editable": false,
    "run_control": {
     "frozen": true
    }
   },
   "outputs": [],
   "source": [
    "%%bash\n",
    "cd ../bin\n",
    "tar -zxf SOAPdenovo2-bin-LINUX-generic-r240.tgz"
   ]
  },
  {
   "cell_type": "markdown",
   "metadata": {},
   "source": [
    "#### All Male Unmapped Reads Assembly 127-mer"
   ]
  },
  {
   "cell_type": "markdown",
   "metadata": {},
   "source": [
    "First I need to make the config file for the SOAP run. I copied the text from the manual and modified it in the next cell."
   ]
  },
  {
   "cell_type": "code",
   "execution_count": 43,
   "metadata": {
    "ExecuteTime": {
     "end_time": "2017-10-23T15:35:29.840468Z",
     "start_time": "2017-10-23T15:35:29.785882Z"
    }
   },
   "outputs": [
    {
     "name": "stdout",
     "output_type": "stream",
     "text": [
      "/n/projects/dut/a_marmorata/dnaseq_sex_determ/data/ACAGTG_merged_sorted_markDup_indelRealign.250kSub.bam\n",
      "/n/projects/dut/a_marmorata/dnaseq_sex_determ/data/ACAGTG_merged_sorted_markDup_indelRealign.unmapped.bam\n",
      "/n/projects/dut/a_marmorata/dnaseq_sex_determ/data/ACTTGA_merged_sorted_markDup_indelRealign.unmapped.bam\n",
      "/n/projects/dut/a_marmorata/dnaseq_sex_determ/data/ATCACG_merged_sorted_markDup_indelRealign.250kSub.bam\n",
      "/n/projects/dut/a_marmorata/dnaseq_sex_determ/data/ATCACG_merged_sorted_markDup_indelRealign.unmapped.bam\n",
      "/n/projects/dut/a_marmorata/dnaseq_sex_determ/data/A.tig_17115_M_rM.bam\n",
      "/n/projects/dut/a_marmorata/dnaseq_sex_determ/data/A.tig_17118_F_rM.bam\n",
      "/n/projects/dut/a_marmorata/dnaseq_sex_determ/data/A.tig_21321_F_rM.bam\n",
      "/n/projects/dut/a_marmorata/dnaseq_sex_determ/data/A.tig_21322_M_rM.bam\n",
      "/n/projects/dut/a_marmorata/dnaseq_sex_determ/data/A.tig_21323_M_rM.bam\n",
      "/n/projects/dut/a_marmorata/dnaseq_sex_determ/data/A.tig_21544_F_rM.bam\n",
      "/n/projects/dut/a_marmorata/dnaseq_sex_determ/data/A.tig_21545_M_rM.bam\n",
      "/n/projects/dut/a_marmorata/dnaseq_sex_determ/data/A.tig_21546_F_rM.bam\n",
      "/n/projects/dut/a_marmorata/dnaseq_sex_determ/data/CAGATC_merged_sorted_markDup_indelRealign.250kSub.bam\n",
      "/n/projects/dut/a_marmorata/dnaseq_sex_determ/data/CAGATC_merged_sorted_markDup_indelRealign.unmapped.bam\n",
      "/n/projects/dut/a_marmorata/dnaseq_sex_determ/data/CGATGT_merged_sorted_markDup_indelRealign.250kSub.bam\n",
      "/n/projects/dut/a_marmorata/dnaseq_sex_determ/data/CGATGT_merged_sorted_markDup_indelRealign.unmapped.bam\n",
      "/n/projects/dut/a_marmorata/dnaseq_sex_determ/data/CTTGTA_merged_sorted_markDup_indelRealign.250kSub.bam\n",
      "/n/projects/dut/a_marmorata/dnaseq_sex_determ/data/CTTGTA_merged_sorted_markDup_indelRealign.unmapped.bam\n",
      "/n/projects/dut/a_marmorata/dnaseq_sex_determ/data/female_unmapped.bam\n",
      "/n/projects/dut/a_marmorata/dnaseq_sex_determ/data/F_rF.bam\n",
      "/n/projects/dut/a_marmorata/dnaseq_sex_determ/data/F_rM.bam\n",
      "/n/projects/dut/a_marmorata/dnaseq_sex_determ/data/GCCAAT_merged_sorted_markDup_indelRealign.250kSub.bam\n",
      "/n/projects/dut/a_marmorata/dnaseq_sex_determ/data/GCCAAT_merged_sorted_markDup_indelRealign.unmapped.bam\n",
      "/n/projects/dut/a_marmorata/dnaseq_sex_determ/data/male_unmapped.bam\n",
      "/n/projects/dut/a_marmorata/dnaseq_sex_determ/data/M_rF.bam\n",
      "/n/projects/dut/a_marmorata/dnaseq_sex_determ/data/M_rM.bam\n",
      "/n/projects/dut/a_marmorata/dnaseq_sex_determ/data/subSexFemale.bam\n",
      "/n/projects/dut/a_marmorata/dnaseq_sex_determ/data/subSexMale.bam\n",
      "/n/projects/dut/a_marmorata/dnaseq_sex_determ/data/TGACCA_merged_sorted_markDup_indelRealign.250kSub.bam\n",
      "/n/projects/dut/a_marmorata/dnaseq_sex_determ/data/TGACCA_merged_sorted_markDup_indelRealign.unmapped.bam\n",
      "/n/projects/dut/a_marmorata/dnaseq_sex_determ/data/TTAGGC_merged_sorted_markDup_indelRealign.250kSub.bam\n",
      "/n/projects/dut/a_marmorata/dnaseq_sex_determ/data/TTAGGC_merged_sorted_markDup_indelRealign.unmapped.bam\n"
     ]
    }
   ],
   "source": [
    "%%bash\n",
    "cd ../data\n",
    "ls -1 $PWD/*.bam"
   ]
  },
  {
   "cell_type": "code",
   "execution_count": 44,
   "metadata": {
    "ExecuteTime": {
     "end_time": "2017-10-23T15:35:29.875111Z",
     "start_time": "2017-10-23T15:35:29.844761Z"
    }
   },
   "outputs": [
    {
     "name": "stdout",
     "output_type": "stream",
     "text": [
      "/n/projects/dut/a_marmorata/dnaseq_sex_determ/data/malelib/male_unmapped.bam\n"
     ]
    }
   ],
   "source": [
    "%%bash\n",
    "#mkdir ../data/malelib\n",
    "cd ../data/malelib\n",
    "#ln -s ../male_unmapped.bam\n",
    "ls $PWD/*"
   ]
  },
  {
   "cell_type": "code",
   "execution_count": 45,
   "metadata": {
    "ExecuteTime": {
     "end_time": "2017-10-23T15:35:29.951612Z",
     "start_time": "2017-10-23T15:35:29.877177Z"
    }
   },
   "outputs": [
    {
     "name": "stdout",
     "output_type": "stream",
     "text": [
      "\n",
      "maximal read length\n",
      "max_rd_len=250\n",
      "[LIB]\n",
      "#average insert size\n",
      "avg_ins=538\n",
      "#if sequence needs to be reversed, 1 for forward reverse\n",
      "reverse_seq=1\n",
      "#in which part(s) the reads are used\n",
      "asm_flags=3\n",
      "#use only first 100 bps of each read\n",
      "rd_len_cutoff=250\n",
      "#in which order the reads are used while scaffolding\n",
      "rank=1\n",
      "# cutoff of pair number for a reliable connection (at least 3 for short insert size)\n",
      "pair_num_cutoff=3\n",
      "#minimum aligned length to contigs for a reliable read location (at least 32 for short insert size)\n",
      "map_len=32\n",
      "#bam file for single or paired reads, reads 1 in paired reads file should always be followed by reads 2\n",
      "#NOTE: If a read in bam file fails platform/vendor quality checks(the flag field 0x0200 is set), itself and it's paired read would be ignored.\n",
      "b=/n/projects/dut/a_marmorata/dnaseq_sex_determ/data/malelib/male_unmapped.bam\n",
      "\n"
     ]
    }
   ],
   "source": [
    "maleConfig =\"\"\"\n",
    "maximal read length\n",
    "max_rd_len=250\n",
    "[LIB]\n",
    "#average insert size\n",
    "avg_ins=538\n",
    "#if sequence needs to be reversed, 1 for forward reverse\n",
    "reverse_seq=1\n",
    "#in which part(s) the reads are used\n",
    "asm_flags=3\n",
    "#use only first 100 bps of each read\n",
    "rd_len_cutoff=250\n",
    "#in which order the reads are used while scaffolding\n",
    "rank=1\n",
    "# cutoff of pair number for a reliable connection (at least 3 for short insert size)\n",
    "pair_num_cutoff=3\n",
    "#minimum aligned length to contigs for a reliable read location (at least 32 for short insert size)\n",
    "map_len=32\n",
    "#bam file for single or paired reads, reads 1 in paired reads file should always be followed by reads 2\n",
    "#NOTE: If a read in bam file fails platform/vendor quality checks(the flag field 0x0200 is set), itself and it's paired read would be ignored.\n",
    "b=/n/projects/dut/a_marmorata/dnaseq_sex_determ/data/malelib/male_unmapped.bam\n",
    "\"\"\"\n",
    "with open('../bin/male_Assembly.config','w') as fw:\n",
    "    fw.write(maleConfig)\n",
    "print(maleConfig)"
   ]
  },
  {
   "cell_type": "code",
   "execution_count": 46,
   "metadata": {
    "ExecuteTime": {
     "end_time": "2017-10-23T15:35:29.981827Z",
     "start_time": "2017-10-23T15:35:29.953479Z"
    },
    "collapsed": true
   },
   "outputs": [],
   "source": [
    "%%bash\n",
    "cd ../bin/SOAPdenovo2-bin-LINUX-generic-r240\n",
    "#nohup ./SOAPdenovo-127mer all -s ../male_Assembly.config -K 127 -R -p 20 -o male_assembly 1>ass.log 2>ass.err &\n",
    "## after the assembly finished...\n",
    "#mkdir ../../data/male_assembly\n",
    "#mv male_assembly* ../../data/male_assembly/\n",
    "#mv ass* ../../data/male_assembly/"
   ]
  },
  {
   "cell_type": "markdown",
   "metadata": {},
   "source": [
    "##### All Male Kmer Freq"
   ]
  },
  {
   "cell_type": "code",
   "execution_count": 47,
   "metadata": {
    "ExecuteTime": {
     "end_time": "2017-10-23T15:35:30.017767Z",
     "start_time": "2017-10-23T15:35:29.986096Z"
    }
   },
   "outputs": [
    {
     "data": {
      "text/html": [
       "<div>\n",
       "<style>\n",
       "    .dataframe thead tr:only-child th {\n",
       "        text-align: right;\n",
       "    }\n",
       "\n",
       "    .dataframe thead th {\n",
       "        text-align: left;\n",
       "    }\n",
       "\n",
       "    .dataframe tbody tr th {\n",
       "        vertical-align: top;\n",
       "    }\n",
       "</style>\n",
       "<table border=\"1\" class=\"dataframe\">\n",
       "  <thead>\n",
       "    <tr style=\"text-align: right;\">\n",
       "      <th></th>\n",
       "      <th>Frequency</th>\n",
       "      <th>Number of Distinct Kmers</th>\n",
       "    </tr>\n",
       "  </thead>\n",
       "  <tbody>\n",
       "    <tr>\n",
       "      <th>250</th>\n",
       "      <td>251</td>\n",
       "      <td>1</td>\n",
       "    </tr>\n",
       "    <tr>\n",
       "      <th>251</th>\n",
       "      <td>252</td>\n",
       "      <td>111</td>\n",
       "    </tr>\n",
       "    <tr>\n",
       "      <th>252</th>\n",
       "      <td>253</td>\n",
       "      <td>0</td>\n",
       "    </tr>\n",
       "    <tr>\n",
       "      <th>253</th>\n",
       "      <td>254</td>\n",
       "      <td>0</td>\n",
       "    </tr>\n",
       "    <tr>\n",
       "      <th>254</th>\n",
       "      <td>255</td>\n",
       "      <td>0</td>\n",
       "    </tr>\n",
       "  </tbody>\n",
       "</table>\n",
       "</div>"
      ],
      "text/plain": [
       "     Frequency  Number of Distinct Kmers\n",
       "250        251                         1\n",
       "251        252                       111\n",
       "252        253                         0\n",
       "253        254                         0\n",
       "254        255                         0"
      ]
     },
     "execution_count": 47,
     "metadata": {},
     "output_type": "execute_result"
    }
   ],
   "source": [
    "maleKmerFreqDF= pd.read_csv('../data/male_assembly/male_assembly.kmerFreq', sep ='\\t', names=['Number of Distinct Kmers'])\n",
    "maleKmerFreqDF = maleKmerFreqDF.reset_index()\n",
    "maleKmerFreqDF.columns = ['Frequency', 'Number of Distinct Kmers']\n",
    "maleKmerFreqDF['Frequency'] = maleKmerFreqDF['Frequency'] + 1 \n",
    "maleKmerFreqDF.head()\n",
    "maleKmerFreqDF.tail()"
   ]
  },
  {
   "cell_type": "code",
   "execution_count": 48,
   "metadata": {
    "ExecuteTime": {
     "end_time": "2017-10-23T15:35:30.982952Z",
     "start_time": "2017-10-23T15:35:30.019672Z"
    }
   },
   "outputs": [
    {
     "data": {
      "text/plain": [
       "<matplotlib.text.Text at 0x7f30cbcf1ef0>"
      ]
     },
     "execution_count": 48,
     "metadata": {},
     "output_type": "execute_result"
    },
    {
     "data": {
      "image/png": "[encoded data removed]",
      "text/plain": [
       "<matplotlib.figure.Figure at 0x7f30cbd31fd0>"
      ]
     },
     "metadata": {},
     "output_type": "display_data"
    }
   ],
   "source": [
    "ax = maleKmerFreqDF[(maleKmerFreqDF['Frequency'] > 2) & (maleKmerFreqDF['Frequency'] < 100)].plot(x='Frequency', \n",
    "                                                                                                  y='Number of Distinct Kmers', \n",
    "                                                                                                  kind='bar',\n",
    "                                                                                                  figsize=notebook_fig_size,\n",
    "                                                                                                  fontsize=major_f_size,\n",
    "                                                                                                  legend=False,\n",
    "                                                                                                  title='Male 127-mer Assembly',\n",
    "                                                                                                  color='green')\n",
    "ax.set_xticks(np.arange(3,102,3));\n",
    "ax.set_ylabel('Number of Distinct Kmers')"
   ]
  },
  {
   "cell_type": "markdown",
   "metadata": {
    "ExecuteTime": {
     "end_time": "2017-10-18T20:49:41.575226Z",
     "start_time": "2017-10-18T20:49:41.571841Z"
    }
   },
   "source": [
    "##### Scaffold Lengths"
   ]
  },
  {
   "cell_type": "code",
   "execution_count": 49,
   "metadata": {
    "ExecuteTime": {
     "end_time": "2017-10-23T15:35:30.995077Z",
     "start_time": "2017-10-23T15:35:30.984872Z"
    },
    "collapsed": true
   },
   "outputs": [],
   "source": [
    "def ret_fasta_len(fasta_file):\n",
    "    len_list = []\n",
    "    for rec in SeqIO.parse(fasta_file, 'fasta'):\n",
    "        data = {'scaffold':rec.id,\n",
    "               'length':len(rec.seq)}\n",
    "        len_list.append(data)\n",
    "    len_df = pd.DataFrame(len_list)\n",
    "    len_df.sort_values('length')\n",
    "    return len_df"
   ]
  },
  {
   "cell_type": "code",
   "execution_count": 50,
   "metadata": {
    "ExecuteTime": {
     "end_time": "2017-10-23T15:35:31.817536Z",
     "start_time": "2017-10-23T15:35:30.996948Z"
    }
   },
   "outputs": [
    {
     "data": {
      "text/plain": [
       "<matplotlib.text.Text at 0x7f30c73367b8>"
      ]
     },
     "execution_count": 50,
     "metadata": {},
     "output_type": "execute_result"
    },
    {
     "data": {
      "image/png": "[encoded data removed]",
      "text/plain": [
       "<matplotlib.figure.Figure at 0x7f30c7704d30>"
      ]
     },
     "metadata": {},
     "output_type": "display_data"
    }
   ],
   "source": [
    "maleScaffoldLensDF = ret_fasta_len('../data/male_assembly/male_assembly.scafSeq')\n",
    "ax = sns.distplot(maleScaffoldLensDF.length, kde=False)\n",
    "ax.set_title('Male Assembly Scaffold Sizes')"
   ]
  },
  {
   "cell_type": "code",
   "execution_count": 51,
   "metadata": {
    "ExecuteTime": {
     "end_time": "2017-10-23T15:35:31.830737Z",
     "start_time": "2017-10-23T15:35:31.819501Z"
    }
   },
   "outputs": [
    {
     "data": {
      "text/html": [
       "<div>\n",
       "<style>\n",
       "    .dataframe thead tr:only-child th {\n",
       "        text-align: right;\n",
       "    }\n",
       "\n",
       "    .dataframe thead th {\n",
       "        text-align: left;\n",
       "    }\n",
       "\n",
       "    .dataframe tbody tr th {\n",
       "        vertical-align: top;\n",
       "    }\n",
       "</style>\n",
       "<table border=\"1\" class=\"dataframe\">\n",
       "  <thead>\n",
       "    <tr style=\"text-align: right;\">\n",
       "      <th></th>\n",
       "      <th>length</th>\n",
       "      <th>scaffold</th>\n",
       "    </tr>\n",
       "  </thead>\n",
       "  <tbody>\n",
       "    <tr>\n",
       "      <th>33</th>\n",
       "      <td>4646</td>\n",
       "      <td>scaffold34</td>\n",
       "    </tr>\n",
       "    <tr>\n",
       "      <th>35</th>\n",
       "      <td>3760</td>\n",
       "      <td>scaffold36</td>\n",
       "    </tr>\n",
       "    <tr>\n",
       "      <th>3445</th>\n",
       "      <td>2726</td>\n",
       "      <td>C7127</td>\n",
       "    </tr>\n",
       "    <tr>\n",
       "      <th>3444</th>\n",
       "      <td>2525</td>\n",
       "      <td>C7125</td>\n",
       "    </tr>\n",
       "    <tr>\n",
       "      <th>3443</th>\n",
       "      <td>2105</td>\n",
       "      <td>C7123</td>\n",
       "    </tr>\n",
       "  </tbody>\n",
       "</table>\n",
       "</div>"
      ],
      "text/plain": [
       "      length    scaffold\n",
       "33      4646  scaffold34\n",
       "35      3760  scaffold36\n",
       "3445    2726       C7127\n",
       "3444    2525       C7125\n",
       "3443    2105       C7123"
      ]
     },
     "execution_count": 51,
     "metadata": {},
     "output_type": "execute_result"
    }
   ],
   "source": [
    "maleScaffoldLensDF.sort_values('length', ascending=False).head()"
   ]
  },
  {
   "cell_type": "markdown",
   "metadata": {},
   "source": [
    "#### All Female Unmapped Reads Assembly"
   ]
  },
  {
   "cell_type": "markdown",
   "metadata": {},
   "source": [
    "First I need to make the config file for the SOAP run. I copied the text from the manual and modified it in the next cell."
   ]
  },
  {
   "cell_type": "code",
   "execution_count": 52,
   "metadata": {
    "ExecuteTime": {
     "end_time": "2017-10-23T15:35:31.884155Z",
     "start_time": "2017-10-23T15:35:31.832522Z"
    }
   },
   "outputs": [
    {
     "name": "stdout",
     "output_type": "stream",
     "text": [
      "/n/projects/dut/a_marmorata/dnaseq_sex_determ/data/ACAGTG_merged_sorted_markDup_indelRealign.250kSub.bam\n",
      "/n/projects/dut/a_marmorata/dnaseq_sex_determ/data/ACAGTG_merged_sorted_markDup_indelRealign.unmapped.bam\n",
      "/n/projects/dut/a_marmorata/dnaseq_sex_determ/data/ACTTGA_merged_sorted_markDup_indelRealign.unmapped.bam\n",
      "/n/projects/dut/a_marmorata/dnaseq_sex_determ/data/ATCACG_merged_sorted_markDup_indelRealign.250kSub.bam\n",
      "/n/projects/dut/a_marmorata/dnaseq_sex_determ/data/ATCACG_merged_sorted_markDup_indelRealign.unmapped.bam\n",
      "/n/projects/dut/a_marmorata/dnaseq_sex_determ/data/A.tig_17115_M_rM.bam\n",
      "/n/projects/dut/a_marmorata/dnaseq_sex_determ/data/A.tig_17118_F_rM.bam\n",
      "/n/projects/dut/a_marmorata/dnaseq_sex_determ/data/A.tig_21321_F_rM.bam\n",
      "/n/projects/dut/a_marmorata/dnaseq_sex_determ/data/A.tig_21322_M_rM.bam\n",
      "/n/projects/dut/a_marmorata/dnaseq_sex_determ/data/A.tig_21323_M_rM.bam\n",
      "/n/projects/dut/a_marmorata/dnaseq_sex_determ/data/A.tig_21544_F_rM.bam\n",
      "/n/projects/dut/a_marmorata/dnaseq_sex_determ/data/A.tig_21545_M_rM.bam\n",
      "/n/projects/dut/a_marmorata/dnaseq_sex_determ/data/A.tig_21546_F_rM.bam\n",
      "/n/projects/dut/a_marmorata/dnaseq_sex_determ/data/CAGATC_merged_sorted_markDup_indelRealign.250kSub.bam\n",
      "/n/projects/dut/a_marmorata/dnaseq_sex_determ/data/CAGATC_merged_sorted_markDup_indelRealign.unmapped.bam\n",
      "/n/projects/dut/a_marmorata/dnaseq_sex_determ/data/CGATGT_merged_sorted_markDup_indelRealign.250kSub.bam\n",
      "/n/projects/dut/a_marmorata/dnaseq_sex_determ/data/CGATGT_merged_sorted_markDup_indelRealign.unmapped.bam\n",
      "/n/projects/dut/a_marmorata/dnaseq_sex_determ/data/CTTGTA_merged_sorted_markDup_indelRealign.250kSub.bam\n",
      "/n/projects/dut/a_marmorata/dnaseq_sex_determ/data/CTTGTA_merged_sorted_markDup_indelRealign.unmapped.bam\n",
      "/n/projects/dut/a_marmorata/dnaseq_sex_determ/data/female_unmapped.bam\n",
      "/n/projects/dut/a_marmorata/dnaseq_sex_determ/data/F_rF.bam\n",
      "/n/projects/dut/a_marmorata/dnaseq_sex_determ/data/F_rM.bam\n",
      "/n/projects/dut/a_marmorata/dnaseq_sex_determ/data/GCCAAT_merged_sorted_markDup_indelRealign.250kSub.bam\n",
      "/n/projects/dut/a_marmorata/dnaseq_sex_determ/data/GCCAAT_merged_sorted_markDup_indelRealign.unmapped.bam\n",
      "/n/projects/dut/a_marmorata/dnaseq_sex_determ/data/male_unmapped.bam\n",
      "/n/projects/dut/a_marmorata/dnaseq_sex_determ/data/M_rF.bam\n",
      "/n/projects/dut/a_marmorata/dnaseq_sex_determ/data/M_rM.bam\n",
      "/n/projects/dut/a_marmorata/dnaseq_sex_determ/data/subSexFemale.bam\n",
      "/n/projects/dut/a_marmorata/dnaseq_sex_determ/data/subSexMale.bam\n",
      "/n/projects/dut/a_marmorata/dnaseq_sex_determ/data/TGACCA_merged_sorted_markDup_indelRealign.250kSub.bam\n",
      "/n/projects/dut/a_marmorata/dnaseq_sex_determ/data/TGACCA_merged_sorted_markDup_indelRealign.unmapped.bam\n",
      "/n/projects/dut/a_marmorata/dnaseq_sex_determ/data/TTAGGC_merged_sorted_markDup_indelRealign.250kSub.bam\n",
      "/n/projects/dut/a_marmorata/dnaseq_sex_determ/data/TTAGGC_merged_sorted_markDup_indelRealign.unmapped.bam\n"
     ]
    }
   ],
   "source": [
    "%%bash\n",
    "cd ../data\n",
    "ls -1 $PWD/*.bam"
   ]
  },
  {
   "cell_type": "code",
   "execution_count": 53,
   "metadata": {
    "ExecuteTime": {
     "end_time": "2017-10-23T15:35:31.924051Z",
     "start_time": "2017-10-23T15:35:31.889319Z"
    }
   },
   "outputs": [
    {
     "name": "stdout",
     "output_type": "stream",
     "text": [
      "/n/projects/dut/a_marmorata/dnaseq_sex_determ/data/femalelib/female_unmapped.bam\n"
     ]
    }
   ],
   "source": [
    "%%bash\n",
    "#mkdir ../data/femalelib\n",
    "cd ../data/femalelib\n",
    "#ln -s ../female_unmapped.bam\n",
    "ls $PWD/*"
   ]
  },
  {
   "cell_type": "code",
   "execution_count": 54,
   "metadata": {
    "ExecuteTime": {
     "end_time": "2017-10-23T15:35:31.943129Z",
     "start_time": "2017-10-23T15:35:31.926173Z"
    }
   },
   "outputs": [
    {
     "name": "stdout",
     "output_type": "stream",
     "text": [
      "\n",
      "maximal read length\n",
      "max_rd_len=250\n",
      "[LIB]\n",
      "#average insert size\n",
      "avg_ins=538\n",
      "#if sequence needs to be reversed, 1 for forward reverse\n",
      "reverse_seq=1\n",
      "#in which part(s) the reads are used\n",
      "asm_flags=3\n",
      "#use only first 100 bps of each read\n",
      "rd_len_cutoff=250\n",
      "#in which order the reads are used while scaffolding\n",
      "rank=1\n",
      "# cutoff of pair number for a reliable connection (at least 3 for short insert size)\n",
      "pair_num_cutoff=3\n",
      "#minimum aligned length to contigs for a reliable read location (at least 32 for short insert size)\n",
      "map_len=32\n",
      "#bam file for single or paired reads, reads 1 in paired reads file should always be followed by reads 2\n",
      "#NOTE: If a read in bam file fails platform/vendor quality checks(the flag field 0x0200 is set), itself and it's paired read would be ignored.\n",
      "b=/n/projects/dut/a_marmorata/dnaseq_sex_determ/data/femalelib/female_unmapped.bam\n",
      "\n"
     ]
    }
   ],
   "source": [
    "femaleConfig =\"\"\"\n",
    "maximal read length\n",
    "max_rd_len=250\n",
    "[LIB]\n",
    "#average insert size\n",
    "avg_ins=538\n",
    "#if sequence needs to be reversed, 1 for forward reverse\n",
    "reverse_seq=1\n",
    "#in which part(s) the reads are used\n",
    "asm_flags=3\n",
    "#use only first 100 bps of each read\n",
    "rd_len_cutoff=250\n",
    "#in which order the reads are used while scaffolding\n",
    "rank=1\n",
    "# cutoff of pair number for a reliable connection (at least 3 for short insert size)\n",
    "pair_num_cutoff=3\n",
    "#minimum aligned length to contigs for a reliable read location (at least 32 for short insert size)\n",
    "map_len=32\n",
    "#bam file for single or paired reads, reads 1 in paired reads file should always be followed by reads 2\n",
    "#NOTE: If a read in bam file fails platform/vendor quality checks(the flag field 0x0200 is set), itself and it's paired read would be ignored.\n",
    "b=/n/projects/dut/a_marmorata/dnaseq_sex_determ/data/femalelib/female_unmapped.bam\n",
    "\"\"\"\n",
    "with open('../bin/female_Assembly.config','w') as fw:\n",
    "    fw.write(femaleConfig)\n",
    "print(femaleConfig)"
   ]
  },
  {
   "cell_type": "code",
   "execution_count": 55,
   "metadata": {
    "ExecuteTime": {
     "end_time": "2017-10-23T15:35:31.978343Z",
     "start_time": "2017-10-23T15:35:31.944996Z"
    },
    "collapsed": true
   },
   "outputs": [],
   "source": [
    "%%bash\n",
    "cd ../bin/SOAPdenovo2-bin-LINUX-generic-r240\n",
    "#nohup ./SOAPdenovo-127mer all -s ../female_Assembly.config -K 127 -R -p 20 -o female_assembly 1>ass.log 2>ass.err &\n",
    "## after the assembly finished...\n",
    "#mkdir ../../data/female_assembly\n",
    "#mv female_assembly* ../../data/female_assembly/\n",
    "#mv ass* ../../data/female_assembly/"
   ]
  },
  {
   "cell_type": "markdown",
   "metadata": {},
   "source": [
    "##### All Female Kmer Freq"
   ]
  },
  {
   "cell_type": "code",
   "execution_count": 56,
   "metadata": {
    "ExecuteTime": {
     "end_time": "2017-10-23T15:35:32.004503Z",
     "start_time": "2017-10-23T15:35:31.980449Z"
    }
   },
   "outputs": [
    {
     "data": {
      "text/html": [
       "<div>\n",
       "<style>\n",
       "    .dataframe thead tr:only-child th {\n",
       "        text-align: right;\n",
       "    }\n",
       "\n",
       "    .dataframe thead th {\n",
       "        text-align: left;\n",
       "    }\n",
       "\n",
       "    .dataframe tbody tr th {\n",
       "        vertical-align: top;\n",
       "    }\n",
       "</style>\n",
       "<table border=\"1\" class=\"dataframe\">\n",
       "  <thead>\n",
       "    <tr style=\"text-align: right;\">\n",
       "      <th></th>\n",
       "      <th>Frequency</th>\n",
       "      <th>Number of Distinct Kmers</th>\n",
       "    </tr>\n",
       "  </thead>\n",
       "  <tbody>\n",
       "    <tr>\n",
       "      <th>250</th>\n",
       "      <td>251</td>\n",
       "      <td>98</td>\n",
       "    </tr>\n",
       "    <tr>\n",
       "      <th>251</th>\n",
       "      <td>252</td>\n",
       "      <td>7314</td>\n",
       "    </tr>\n",
       "    <tr>\n",
       "      <th>252</th>\n",
       "      <td>253</td>\n",
       "      <td>0</td>\n",
       "    </tr>\n",
       "    <tr>\n",
       "      <th>253</th>\n",
       "      <td>254</td>\n",
       "      <td>0</td>\n",
       "    </tr>\n",
       "    <tr>\n",
       "      <th>254</th>\n",
       "      <td>255</td>\n",
       "      <td>0</td>\n",
       "    </tr>\n",
       "  </tbody>\n",
       "</table>\n",
       "</div>"
      ],
      "text/plain": [
       "     Frequency  Number of Distinct Kmers\n",
       "250        251                        98\n",
       "251        252                      7314\n",
       "252        253                         0\n",
       "253        254                         0\n",
       "254        255                         0"
      ]
     },
     "execution_count": 56,
     "metadata": {},
     "output_type": "execute_result"
    }
   ],
   "source": [
    "femaleKmerFreqDF= pd.read_csv('../data/female_assembly/female_assembly.kmerFreq', sep ='\\t', names=['Number of Distinct Kmers'])\n",
    "femaleKmerFreqDF = femaleKmerFreqDF.reset_index()\n",
    "femaleKmerFreqDF.columns = ['Frequency', 'Number of Distinct Kmers']\n",
    "femaleKmerFreqDF['Frequency'] = femaleKmerFreqDF['Frequency'] + 1 \n",
    "femaleKmerFreqDF.head()\n",
    "femaleKmerFreqDF.tail()"
   ]
  },
  {
   "cell_type": "code",
   "execution_count": 57,
   "metadata": {
    "ExecuteTime": {
     "end_time": "2017-10-23T15:35:33.010523Z",
     "start_time": "2017-10-23T15:35:32.006336Z"
    }
   },
   "outputs": [
    {
     "data": {
      "text/plain": [
       "<matplotlib.text.Text at 0x7f30c71f4d68>"
      ]
     },
     "execution_count": 57,
     "metadata": {},
     "output_type": "execute_result"
    },
    {
     "data": {
      "image/png": "[encoded data removed]",
      "text/plain": [
       "<matplotlib.figure.Figure at 0x7f30c7213fd0>"
      ]
     },
     "metadata": {},
     "output_type": "display_data"
    }
   ],
   "source": [
    "ax = femaleKmerFreqDF[(femaleKmerFreqDF['Frequency'] > 2) & (femaleKmerFreqDF['Frequency'] < 100)].plot(x='Frequency', \n",
    "                                                                                                        y='Number of Distinct Kmers', \n",
    "                                                                                                        kind='bar',\n",
    "                                                                                                        figsize=notebook_fig_size,\n",
    "                                                                                                        fontsize=major_f_size,\n",
    "                                                                                                        legend=False,\n",
    "                                                                                                        title='Female 127-mer Assembly',\n",
    "                                                                                                        color='purple')\n",
    "ax.set_xticks(np.arange(3,102,3));\n",
    "ax.set_ylabel('Number of Distinct Kmers')"
   ]
  },
  {
   "cell_type": "markdown",
   "metadata": {
    "ExecuteTime": {
     "end_time": "2017-10-18T20:56:01.641473Z",
     "start_time": "2017-10-18T20:56:01.638003Z"
    }
   },
   "source": [
    "##### Scaffold Sizes"
   ]
  },
  {
   "cell_type": "code",
   "execution_count": 58,
   "metadata": {
    "ExecuteTime": {
     "end_time": "2017-10-23T15:35:33.495452Z",
     "start_time": "2017-10-23T15:35:33.012761Z"
    }
   },
   "outputs": [
    {
     "name": "stderr",
     "output_type": "stream",
     "text": [
      "/home/dut/anaconda3/lib/python3.6/site-packages/matplotlib/axes/_axes.py:545: UserWarning: No labelled objects found. Use label='...' kwarg on individual plots.\n",
      "  warnings.warn(\"No labelled objects found. \"\n"
     ]
    },
    {
     "data": {
      "image/png": "[encoded data removed]",
      "text/plain": [
       "<matplotlib.figure.Figure at 0x7f30c7238c88>"
      ]
     },
     "metadata": {},
     "output_type": "display_data"
    }
   ],
   "source": [
    "femaleScaffoldLensDF = ret_fasta_len('../data/female_assembly/female_assembly.scafSeq')\n",
    "ax = sns.distplot(femaleScaffoldLensDF.length, kde=False)\n",
    "ax.set_title('Female Assembly Scaffold Sizes')\n",
    "ax.legend()"
   ]
  },
  {
   "cell_type": "code",
   "execution_count": 59,
   "metadata": {
    "ExecuteTime": {
     "end_time": "2017-10-23T15:35:33.502239Z",
     "start_time": "2017-10-23T15:35:33.497229Z"
    }
   },
   "outputs": [
    {
     "data": {
      "text/plain": [
       "(1901959, 1774579)"
      ]
     },
     "execution_count": 59,
     "metadata": {},
     "output_type": "execute_result"
    }
   ],
   "source": [
    "femaleScaffoldLensDF.length.sum(), maleScaffoldLensDF.length.sum()"
   ]
  },
  {
   "cell_type": "code",
   "execution_count": 60,
   "metadata": {
    "ExecuteTime": {
     "end_time": "2017-10-23T15:35:34.364975Z",
     "start_time": "2017-10-23T15:35:33.504035Z"
    }
   },
   "outputs": [
    {
     "data": {
      "text/plain": [
       "<matplotlib.legend.Legend at 0x7f30c6ce7f60>"
      ]
     },
     "execution_count": 60,
     "metadata": {},
     "output_type": "execute_result"
    },
    {
     "data": {
      "image/png": "[encoded data removed]",
      "text/plain": [
       "<matplotlib.figure.Figure at 0x7f30c6df0b70>"
      ]
     },
     "metadata": {},
     "output_type": "display_data"
    }
   ],
   "source": [
    "ax = sns.distplot(femaleScaffoldLensDF.length, kde=False, label='Female')\n",
    "ax = sns.distplot(maleScaffoldLensDF.length, kde=False, ax=ax, label='Male')\n",
    "ax.set_title('Female and Male Assembly Scaffold Sizes')\n",
    "ax.legend()"
   ]
  },
  {
   "cell_type": "markdown",
   "metadata": {},
   "source": [
    "### Aligning All Male and All Female Reads to Assemblies"
   ]
  },
  {
   "cell_type": "markdown",
   "metadata": {},
   "source": [
    "I will now align unmapped reads back to the assemblies. To do this I will use the system installation of bwa mem."
   ]
  },
  {
   "cell_type": "code",
   "execution_count": 61,
   "metadata": {
    "ExecuteTime": {
     "end_time": "2017-10-23T15:35:34.407518Z",
     "start_time": "2017-10-23T15:35:34.366836Z"
    }
   },
   "outputs": [
    {
     "name": "stderr",
     "output_type": "stream",
     "text": [
      "\n",
      "Program: bwa (alignment via Burrows-Wheeler transformation)\n",
      "Version: 0.7.15-r1140\n",
      "Contact: Heng Li <lh3@sanger.ac.uk>\n",
      "\n",
      "Usage:   bwa <command> [options]\n",
      "\n",
      "Command: index         index sequences in the FASTA format\n",
      "         mem           BWA-MEM algorithm\n",
      "         fastmap       identify super-maximal exact matches\n",
      "         pemerge       merge overlapping paired ends (EXPERIMENTAL)\n",
      "         aln           gapped/ungapped alignment\n",
      "         samse         generate alignment (single ended)\n",
      "         sampe         generate alignment (paired ended)\n",
      "         bwasw         BWA-SW for long queries\n",
      "\n",
      "         shm           manage indices in shared memory\n",
      "         fa2pac        convert FASTA to PAC format\n",
      "         pac2bwt       generate BWT from PAC\n",
      "         pac2bwtgen    alternative algorithm for generating BWT\n",
      "         bwtupdate     update .bwt to the new format\n",
      "         bwt2sa        generate SA from BWT and Occ\n",
      "\n",
      "Note: To use BWA, you need to first index the genome with `bwa index'.\n",
      "      There are three alignment algorithms in BWA: `mem', `bwasw', and\n",
      "      `aln/samse/sampe'. If you are not sure which to use, try `bwa mem'\n",
      "      first. Please `man ./bwa.1' for the manual.\n",
      "\n"
     ]
    }
   ],
   "source": [
    "%%bash\n",
    "bwa"
   ]
  },
  {
   "cell_type": "markdown",
   "metadata": {},
   "source": [
    "Because bwa only takes fastq files as input, I will need to extract the reads from my unmapped bams. To do this I will use bedtools."
   ]
  },
  {
   "cell_type": "code",
   "execution_count": 62,
   "metadata": {
    "ExecuteTime": {
     "end_time": "2017-10-23T15:35:34.458458Z",
     "start_time": "2017-10-23T15:35:34.412266Z"
    }
   },
   "outputs": [
    {
     "name": "stderr",
     "output_type": "stream",
     "text": [
      "\n",
      "Tool:    bedtools bamtofastq (aka bamToFastq)\n",
      "Version: v2.26.0\n",
      "Summary: Convert BAM alignments to FASTQ files. \n",
      "\n",
      "Usage:   bamToFastq [OPTIONS] -i <BAM> -fq <FQ> \n",
      "\n",
      "Options:\n",
      "\t-fq2\tFASTQ for second end.  Used if BAM contains paired-end data.\n",
      "\t\tBAM should be sorted by query name is creating paired FASTQ.\n",
      "\n",
      "\t-tags\tCreate FASTQ based on the mate info\n",
      "\t\tin the BAM R2 and Q2 tags.\n",
      "\n",
      "Tips: \n",
      "\tIf you want to create a single, interleaved FASTQ file \n",
      "\tfor paired-end data, you can just write both to /dev/stdout:\n",
      "\n",
      "\tbedtools bamtofastq -i x.bam -fq /dev/stdout -fq2 /dev/stdout > x.ilv.fq\n",
      "\n"
     ]
    }
   ],
   "source": [
    "%%bash\n",
    "bedtools bamtofastq"
   ]
  },
  {
   "cell_type": "markdown",
   "metadata": {},
   "source": [
    "####  Converting to FQ"
   ]
  },
  {
   "cell_type": "code",
   "execution_count": 63,
   "metadata": {
    "ExecuteTime": {
     "end_time": "2017-10-23T15:35:34.470385Z",
     "start_time": "2017-10-23T15:35:34.460655Z"
    }
   },
   "outputs": [
    {
     "data": {
      "text/plain": [
       "{'F': '../data/male_unmapped.bam', 'M': '../data/female_unmapped.bam'}"
      ]
     },
     "execution_count": 63,
     "metadata": {},
     "output_type": "execute_result"
    }
   ],
   "source": [
    "sexPathsDict"
   ]
  },
  {
   "cell_type": "code",
   "execution_count": 64,
   "metadata": {
    "ExecuteTime": {
     "end_time": "2017-10-23T15:35:34.519003Z",
     "start_time": "2017-10-23T15:35:34.472111Z"
    },
    "collapsed": true
   },
   "outputs": [],
   "source": [
    "%%bash\n",
    "#bedtools bamtofastq -i ../data/male_unmapped.bam -fq ../data/male_unmapped_1.fq -fq2 ../data/male_unmapped_2.fq"
   ]
  },
  {
   "cell_type": "code",
   "execution_count": 65,
   "metadata": {
    "ExecuteTime": {
     "end_time": "2017-10-23T15:35:34.549082Z",
     "start_time": "2017-10-23T15:35:34.521606Z"
    },
    "collapsed": true
   },
   "outputs": [],
   "source": [
    "%%bash\n",
    "#bedtools bamtofastq -i ../data/female_unmapped.bam -fq ../data/female_unmapped_1.fq -fq2 ../data/female_unmapped_2.fq"
   ]
  },
  {
   "cell_type": "code",
   "execution_count": 66,
   "metadata": {
    "ExecuteTime": {
     "end_time": "2017-10-23T15:35:34.562197Z",
     "start_time": "2017-10-23T15:35:34.553662Z"
    },
    "collapsed": true
   },
   "outputs": [],
   "source": [
    "sexFqPaths = {\n",
    "    'F':['../data/female_unmapped_1.fq', '../data/female_unmapped_2.fq'],\n",
    "    'M':['../data/male_unmapped_1.fq', '../data/male_unmapped_2.fq']\n",
    "             }"
   ]
  },
  {
   "cell_type": "markdown",
   "metadata": {},
   "source": [
    "#### Index Reference"
   ]
  },
  {
   "cell_type": "code",
   "execution_count": 67,
   "metadata": {
    "ExecuteTime": {
     "end_time": "2017-10-23T15:35:34.592939Z",
     "start_time": "2017-10-23T15:35:34.565632Z"
    },
    "collapsed": true
   },
   "outputs": [],
   "source": [
    "assemblyPaths = {\n",
    "    'rF':'../data/female_assembly/female_assembly.scafSeq',\n",
    "    'rM':'../data/male_assembly/male_assembly.scafSeq'\n",
    "}"
   ]
  },
  {
   "cell_type": "code",
   "execution_count": 68,
   "metadata": {
    "ExecuteTime": {
     "end_time": "2017-10-23T15:35:34.639104Z",
     "start_time": "2017-10-23T15:35:34.596583Z"
    }
   },
   "outputs": [],
   "source": [
    "%%bash\n",
    "cd ../data/female_assembly/\n",
    "#bwa index female_assembly.scafSeq"
   ]
  },
  {
   "cell_type": "code",
   "execution_count": 69,
   "metadata": {
    "ExecuteTime": {
     "end_time": "2017-10-23T15:35:34.699451Z",
     "start_time": "2017-10-23T15:35:34.642714Z"
    }
   },
   "outputs": [],
   "source": [
    "%%bash\n",
    "cd ../data/male_assembly/\n",
    "#bwa index male_assembly.scafSeq"
   ]
  },
  {
   "cell_type": "markdown",
   "metadata": {},
   "source": [
    "#### Aligning "
   ]
  },
  {
   "cell_type": "code",
   "execution_count": 70,
   "metadata": {
    "ExecuteTime": {
     "end_time": "2017-10-23T15:35:34.747631Z",
     "start_time": "2017-10-23T15:35:34.704390Z"
    },
    "collapsed": true
   },
   "outputs": [],
   "source": [
    "alignCombos = [(f, r) for f in sexFqPaths.keys() for r in assemblyPaths.keys()]\n",
    "compBams = {}\n",
    "with open('../bin/m_to_f_align.txt', 'w') as fw:\n",
    "    for combo in alignCombos:\n",
    "        out_bam = '../data/{}.bam'.format('_'.join(combo))\n",
    "        temp = '../data/temp_{}'.format('_'.join(combo))\n",
    "        bwa_command = 'bwa mem -t 8 {} {} {} | samtools sort -T {} -o {}'.format(\n",
    "            assemblyPaths[combo[1]],\n",
    "            sexFqPaths[combo[0]][0],\n",
    "            sexFqPaths[combo[0]][1],\n",
    "            temp,\n",
    "            out_bam\n",
    "        )\n",
    "        compBams[combo] = out_bam\n",
    "        fw.write(bwa_command + '\\n')"
   ]
  },
  {
   "cell_type": "code",
   "execution_count": 71,
   "metadata": {
    "ExecuteTime": {
     "end_time": "2017-10-23T15:35:34.791747Z",
     "start_time": "2017-10-23T15:35:34.751748Z"
    }
   },
   "outputs": [
    {
     "name": "stdout",
     "output_type": "stream",
     "text": [
      "bwa mem -t 8 ../data/female_assembly/female_assembly.scafSeq ../data/female_unmapped_1.fq ../data/female_unmapped_2.fq | samtools sort -T ../data/temp_F_rF -o ../data/F_rF.bam\n",
      "bwa mem -t 8 ../data/male_assembly/male_assembly.scafSeq ../data/female_unmapped_1.fq ../data/female_unmapped_2.fq | samtools sort -T ../data/temp_F_rM -o ../data/F_rM.bam\n",
      "bwa mem -t 8 ../data/female_assembly/female_assembly.scafSeq ../data/male_unmapped_1.fq ../data/male_unmapped_2.fq | samtools sort -T ../data/temp_M_rF -o ../data/M_rF.bam\n",
      "bwa mem -t 8 ../data/male_assembly/male_assembly.scafSeq ../data/male_unmapped_1.fq ../data/male_unmapped_2.fq | samtools sort -T ../data/temp_M_rM -o ../data/M_rM.bam\n"
     ]
    }
   ],
   "source": [
    "%%bash\n",
    "cat ../bin/m_to_f_align.txt\n",
    "#parallel --no-notice -j 2 :::: ../bin/m_to_f_align.txt &> ../bin/m_to_f_align.out"
   ]
  },
  {
   "cell_type": "code",
   "execution_count": 72,
   "metadata": {
    "ExecuteTime": {
     "end_time": "2017-10-23T15:35:34.808609Z",
     "start_time": "2017-10-23T15:35:34.793907Z"
    },
    "collapsed": true
   },
   "outputs": [],
   "source": [
    "with open('../bin/combos_index.txt', 'w') as fw:\n",
    "    for combo in compBams:\n",
    "        command = 'samtools index -b {}'.format(compBams[combo])\n",
    "        fw.write(command + '\\n')\n",
    "        "
   ]
  },
  {
   "cell_type": "code",
   "execution_count": 73,
   "metadata": {
    "ExecuteTime": {
     "end_time": "2017-10-23T15:35:34.850168Z",
     "start_time": "2017-10-23T15:35:34.810622Z"
    }
   },
   "outputs": [
    {
     "name": "stdout",
     "output_type": "stream",
     "text": [
      "samtools index -b ../data/F_rF.bam\n",
      "samtools index -b ../data/F_rM.bam\n",
      "samtools index -b ../data/M_rF.bam\n",
      "samtools index -b ../data/M_rM.bam\n"
     ]
    }
   ],
   "source": [
    "%%bash\n",
    "cat ../bin/combos_index.txt\n",
    "#parallel --no-notice -j 4 :::: ../bin/combos_index.txt &> ../bin/combos_index.out"
   ]
  },
  {
   "cell_type": "markdown",
   "metadata": {},
   "source": [
    "#### Generating Coverage Tracks"
   ]
  },
  {
   "cell_type": "code",
   "execution_count": 74,
   "metadata": {
    "ExecuteTime": {
     "end_time": "2017-10-23T15:35:34.858960Z",
     "start_time": "2017-10-23T15:35:34.852258Z"
    }
   },
   "outputs": [
    {
     "data": {
      "text/plain": [
       "{('F', 'rF'): '../data/F_rF.bam',\n",
       " ('F', 'rM'): '../data/F_rM.bam',\n",
       " ('M', 'rF'): '../data/M_rF.bam',\n",
       " ('M', 'rM'): '../data/M_rM.bam'}"
      ]
     },
     "execution_count": 74,
     "metadata": {},
     "output_type": "execute_result"
    }
   ],
   "source": [
    "compBams"
   ]
  },
  {
   "cell_type": "code",
   "execution_count": 75,
   "metadata": {
    "ExecuteTime": {
     "end_time": "2017-10-23T15:35:34.915489Z",
     "start_time": "2017-10-23T15:35:34.860664Z"
    },
    "collapsed": true
   },
   "outputs": [],
   "source": [
    "bedGraphs = {}\n",
    "with open('../bin/bedtools_genome_cov.txt', 'w') as fw:\n",
    "    for combo in compBams:\n",
    "        bed = compBams[combo].replace('.bam', '.bedgraph')\n",
    "        command  = 'bedtools genomecov -ibam {} -bga > {}'.format(compBams[combo], bed)\n",
    "        bedGraphs[combo] = bed\n",
    "        fw.write(command + '\\n')"
   ]
  },
  {
   "cell_type": "code",
   "execution_count": 76,
   "metadata": {
    "ExecuteTime": {
     "end_time": "2017-10-23T15:35:34.957815Z",
     "start_time": "2017-10-23T15:35:34.917555Z"
    }
   },
   "outputs": [
    {
     "name": "stdout",
     "output_type": "stream",
     "text": [
      "bedtools genomecov -ibam ../data/F_rF.bam -bga > ../data/F_rF.bedgraph\n",
      "bedtools genomecov -ibam ../data/F_rM.bam -bga > ../data/F_rM.bedgraph\n",
      "bedtools genomecov -ibam ../data/M_rF.bam -bga > ../data/M_rF.bedgraph\n",
      "bedtools genomecov -ibam ../data/M_rM.bam -bga > ../data/M_rM.bedgraph\n"
     ]
    }
   ],
   "source": [
    "%%bash\n",
    "cat ../bin/bedtools_genome_cov.txt\n",
    "#parallel --no-notice -j 4 :::: ../bin/bedtools_genome_cov.txt &> ../bin/bedtools_genome_cov.out"
   ]
  },
  {
   "cell_type": "markdown",
   "metadata": {
    "ExecuteTime": {
     "end_time": "2017-10-18T21:02:46.143596Z",
     "start_time": "2017-10-18T21:02:46.140181Z"
    }
   },
   "source": [
    "#### Comparing Coverage Across Male Assembly"
   ]
  },
  {
   "cell_type": "code",
   "execution_count": 77,
   "metadata": {
    "ExecuteTime": {
     "end_time": "2017-10-23T15:35:35.251925Z",
     "start_time": "2017-10-23T15:35:34.960200Z"
    }
   },
   "outputs": [
    {
     "data": {
      "text/html": [
       "<div>\n",
       "<style>\n",
       "    .dataframe thead tr:only-child th {\n",
       "        text-align: right;\n",
       "    }\n",
       "\n",
       "    .dataframe thead th {\n",
       "        text-align: left;\n",
       "    }\n",
       "\n",
       "    .dataframe tbody tr th {\n",
       "        vertical-align: top;\n",
       "    }\n",
       "</style>\n",
       "<table border=\"1\" class=\"dataframe\">\n",
       "  <thead>\n",
       "    <tr style=\"text-align: right;\">\n",
       "      <th></th>\n",
       "      <th>scaffold</th>\n",
       "      <th>start</th>\n",
       "      <th>stop</th>\n",
       "      <th>coverage</th>\n",
       "      <th>length</th>\n",
       "      <th>interval_length</th>\n",
       "    </tr>\n",
       "  </thead>\n",
       "  <tbody>\n",
       "    <tr>\n",
       "      <th>0</th>\n",
       "      <td>scaffold1</td>\n",
       "      <td>0</td>\n",
       "      <td>1</td>\n",
       "      <td>6</td>\n",
       "      <td>451</td>\n",
       "      <td>1</td>\n",
       "    </tr>\n",
       "    <tr>\n",
       "      <th>1</th>\n",
       "      <td>scaffold1</td>\n",
       "      <td>1</td>\n",
       "      <td>4</td>\n",
       "      <td>7</td>\n",
       "      <td>451</td>\n",
       "      <td>3</td>\n",
       "    </tr>\n",
       "    <tr>\n",
       "      <th>2</th>\n",
       "      <td>scaffold1</td>\n",
       "      <td>4</td>\n",
       "      <td>5</td>\n",
       "      <td>8</td>\n",
       "      <td>451</td>\n",
       "      <td>1</td>\n",
       "    </tr>\n",
       "    <tr>\n",
       "      <th>3</th>\n",
       "      <td>scaffold1</td>\n",
       "      <td>5</td>\n",
       "      <td>14</td>\n",
       "      <td>9</td>\n",
       "      <td>451</td>\n",
       "      <td>9</td>\n",
       "    </tr>\n",
       "    <tr>\n",
       "      <th>4</th>\n",
       "      <td>scaffold1</td>\n",
       "      <td>14</td>\n",
       "      <td>19</td>\n",
       "      <td>10</td>\n",
       "      <td>451</td>\n",
       "      <td>5</td>\n",
       "    </tr>\n",
       "  </tbody>\n",
       "</table>\n",
       "</div>"
      ],
      "text/plain": [
       "    scaffold  start  stop  coverage  length  interval_length\n",
       "0  scaffold1      0     1         6     451                1\n",
       "1  scaffold1      1     4         7     451                3\n",
       "2  scaffold1      4     5         8     451                1\n",
       "3  scaffold1      5    14         9     451                9\n",
       "4  scaffold1     14    19        10     451                5"
      ]
     },
     "execution_count": 77,
     "metadata": {},
     "output_type": "execute_result"
    }
   ],
   "source": [
    "m2mCovDF = pd.read_csv('../data/M_rM.bedgraph', sep='\\t', names = ['scaffold', 'start', 'stop', 'coverage'])\n",
    "m2mCovDF = m2mCovDF.merge(maleScaffoldLensDF)\n",
    "m2mCovDF['interval_length'] = m2mCovDF['stop'] - m2mCovDF['start']\n",
    "m2mCovDF.head()"
   ]
  },
  {
   "cell_type": "code",
   "execution_count": 80,
   "metadata": {
    "ExecuteTime": {
     "end_time": "2017-10-23T15:42:57.376216Z",
     "start_time": "2017-10-23T15:42:48.213817Z"
    }
   },
   "outputs": [
    {
     "data": {
      "text/html": [
       "<div>\n",
       "<style>\n",
       "    .dataframe thead tr:only-child th {\n",
       "        text-align: right;\n",
       "    }\n",
       "\n",
       "    .dataframe thead th {\n",
       "        text-align: left;\n",
       "    }\n",
       "\n",
       "    .dataframe tbody tr th {\n",
       "        vertical-align: top;\n",
       "    }\n",
       "</style>\n",
       "<table border=\"1\" class=\"dataframe\">\n",
       "  <thead>\n",
       "    <tr style=\"text-align: right;\">\n",
       "      <th></th>\n",
       "      <th>avg_cov</th>\n",
       "      <th>scaffold</th>\n",
       "      <th>length</th>\n",
       "    </tr>\n",
       "  </thead>\n",
       "  <tbody>\n",
       "    <tr>\n",
       "      <th>0</th>\n",
       "      <td>2361.040028</td>\n",
       "      <td>scaffold5</td>\n",
       "      <td>1449</td>\n",
       "    </tr>\n",
       "    <tr>\n",
       "      <th>1</th>\n",
       "      <td>1797.411190</td>\n",
       "      <td>scaffold8</td>\n",
       "      <td>1126</td>\n",
       "    </tr>\n",
       "    <tr>\n",
       "      <th>2</th>\n",
       "      <td>17.358844</td>\n",
       "      <td>scaffold9</td>\n",
       "      <td>1176</td>\n",
       "    </tr>\n",
       "    <tr>\n",
       "      <th>3</th>\n",
       "      <td>16.534722</td>\n",
       "      <td>scaffold14</td>\n",
       "      <td>1152</td>\n",
       "    </tr>\n",
       "    <tr>\n",
       "      <th>4</th>\n",
       "      <td>27.088109</td>\n",
       "      <td>scaffold15</td>\n",
       "      <td>1396</td>\n",
       "    </tr>\n",
       "  </tbody>\n",
       "</table>\n",
       "</div>"
      ],
      "text/plain": [
       "       avg_cov    scaffold  length\n",
       "0  2361.040028   scaffold5    1449\n",
       "1  1797.411190   scaffold8    1126\n",
       "2    17.358844   scaffold9    1176\n",
       "3    16.534722  scaffold14    1152\n",
       "4    27.088109  scaffold15    1396"
      ]
     },
     "execution_count": 80,
     "metadata": {},
     "output_type": "execute_result"
    }
   ],
   "source": [
    "avgCovList = []\n",
    "for scaffold in m2mCovDF[m2mCovDF.length > 1000].scaffold.unique():\n",
    "    df = m2mCovDF[m2mCovDF.scaffold == scaffold]\n",
    "    avg = sum(df.interval_length * df.coverage) / df.interval_length.sum()\n",
    "    data = {'scaffold': scaffold, \n",
    "            'avg_cov': avg}\n",
    "    avgCovList.append(data)\n",
    "    \n",
    "maleAvgCovDF = pd.DataFrame(avgCovList)\n",
    "maleAvgCovDF = maleAvgCovDF.merge(maleScaffoldLensDF)\n",
    "maleAvgCovDF.head()"
   ]
  },
  {
   "cell_type": "code",
   "execution_count": 81,
   "metadata": {
    "ExecuteTime": {
     "end_time": "2017-10-23T15:42:57.654409Z",
     "start_time": "2017-10-23T15:42:57.378656Z"
    }
   },
   "outputs": [
    {
     "data": {
      "text/html": [
       "<div>\n",
       "<style>\n",
       "    .dataframe thead tr:only-child th {\n",
       "        text-align: right;\n",
       "    }\n",
       "\n",
       "    .dataframe thead th {\n",
       "        text-align: left;\n",
       "    }\n",
       "\n",
       "    .dataframe tbody tr th {\n",
       "        vertical-align: top;\n",
       "    }\n",
       "</style>\n",
       "<table border=\"1\" class=\"dataframe\">\n",
       "  <thead>\n",
       "    <tr style=\"text-align: right;\">\n",
       "      <th></th>\n",
       "      <th>scaffold</th>\n",
       "      <th>start</th>\n",
       "      <th>stop</th>\n",
       "      <th>coverage</th>\n",
       "      <th>length</th>\n",
       "      <th>interval_length</th>\n",
       "    </tr>\n",
       "  </thead>\n",
       "  <tbody>\n",
       "    <tr>\n",
       "      <th>0</th>\n",
       "      <td>scaffold1</td>\n",
       "      <td>0</td>\n",
       "      <td>1</td>\n",
       "      <td>7</td>\n",
       "      <td>451</td>\n",
       "      <td>1</td>\n",
       "    </tr>\n",
       "    <tr>\n",
       "      <th>1</th>\n",
       "      <td>scaffold1</td>\n",
       "      <td>1</td>\n",
       "      <td>32</td>\n",
       "      <td>8</td>\n",
       "      <td>451</td>\n",
       "      <td>31</td>\n",
       "    </tr>\n",
       "    <tr>\n",
       "      <th>2</th>\n",
       "      <td>scaffold1</td>\n",
       "      <td>32</td>\n",
       "      <td>36</td>\n",
       "      <td>9</td>\n",
       "      <td>451</td>\n",
       "      <td>4</td>\n",
       "    </tr>\n",
       "    <tr>\n",
       "      <th>3</th>\n",
       "      <td>scaffold1</td>\n",
       "      <td>36</td>\n",
       "      <td>44</td>\n",
       "      <td>10</td>\n",
       "      <td>451</td>\n",
       "      <td>8</td>\n",
       "    </tr>\n",
       "    <tr>\n",
       "      <th>4</th>\n",
       "      <td>scaffold1</td>\n",
       "      <td>44</td>\n",
       "      <td>53</td>\n",
       "      <td>11</td>\n",
       "      <td>451</td>\n",
       "      <td>9</td>\n",
       "    </tr>\n",
       "  </tbody>\n",
       "</table>\n",
       "</div>"
      ],
      "text/plain": [
       "    scaffold  start  stop  coverage  length  interval_length\n",
       "0  scaffold1      0     1         7     451                1\n",
       "1  scaffold1      1    32         8     451               31\n",
       "2  scaffold1     32    36         9     451                4\n",
       "3  scaffold1     36    44        10     451                8\n",
       "4  scaffold1     44    53        11     451                9"
      ]
     },
     "execution_count": 81,
     "metadata": {},
     "output_type": "execute_result"
    }
   ],
   "source": [
    "f2mCovDF = pd.read_csv('../data/F_rM.bedgraph', sep='\\t', names = ['scaffold', 'start', 'stop', 'coverage'])\n",
    "f2mCovDF = f2mCovDF.merge(maleScaffoldLensDF)\n",
    "f2mCovDF['interval_length'] = f2mCovDF['stop'] - f2mCovDF['start']\n",
    "f2mCovDF.head()"
   ]
  },
  {
   "cell_type": "code",
   "execution_count": 82,
   "metadata": {
    "ExecuteTime": {
     "end_time": "2017-10-23T15:43:07.131630Z",
     "start_time": "2017-10-23T15:42:57.656288Z"
    }
   },
   "outputs": [
    {
     "data": {
      "text/html": [
       "<div>\n",
       "<style>\n",
       "    .dataframe thead tr:only-child th {\n",
       "        text-align: right;\n",
       "    }\n",
       "\n",
       "    .dataframe thead th {\n",
       "        text-align: left;\n",
       "    }\n",
       "\n",
       "    .dataframe tbody tr th {\n",
       "        vertical-align: top;\n",
       "    }\n",
       "</style>\n",
       "<table border=\"1\" class=\"dataframe\">\n",
       "  <thead>\n",
       "    <tr style=\"text-align: right;\">\n",
       "      <th></th>\n",
       "      <th>avg_cov</th>\n",
       "      <th>scaffold</th>\n",
       "      <th>length</th>\n",
       "    </tr>\n",
       "  </thead>\n",
       "  <tbody>\n",
       "    <tr>\n",
       "      <th>0</th>\n",
       "      <td>3155.336784</td>\n",
       "      <td>scaffold5</td>\n",
       "      <td>1449</td>\n",
       "    </tr>\n",
       "    <tr>\n",
       "      <th>1</th>\n",
       "      <td>1574.133215</td>\n",
       "      <td>scaffold8</td>\n",
       "      <td>1126</td>\n",
       "    </tr>\n",
       "    <tr>\n",
       "      <th>2</th>\n",
       "      <td>14.070578</td>\n",
       "      <td>scaffold9</td>\n",
       "      <td>1176</td>\n",
       "    </tr>\n",
       "    <tr>\n",
       "      <th>3</th>\n",
       "      <td>26.012153</td>\n",
       "      <td>scaffold14</td>\n",
       "      <td>1152</td>\n",
       "    </tr>\n",
       "    <tr>\n",
       "      <th>4</th>\n",
       "      <td>24.228510</td>\n",
       "      <td>scaffold15</td>\n",
       "      <td>1396</td>\n",
       "    </tr>\n",
       "  </tbody>\n",
       "</table>\n",
       "</div>"
      ],
      "text/plain": [
       "       avg_cov    scaffold  length\n",
       "0  3155.336784   scaffold5    1449\n",
       "1  1574.133215   scaffold8    1126\n",
       "2    14.070578   scaffold9    1176\n",
       "3    26.012153  scaffold14    1152\n",
       "4    24.228510  scaffold15    1396"
      ]
     },
     "execution_count": 82,
     "metadata": {},
     "output_type": "execute_result"
    }
   ],
   "source": [
    "avgCovList = []\n",
    "for scaffold in f2mCovDF[f2mCovDF.length > 1000].scaffold.unique():\n",
    "    df = f2mCovDF[f2mCovDF.scaffold == scaffold]\n",
    "    avg = sum(df.interval_length * df.coverage) / df.interval_length.sum()\n",
    "    data = {'scaffold': scaffold, \n",
    "            'avg_cov': avg}\n",
    "    avgCovList.append(data)\n",
    "    \n",
    "femaleAvgCovDF = pd.DataFrame(avgCovList)\n",
    "femaleAvgCovDF = femaleAvgCovDF.merge(maleScaffoldLensDF)\n",
    "femaleAvgCovDF.head()"
   ]
  },
  {
   "cell_type": "code",
   "execution_count": 83,
   "metadata": {
    "ExecuteTime": {
     "end_time": "2017-10-23T15:43:07.156223Z",
     "start_time": "2017-10-23T15:43:07.133924Z"
    }
   },
   "outputs": [
    {
     "data": {
      "text/html": [
       "<div>\n",
       "<style>\n",
       "    .dataframe thead tr:only-child th {\n",
       "        text-align: right;\n",
       "    }\n",
       "\n",
       "    .dataframe thead th {\n",
       "        text-align: left;\n",
       "    }\n",
       "\n",
       "    .dataframe tbody tr th {\n",
       "        vertical-align: top;\n",
       "    }\n",
       "</style>\n",
       "<table border=\"1\" class=\"dataframe\">\n",
       "  <thead>\n",
       "    <tr style=\"text-align: right;\">\n",
       "      <th></th>\n",
       "      <th>avg_cov_male</th>\n",
       "      <th>scaffold</th>\n",
       "      <th>length_male</th>\n",
       "      <th>avg_cov_female</th>\n",
       "      <th>length_female</th>\n",
       "    </tr>\n",
       "  </thead>\n",
       "  <tbody>\n",
       "    <tr>\n",
       "      <th>0</th>\n",
       "      <td>7.878261</td>\n",
       "      <td>C6959</td>\n",
       "      <td>1150</td>\n",
       "      <td>52.776522</td>\n",
       "      <td>1150</td>\n",
       "    </tr>\n",
       "    <tr>\n",
       "      <th>1</th>\n",
       "      <td>11.104535</td>\n",
       "      <td>C7039</td>\n",
       "      <td>1301</td>\n",
       "      <td>42.129900</td>\n",
       "      <td>1301</td>\n",
       "    </tr>\n",
       "    <tr>\n",
       "      <th>2</th>\n",
       "      <td>11.339567</td>\n",
       "      <td>scaffold79</td>\n",
       "      <td>1016</td>\n",
       "      <td>19.390748</td>\n",
       "      <td>1016</td>\n",
       "    </tr>\n",
       "    <tr>\n",
       "      <th>3</th>\n",
       "      <td>11.996218</td>\n",
       "      <td>C7049</td>\n",
       "      <td>1322</td>\n",
       "      <td>20.648260</td>\n",
       "      <td>1322</td>\n",
       "    </tr>\n",
       "    <tr>\n",
       "      <th>4</th>\n",
       "      <td>12.269718</td>\n",
       "      <td>C6867</td>\n",
       "      <td>1027</td>\n",
       "      <td>11.884129</td>\n",
       "      <td>1027</td>\n",
       "    </tr>\n",
       "  </tbody>\n",
       "</table>\n",
       "</div>"
      ],
      "text/plain": [
       "   avg_cov_male    scaffold  length_male  avg_cov_female  length_female\n",
       "0      7.878261       C6959         1150       52.776522           1150\n",
       "1     11.104535       C7039         1301       42.129900           1301\n",
       "2     11.339567  scaffold79         1016       19.390748           1016\n",
       "3     11.996218       C7049         1322       20.648260           1322\n",
       "4     12.269718       C6867         1027       11.884129           1027"
      ]
     },
     "execution_count": 83,
     "metadata": {},
     "output_type": "execute_result"
    }
   ],
   "source": [
    "avgCovDf = pd.merge( maleAvgCovDF, femaleAvgCovDF, on='scaffold', how='outer',suffixes=('_male', '_female'))\n",
    "avgCovDf = avgCovDf.sort_values('avg_cov_male').reset_index(drop=True)\n",
    "avgCovDf.head()"
   ]
  },
  {
   "cell_type": "code",
   "execution_count": 84,
   "metadata": {
    "ExecuteTime": {
     "end_time": "2017-10-23T15:43:07.809390Z",
     "start_time": "2017-10-23T15:43:07.157961Z"
    }
   },
   "outputs": [
    {
     "data": {
      "text/plain": [
       "<matplotlib.legend.Legend at 0x7f30c6949eb8>"
      ]
     },
     "execution_count": 84,
     "metadata": {},
     "output_type": "execute_result"
    },
    {
     "data": {
      "image/png": "[encoded data removed]",
      "text/plain": [
       "<matplotlib.figure.Figure at 0x7f30c696b828>"
      ]
     },
     "metadata": {},
     "output_type": "display_data"
    }
   ],
   "source": [
    "ax = sns.distplot(avgCovDf.avg_cov_male, kde=False, label='Female')\n",
    "ax = sns.distplot(avgCovDf.avg_cov_female, kde=False, ax=ax, label='Male')\n",
    "ax.set_title('Male and Female Average Coverage Distributions')\n",
    "ax.legend()"
   ]
  },
  {
   "cell_type": "code",
   "execution_count": 85,
   "metadata": {
    "ExecuteTime": {
     "end_time": "2017-10-23T15:43:07.821016Z",
     "start_time": "2017-10-23T15:43:07.812560Z"
    },
    "collapsed": true
   },
   "outputs": [],
   "source": [
    "avgCovDf['fc'] = np.log2(avgCovDf['avg_cov_male'] / avgCovDf['avg_cov_female'])"
   ]
  },
  {
   "cell_type": "code",
   "execution_count": 86,
   "metadata": {
    "ExecuteTime": {
     "end_time": "2017-10-23T15:43:08.092163Z",
     "start_time": "2017-10-23T15:43:07.822758Z"
    }
   },
   "outputs": [
    {
     "data": {
      "text/plain": [
       "<matplotlib.axes._subplots.AxesSubplot at 0x7f30c69715f8>"
      ]
     },
     "execution_count": 86,
     "metadata": {},
     "output_type": "execute_result"
    },
    {
     "data": {
      "image/png": "[encoded data removed]",
      "text/plain": [
       "<matplotlib.figure.Figure at 0x7f30c55a53c8>"
      ]
     },
     "metadata": {},
     "output_type": "display_data"
    }
   ],
   "source": [
    "avgCovDf['fc'].plot()"
   ]
  },
  {
   "cell_type": "code",
   "execution_count": 87,
   "metadata": {
    "ExecuteTime": {
     "end_time": "2017-10-23T15:43:08.141419Z",
     "start_time": "2017-10-23T15:43:08.094037Z"
    }
   },
   "outputs": [
    {
     "data": {
      "text/html": [
       "<div>\n",
       "<style>\n",
       "    .dataframe thead tr:only-child th {\n",
       "        text-align: right;\n",
       "    }\n",
       "\n",
       "    .dataframe thead th {\n",
       "        text-align: left;\n",
       "    }\n",
       "\n",
       "    .dataframe tbody tr th {\n",
       "        vertical-align: top;\n",
       "    }\n",
       "</style>\n",
       "<table border=\"1\" class=\"dataframe\">\n",
       "  <thead>\n",
       "    <tr style=\"text-align: right;\">\n",
       "      <th></th>\n",
       "      <th>avg_cov_male</th>\n",
       "      <th>scaffold</th>\n",
       "      <th>length_male</th>\n",
       "      <th>avg_cov_female</th>\n",
       "      <th>length_female</th>\n",
       "      <th>fc</th>\n",
       "    </tr>\n",
       "  </thead>\n",
       "  <tbody>\n",
       "    <tr>\n",
       "      <th>77</th>\n",
       "      <td>36.070813</td>\n",
       "      <td>C6885</td>\n",
       "      <td>1045</td>\n",
       "      <td>0.000000</td>\n",
       "      <td>1045</td>\n",
       "      <td>inf</td>\n",
       "    </tr>\n",
       "    <tr>\n",
       "      <th>129</th>\n",
       "      <td>63.134006</td>\n",
       "      <td>C7069</td>\n",
       "      <td>1388</td>\n",
       "      <td>0.000000</td>\n",
       "      <td>1388</td>\n",
       "      <td>inf</td>\n",
       "    </tr>\n",
       "    <tr>\n",
       "      <th>36</th>\n",
       "      <td>22.005900</td>\n",
       "      <td>C6859</td>\n",
       "      <td>1017</td>\n",
       "      <td>0.000000</td>\n",
       "      <td>1017</td>\n",
       "      <td>inf</td>\n",
       "    </tr>\n",
       "    <tr>\n",
       "      <th>59</th>\n",
       "      <td>30.333333</td>\n",
       "      <td>C6883</td>\n",
       "      <td>1044</td>\n",
       "      <td>0.000000</td>\n",
       "      <td>1044</td>\n",
       "      <td>inf</td>\n",
       "    </tr>\n",
       "    <tr>\n",
       "      <th>120</th>\n",
       "      <td>55.515952</td>\n",
       "      <td>C7119</td>\n",
       "      <td>2006</td>\n",
       "      <td>0.000000</td>\n",
       "      <td>2006</td>\n",
       "      <td>inf</td>\n",
       "    </tr>\n",
       "    <tr>\n",
       "      <th>126</th>\n",
       "      <td>60.450872</td>\n",
       "      <td>C6925</td>\n",
       "      <td>1089</td>\n",
       "      <td>0.071625</td>\n",
       "      <td>1089</td>\n",
       "      <td>9.721077</td>\n",
       "    </tr>\n",
       "    <tr>\n",
       "      <th>45</th>\n",
       "      <td>24.847270</td>\n",
       "      <td>C6981</td>\n",
       "      <td>1172</td>\n",
       "      <td>0.032423</td>\n",
       "      <td>1172</td>\n",
       "      <td>9.581845</td>\n",
       "    </tr>\n",
       "    <tr>\n",
       "      <th>32</th>\n",
       "      <td>21.204601</td>\n",
       "      <td>C7007</td>\n",
       "      <td>1217</td>\n",
       "      <td>0.489729</td>\n",
       "      <td>1217</td>\n",
       "      <td>5.436250</td>\n",
       "    </tr>\n",
       "    <tr>\n",
       "      <th>43</th>\n",
       "      <td>24.285586</td>\n",
       "      <td>C6941</td>\n",
       "      <td>1117</td>\n",
       "      <td>0.841540</td>\n",
       "      <td>1117</td>\n",
       "      <td>4.850925</td>\n",
       "    </tr>\n",
       "    <tr>\n",
       "      <th>72</th>\n",
       "      <td>34.294904</td>\n",
       "      <td>C6995</td>\n",
       "      <td>1197</td>\n",
       "      <td>5.982456</td>\n",
       "      <td>1197</td>\n",
       "      <td>2.519184</td>\n",
       "    </tr>\n",
       "    <tr>\n",
       "      <th>6</th>\n",
       "      <td>13.023969</td>\n",
       "      <td>C6881</td>\n",
       "      <td>1043</td>\n",
       "      <td>2.508150</td>\n",
       "      <td>1043</td>\n",
       "      <td>2.376474</td>\n",
       "    </tr>\n",
       "    <tr>\n",
       "      <th>64</th>\n",
       "      <td>31.868069</td>\n",
       "      <td>C6889</td>\n",
       "      <td>1046</td>\n",
       "      <td>7.540153</td>\n",
       "      <td>1046</td>\n",
       "      <td>2.079446</td>\n",
       "    </tr>\n",
       "    <tr>\n",
       "      <th>29</th>\n",
       "      <td>20.955078</td>\n",
       "      <td>C6863</td>\n",
       "      <td>1024</td>\n",
       "      <td>8.859375</td>\n",
       "      <td>1024</td>\n",
       "      <td>1.242023</td>\n",
       "    </tr>\n",
       "    <tr>\n",
       "      <th>52</th>\n",
       "      <td>27.809568</td>\n",
       "      <td>C6907</td>\n",
       "      <td>1066</td>\n",
       "      <td>12.437148</td>\n",
       "      <td>1066</td>\n",
       "      <td>1.160926</td>\n",
       "    </tr>\n",
       "    <tr>\n",
       "      <th>107</th>\n",
       "      <td>47.389300</td>\n",
       "      <td>C7005</td>\n",
       "      <td>1215</td>\n",
       "      <td>22.535802</td>\n",
       "      <td>1215</td>\n",
       "      <td>1.072343</td>\n",
       "    </tr>\n",
       "    <tr>\n",
       "      <th>113</th>\n",
       "      <td>50.912117</td>\n",
       "      <td>C7085</td>\n",
       "      <td>1502</td>\n",
       "      <td>24.439414</td>\n",
       "      <td>1502</td>\n",
       "      <td>1.058799</td>\n",
       "    </tr>\n",
       "    <tr>\n",
       "      <th>39</th>\n",
       "      <td>23.362117</td>\n",
       "      <td>C6915</td>\n",
       "      <td>1077</td>\n",
       "      <td>11.324977</td>\n",
       "      <td>1077</td>\n",
       "      <td>1.044663</td>\n",
       "    </tr>\n",
       "    <tr>\n",
       "      <th>48</th>\n",
       "      <td>26.098673</td>\n",
       "      <td>C7003</td>\n",
       "      <td>1206</td>\n",
       "      <td>12.917081</td>\n",
       "      <td>1206</td>\n",
       "      <td>1.014696</td>\n",
       "    </tr>\n",
       "    <tr>\n",
       "      <th>98</th>\n",
       "      <td>44.654741</td>\n",
       "      <td>C6943</td>\n",
       "      <td>1118</td>\n",
       "      <td>22.884615</td>\n",
       "      <td>1118</td>\n",
       "      <td>0.964435</td>\n",
       "    </tr>\n",
       "    <tr>\n",
       "      <th>42</th>\n",
       "      <td>24.181818</td>\n",
       "      <td>C6871</td>\n",
       "      <td>1034</td>\n",
       "      <td>12.482592</td>\n",
       "      <td>1034</td>\n",
       "      <td>0.954005</td>\n",
       "    </tr>\n",
       "    <tr>\n",
       "      <th>37</th>\n",
       "      <td>22.266200</td>\n",
       "      <td>C6955</td>\n",
       "      <td>1142</td>\n",
       "      <td>11.534151</td>\n",
       "      <td>1142</td>\n",
       "      <td>0.948944</td>\n",
       "    </tr>\n",
       "    <tr>\n",
       "      <th>61</th>\n",
       "      <td>31.270148</td>\n",
       "      <td>C7101</td>\n",
       "      <td>1551</td>\n",
       "      <td>16.402966</td>\n",
       "      <td>1551</td>\n",
       "      <td>0.930829</td>\n",
       "    </tr>\n",
       "    <tr>\n",
       "      <th>104</th>\n",
       "      <td>46.887690</td>\n",
       "      <td>C7103</td>\n",
       "      <td>1576</td>\n",
       "      <td>28.088198</td>\n",
       "      <td>1576</td>\n",
       "      <td>0.739245</td>\n",
       "    </tr>\n",
       "    <tr>\n",
       "      <th>35</th>\n",
       "      <td>21.975924</td>\n",
       "      <td>C6971</td>\n",
       "      <td>1163</td>\n",
       "      <td>14.024936</td>\n",
       "      <td>1163</td>\n",
       "      <td>0.647930</td>\n",
       "    </tr>\n",
       "    <tr>\n",
       "      <th>161</th>\n",
       "      <td>1949.255493</td>\n",
       "      <td>scaffold30</td>\n",
       "      <td>1593</td>\n",
       "      <td>1257.839297</td>\n",
       "      <td>1593</td>\n",
       "      <td>0.631976</td>\n",
       "    </tr>\n",
       "    <tr>\n",
       "      <th>130</th>\n",
       "      <td>63.540594</td>\n",
       "      <td>C7125</td>\n",
       "      <td>2525</td>\n",
       "      <td>42.431683</td>\n",
       "      <td>2525</td>\n",
       "      <td>0.582537</td>\n",
       "    </tr>\n",
       "    <tr>\n",
       "      <th>55</th>\n",
       "      <td>29.186538</td>\n",
       "      <td>C6877</td>\n",
       "      <td>1040</td>\n",
       "      <td>19.674038</td>\n",
       "      <td>1040</td>\n",
       "      <td>0.569010</td>\n",
       "    </tr>\n",
       "    <tr>\n",
       "      <th>86</th>\n",
       "      <td>39.289428</td>\n",
       "      <td>C6961</td>\n",
       "      <td>1154</td>\n",
       "      <td>26.746967</td>\n",
       "      <td>1154</td>\n",
       "      <td>0.554766</td>\n",
       "    </tr>\n",
       "    <tr>\n",
       "      <th>85</th>\n",
       "      <td>38.777700</td>\n",
       "      <td>C7079</td>\n",
       "      <td>1435</td>\n",
       "      <td>26.468990</td>\n",
       "      <td>1435</td>\n",
       "      <td>0.550924</td>\n",
       "    </tr>\n",
       "    <tr>\n",
       "      <th>76</th>\n",
       "      <td>35.172448</td>\n",
       "      <td>C6849</td>\n",
       "      <td>1009</td>\n",
       "      <td>24.716551</td>\n",
       "      <td>1009</td>\n",
       "      <td>0.508968</td>\n",
       "    </tr>\n",
       "    <tr>\n",
       "      <th>...</th>\n",
       "      <td>...</td>\n",
       "      <td>...</td>\n",
       "      <td>...</td>\n",
       "      <td>...</td>\n",
       "      <td>...</td>\n",
       "      <td>...</td>\n",
       "    </tr>\n",
       "    <tr>\n",
       "      <th>67</th>\n",
       "      <td>33.095161</td>\n",
       "      <td>C7015</td>\n",
       "      <td>1240</td>\n",
       "      <td>45.112097</td>\n",
       "      <td>1240</td>\n",
       "      <td>-0.446894</td>\n",
       "    </tr>\n",
       "    <tr>\n",
       "      <th>53</th>\n",
       "      <td>28.818526</td>\n",
       "      <td>C6903</td>\n",
       "      <td>1058</td>\n",
       "      <td>39.979206</td>\n",
       "      <td>1058</td>\n",
       "      <td>-0.472253</td>\n",
       "    </tr>\n",
       "    <tr>\n",
       "      <th>97</th>\n",
       "      <td>44.475945</td>\n",
       "      <td>C6973</td>\n",
       "      <td>1164</td>\n",
       "      <td>62.435567</td>\n",
       "      <td>1164</td>\n",
       "      <td>-0.489343</td>\n",
       "    </tr>\n",
       "    <tr>\n",
       "      <th>89</th>\n",
       "      <td>41.233397</td>\n",
       "      <td>C6899</td>\n",
       "      <td>1054</td>\n",
       "      <td>58.067362</td>\n",
       "      <td>1054</td>\n",
       "      <td>-0.493914</td>\n",
       "    </tr>\n",
       "    <tr>\n",
       "      <th>40</th>\n",
       "      <td>23.446729</td>\n",
       "      <td>C6913</td>\n",
       "      <td>1070</td>\n",
       "      <td>33.704673</td>\n",
       "      <td>1070</td>\n",
       "      <td>-0.523562</td>\n",
       "    </tr>\n",
       "    <tr>\n",
       "      <th>110</th>\n",
       "      <td>48.304139</td>\n",
       "      <td>C6875</td>\n",
       "      <td>1039</td>\n",
       "      <td>69.641001</td>\n",
       "      <td>1039</td>\n",
       "      <td>-0.527790</td>\n",
       "    </tr>\n",
       "    <tr>\n",
       "      <th>99</th>\n",
       "      <td>45.140800</td>\n",
       "      <td>C7017</td>\n",
       "      <td>1250</td>\n",
       "      <td>66.401600</td>\n",
       "      <td>1250</td>\n",
       "      <td>-0.556786</td>\n",
       "    </tr>\n",
       "    <tr>\n",
       "      <th>23</th>\n",
       "      <td>18.493056</td>\n",
       "      <td>C6847</td>\n",
       "      <td>1008</td>\n",
       "      <td>27.329365</td>\n",
       "      <td>1008</td>\n",
       "      <td>-0.563468</td>\n",
       "    </tr>\n",
       "    <tr>\n",
       "      <th>78</th>\n",
       "      <td>36.161074</td>\n",
       "      <td>C6879</td>\n",
       "      <td>1043</td>\n",
       "      <td>53.485139</td>\n",
       "      <td>1043</td>\n",
       "      <td>-0.564701</td>\n",
       "    </tr>\n",
       "    <tr>\n",
       "      <th>80</th>\n",
       "      <td>37.267561</td>\n",
       "      <td>C7021</td>\n",
       "      <td>1267</td>\n",
       "      <td>56.493291</td>\n",
       "      <td>1267</td>\n",
       "      <td>-0.600159</td>\n",
       "    </tr>\n",
       "    <tr>\n",
       "      <th>7</th>\n",
       "      <td>13.817606</td>\n",
       "      <td>C7073</td>\n",
       "      <td>1420</td>\n",
       "      <td>21.638028</td>\n",
       "      <td>1420</td>\n",
       "      <td>-0.647061</td>\n",
       "    </tr>\n",
       "    <tr>\n",
       "      <th>17</th>\n",
       "      <td>16.534722</td>\n",
       "      <td>scaffold14</td>\n",
       "      <td>1152</td>\n",
       "      <td>26.012153</td>\n",
       "      <td>1152</td>\n",
       "      <td>-0.653687</td>\n",
       "    </tr>\n",
       "    <tr>\n",
       "      <th>15</th>\n",
       "      <td>16.111024</td>\n",
       "      <td>C7025</td>\n",
       "      <td>1270</td>\n",
       "      <td>25.496850</td>\n",
       "      <td>1270</td>\n",
       "      <td>-0.662271</td>\n",
       "    </tr>\n",
       "    <tr>\n",
       "      <th>66</th>\n",
       "      <td>33.050495</td>\n",
       "      <td>C6853</td>\n",
       "      <td>1010</td>\n",
       "      <td>54.527723</td>\n",
       "      <td>1010</td>\n",
       "      <td>-0.722318</td>\n",
       "    </tr>\n",
       "    <tr>\n",
       "      <th>9</th>\n",
       "      <td>14.180881</td>\n",
       "      <td>C6911</td>\n",
       "      <td>1067</td>\n",
       "      <td>23.728210</td>\n",
       "      <td>1067</td>\n",
       "      <td>-0.742656</td>\n",
       "    </tr>\n",
       "    <tr>\n",
       "      <th>14</th>\n",
       "      <td>15.861406</td>\n",
       "      <td>C7091</td>\n",
       "      <td>1508</td>\n",
       "      <td>26.950928</td>\n",
       "      <td>1508</td>\n",
       "      <td>-0.764814</td>\n",
       "    </tr>\n",
       "    <tr>\n",
       "      <th>106</th>\n",
       "      <td>47.249791</td>\n",
       "      <td>C6993</td>\n",
       "      <td>1197</td>\n",
       "      <td>80.556391</td>\n",
       "      <td>1197</td>\n",
       "      <td>-0.769691</td>\n",
       "    </tr>\n",
       "    <tr>\n",
       "      <th>24</th>\n",
       "      <td>19.157380</td>\n",
       "      <td>C7121</td>\n",
       "      <td>2046</td>\n",
       "      <td>32.688172</td>\n",
       "      <td>2046</td>\n",
       "      <td>-0.770868</td>\n",
       "    </tr>\n",
       "    <tr>\n",
       "      <th>2</th>\n",
       "      <td>11.339567</td>\n",
       "      <td>scaffold79</td>\n",
       "      <td>1016</td>\n",
       "      <td>19.390748</td>\n",
       "      <td>1016</td>\n",
       "      <td>-0.774003</td>\n",
       "    </tr>\n",
       "    <tr>\n",
       "      <th>3</th>\n",
       "      <td>11.996218</td>\n",
       "      <td>C7049</td>\n",
       "      <td>1322</td>\n",
       "      <td>20.648260</td>\n",
       "      <td>1322</td>\n",
       "      <td>-0.783441</td>\n",
       "    </tr>\n",
       "    <tr>\n",
       "      <th>57</th>\n",
       "      <td>29.567111</td>\n",
       "      <td>C6945</td>\n",
       "      <td>1125</td>\n",
       "      <td>51.000000</td>\n",
       "      <td>1125</td>\n",
       "      <td>-0.786504</td>\n",
       "    </tr>\n",
       "    <tr>\n",
       "      <th>8</th>\n",
       "      <td>14.152971</td>\n",
       "      <td>C7127</td>\n",
       "      <td>2726</td>\n",
       "      <td>25.190389</td>\n",
       "      <td>2726</td>\n",
       "      <td>-0.831768</td>\n",
       "    </tr>\n",
       "    <tr>\n",
       "      <th>34</th>\n",
       "      <td>21.775021</td>\n",
       "      <td>C6977</td>\n",
       "      <td>1169</td>\n",
       "      <td>40.591959</td>\n",
       "      <td>1169</td>\n",
       "      <td>-0.898520</td>\n",
       "    </tr>\n",
       "    <tr>\n",
       "      <th>33</th>\n",
       "      <td>21.741935</td>\n",
       "      <td>C7013</td>\n",
       "      <td>1240</td>\n",
       "      <td>40.694355</td>\n",
       "      <td>1240</td>\n",
       "      <td>-0.904348</td>\n",
       "    </tr>\n",
       "    <tr>\n",
       "      <th>11</th>\n",
       "      <td>14.848562</td>\n",
       "      <td>scaffold20</td>\n",
       "      <td>1182</td>\n",
       "      <td>28.628596</td>\n",
       "      <td>1182</td>\n",
       "      <td>-0.947134</td>\n",
       "    </tr>\n",
       "    <tr>\n",
       "      <th>25</th>\n",
       "      <td>19.452290</td>\n",
       "      <td>C6893</td>\n",
       "      <td>1048</td>\n",
       "      <td>41.033397</td>\n",
       "      <td>1048</td>\n",
       "      <td>-1.076859</td>\n",
       "    </tr>\n",
       "    <tr>\n",
       "      <th>5</th>\n",
       "      <td>12.605697</td>\n",
       "      <td>C7059</td>\n",
       "      <td>1334</td>\n",
       "      <td>29.838831</td>\n",
       "      <td>1334</td>\n",
       "      <td>-1.243115</td>\n",
       "    </tr>\n",
       "    <tr>\n",
       "      <th>22</th>\n",
       "      <td>17.769287</td>\n",
       "      <td>C7065</td>\n",
       "      <td>1361</td>\n",
       "      <td>45.359295</td>\n",
       "      <td>1361</td>\n",
       "      <td>-1.352012</td>\n",
       "    </tr>\n",
       "    <tr>\n",
       "      <th>1</th>\n",
       "      <td>11.104535</td>\n",
       "      <td>C7039</td>\n",
       "      <td>1301</td>\n",
       "      <td>42.129900</td>\n",
       "      <td>1301</td>\n",
       "      <td>-1.923696</td>\n",
       "    </tr>\n",
       "    <tr>\n",
       "      <th>0</th>\n",
       "      <td>7.878261</td>\n",
       "      <td>C6959</td>\n",
       "      <td>1150</td>\n",
       "      <td>52.776522</td>\n",
       "      <td>1150</td>\n",
       "      <td>-2.743947</td>\n",
       "    </tr>\n",
       "  </tbody>\n",
       "</table>\n",
       "<p>168 rows × 6 columns</p>\n",
       "</div>"
      ],
      "text/plain": [
       "     avg_cov_male    scaffold  length_male  avg_cov_female  length_female  \\\n",
       "77      36.070813       C6885         1045        0.000000           1045   \n",
       "129     63.134006       C7069         1388        0.000000           1388   \n",
       "36      22.005900       C6859         1017        0.000000           1017   \n",
       "59      30.333333       C6883         1044        0.000000           1044   \n",
       "120     55.515952       C7119         2006        0.000000           2006   \n",
       "126     60.450872       C6925         1089        0.071625           1089   \n",
       "45      24.847270       C6981         1172        0.032423           1172   \n",
       "32      21.204601       C7007         1217        0.489729           1217   \n",
       "43      24.285586       C6941         1117        0.841540           1117   \n",
       "72      34.294904       C6995         1197        5.982456           1197   \n",
       "6       13.023969       C6881         1043        2.508150           1043   \n",
       "64      31.868069       C6889         1046        7.540153           1046   \n",
       "29      20.955078       C6863         1024        8.859375           1024   \n",
       "52      27.809568       C6907         1066       12.437148           1066   \n",
       "107     47.389300       C7005         1215       22.535802           1215   \n",
       "113     50.912117       C7085         1502       24.439414           1502   \n",
       "39      23.362117       C6915         1077       11.324977           1077   \n",
       "48      26.098673       C7003         1206       12.917081           1206   \n",
       "98      44.654741       C6943         1118       22.884615           1118   \n",
       "42      24.181818       C6871         1034       12.482592           1034   \n",
       "37      22.266200       C6955         1142       11.534151           1142   \n",
       "61      31.270148       C7101         1551       16.402966           1551   \n",
       "104     46.887690       C7103         1576       28.088198           1576   \n",
       "35      21.975924       C6971         1163       14.024936           1163   \n",
       "161   1949.255493  scaffold30         1593     1257.839297           1593   \n",
       "130     63.540594       C7125         2525       42.431683           2525   \n",
       "55      29.186538       C6877         1040       19.674038           1040   \n",
       "86      39.289428       C6961         1154       26.746967           1154   \n",
       "85      38.777700       C7079         1435       26.468990           1435   \n",
       "76      35.172448       C6849         1009       24.716551           1009   \n",
       "..            ...         ...          ...             ...            ...   \n",
       "67      33.095161       C7015         1240       45.112097           1240   \n",
       "53      28.818526       C6903         1058       39.979206           1058   \n",
       "97      44.475945       C6973         1164       62.435567           1164   \n",
       "89      41.233397       C6899         1054       58.067362           1054   \n",
       "40      23.446729       C6913         1070       33.704673           1070   \n",
       "110     48.304139       C6875         1039       69.641001           1039   \n",
       "99      45.140800       C7017         1250       66.401600           1250   \n",
       "23      18.493056       C6847         1008       27.329365           1008   \n",
       "78      36.161074       C6879         1043       53.485139           1043   \n",
       "80      37.267561       C7021         1267       56.493291           1267   \n",
       "7       13.817606       C7073         1420       21.638028           1420   \n",
       "17      16.534722  scaffold14         1152       26.012153           1152   \n",
       "15      16.111024       C7025         1270       25.496850           1270   \n",
       "66      33.050495       C6853         1010       54.527723           1010   \n",
       "9       14.180881       C6911         1067       23.728210           1067   \n",
       "14      15.861406       C7091         1508       26.950928           1508   \n",
       "106     47.249791       C6993         1197       80.556391           1197   \n",
       "24      19.157380       C7121         2046       32.688172           2046   \n",
       "2       11.339567  scaffold79         1016       19.390748           1016   \n",
       "3       11.996218       C7049         1322       20.648260           1322   \n",
       "57      29.567111       C6945         1125       51.000000           1125   \n",
       "8       14.152971       C7127         2726       25.190389           2726   \n",
       "34      21.775021       C6977         1169       40.591959           1169   \n",
       "33      21.741935       C7013         1240       40.694355           1240   \n",
       "11      14.848562  scaffold20         1182       28.628596           1182   \n",
       "25      19.452290       C6893         1048       41.033397           1048   \n",
       "5       12.605697       C7059         1334       29.838831           1334   \n",
       "22      17.769287       C7065         1361       45.359295           1361   \n",
       "1       11.104535       C7039         1301       42.129900           1301   \n",
       "0        7.878261       C6959         1150       52.776522           1150   \n",
       "\n",
       "           fc  \n",
       "77        inf  \n",
       "129       inf  \n",
       "36        inf  \n",
       "59        inf  \n",
       "120       inf  \n",
       "126  9.721077  \n",
       "45   9.581845  \n",
       "32   5.436250  \n",
       "43   4.850925  \n",
       "72   2.519184  \n",
       "6    2.376474  \n",
       "64   2.079446  \n",
       "29   1.242023  \n",
       "52   1.160926  \n",
       "107  1.072343  \n",
       "113  1.058799  \n",
       "39   1.044663  \n",
       "48   1.014696  \n",
       "98   0.964435  \n",
       "42   0.954005  \n",
       "37   0.948944  \n",
       "61   0.930829  \n",
       "104  0.739245  \n",
       "35   0.647930  \n",
       "161  0.631976  \n",
       "130  0.582537  \n",
       "55   0.569010  \n",
       "86   0.554766  \n",
       "85   0.550924  \n",
       "76   0.508968  \n",
       "..        ...  \n",
       "67  -0.446894  \n",
       "53  -0.472253  \n",
       "97  -0.489343  \n",
       "89  -0.493914  \n",
       "40  -0.523562  \n",
       "110 -0.527790  \n",
       "99  -0.556786  \n",
       "23  -0.563468  \n",
       "78  -0.564701  \n",
       "80  -0.600159  \n",
       "7   -0.647061  \n",
       "17  -0.653687  \n",
       "15  -0.662271  \n",
       "66  -0.722318  \n",
       "9   -0.742656  \n",
       "14  -0.764814  \n",
       "106 -0.769691  \n",
       "24  -0.770868  \n",
       "2   -0.774003  \n",
       "3   -0.783441  \n",
       "57  -0.786504  \n",
       "8   -0.831768  \n",
       "34  -0.898520  \n",
       "33  -0.904348  \n",
       "11  -0.947134  \n",
       "25  -1.076859  \n",
       "5   -1.243115  \n",
       "22  -1.352012  \n",
       "1   -1.923696  \n",
       "0   -2.743947  \n",
       "\n",
       "[168 rows x 6 columns]"
      ]
     },
     "execution_count": 87,
     "metadata": {},
     "output_type": "execute_result"
    }
   ],
   "source": [
    "avgCovDf.sort_values(['fc'],ascending=False)"
   ]
  },
  {
   "cell_type": "code",
   "execution_count": null,
   "metadata": {
    "collapsed": true
   },
   "outputs": [],
   "source": []
  },
  {
   "cell_type": "markdown",
   "metadata": {},
   "source": [
    "### Aligning Individual Libararies to Male Genome"
   ]
  },
  {
   "cell_type": "markdown",
   "metadata": {},
   "source": [
    "#### Converting to FQ"
   ]
  },
  {
   "cell_type": "code",
   "execution_count": 88,
   "metadata": {
    "ExecuteTime": {
     "end_time": "2017-10-23T15:43:08.166054Z",
     "start_time": "2017-10-23T15:43:08.143180Z"
    },
    "collapsed": true
   },
   "outputs": [],
   "source": [
    "unmappedFastqs={}\n",
    "with open('../bin/extract_indvidual_fq.txt','w') as fw:\n",
    "    for sample_name in unmappedPathsDict:\n",
    "        sex = sampleToSexDict[sample_name]\n",
    "        if sex =='M' or sex =='F':\n",
    "            key = (sample_name, sex)\n",
    "            output_1 = '../data/unmapped_{}_{}_1.fq'.format(*key)\n",
    "            output_2 = '../data/unmapped_{}_{}_2.fq'.format(*key)\n",
    "            command = \"bedtools bamtofastq -i {} -fq {} -fq2 {}\".format(\n",
    "                unmappedPathsDict[sample_name],\n",
    "                output_1,\n",
    "                output_2\n",
    "                )\n",
    "            fw.write(command + '\\n')\n",
    "            unmappedFastqs[key] = [output_1, output_2]"
   ]
  },
  {
   "cell_type": "code",
   "execution_count": 89,
   "metadata": {
    "ExecuteTime": {
     "end_time": "2017-10-23T15:43:08.240847Z",
     "start_time": "2017-10-23T15:43:08.167806Z"
    }
   },
   "outputs": [
    {
     "name": "stdout",
     "output_type": "stream",
     "text": [
      "bedtools bamtofastq -i ../data/ATCACG_merged_sorted_markDup_indelRealign.unmapped.bam -fq ../data/unmapped_A.tig_21545_M_1.fq -fq2 ../data/unmapped_A.tig_21545_M_2.fq\n",
      "bedtools bamtofastq -i ../data/ACAGTG_merged_sorted_markDup_indelRealign.unmapped.bam -fq ../data/unmapped_A.tig_21321_F_1.fq -fq2 ../data/unmapped_A.tig_21321_F_2.fq\n",
      "bedtools bamtofastq -i ../data/GCCAAT_merged_sorted_markDup_indelRealign.unmapped.bam -fq ../data/unmapped_A.tig_21322_M_1.fq -fq2 ../data/unmapped_A.tig_21322_M_2.fq\n",
      "bedtools bamtofastq -i ../data/CTTGTA_merged_sorted_markDup_indelRealign.unmapped.bam -fq ../data/unmapped_A.tig_21544_F_1.fq -fq2 ../data/unmapped_A.tig_21544_F_2.fq\n",
      "bedtools bamtofastq -i ../data/CGATGT_merged_sorted_markDup_indelRealign.unmapped.bam -fq ../data/unmapped_A.tig_17115_M_1.fq -fq2 ../data/unmapped_A.tig_17115_M_2.fq\n",
      "bedtools bamtofastq -i ../data/TTAGGC_merged_sorted_markDup_indelRealign.unmapped.bam -fq ../data/unmapped_A.tig_21546_F_1.fq -fq2 ../data/unmapped_A.tig_21546_F_2.fq\n",
      "bedtools bamtofastq -i ../data/TGACCA_merged_sorted_markDup_indelRealign.unmapped.bam -fq ../data/unmapped_A.tig_17118_F_1.fq -fq2 ../data/unmapped_A.tig_17118_F_2.fq\n",
      "bedtools bamtofastq -i ../data/CAGATC_merged_sorted_markDup_indelRealign.unmapped.bam -fq ../data/unmapped_A.tig_21323_M_1.fq -fq2 ../data/unmapped_A.tig_21323_M_2.fq\n"
     ]
    }
   ],
   "source": [
    "%%bash\n",
    "cat ../bin/extract_indvidual_fq.txt\n",
    "#parallel --no-notice -j 8 :::: ../bin/extract_indvidual_fq.txt &> ../bin/extract_indvidual_fq.out"
   ]
  },
  {
   "cell_type": "markdown",
   "metadata": {},
   "source": [
    "#### Aligning"
   ]
  },
  {
   "cell_type": "code",
   "execution_count": 90,
   "metadata": {
    "ExecuteTime": {
     "end_time": "2017-10-23T15:43:08.282249Z",
     "start_time": "2017-10-23T15:43:08.245464Z"
    },
    "collapsed": true
   },
   "outputs": [],
   "source": [
    "indvBams = {}\n",
    "with open('../bin/indv_to_male_align.txt', 'w') as fw:\n",
    "    for key in unmappedFastqs:\n",
    "        out_bam = '../data/{}_{}_rM.bam'.format(*key)\n",
    "        temp = '../data/temp_{}_{}_rM_'.format(*key)\n",
    "        stdout = '../data/{}_{}_rM.out'.format(*key)\n",
    "        bwa_command = 'bwa mem -t 8 {} {} {} | samtools sort -T {} -o {} &> {}'.format(\n",
    "            assemblyPaths['rM'],\n",
    "            unmappedFastqs[key][0],\n",
    "            unmappedFastqs[key][1],\n",
    "            temp,\n",
    "            out_bam,\n",
    "            stdout,\n",
    "        )\n",
    "        indvBams[key] = out_bam\n",
    "        fw.write(bwa_command + '\\n')"
   ]
  },
  {
   "cell_type": "code",
   "execution_count": 91,
   "metadata": {
    "ExecuteTime": {
     "end_time": "2017-10-23T15:43:08.317669Z",
     "start_time": "2017-10-23T15:43:08.285429Z"
    }
   },
   "outputs": [
    {
     "name": "stdout",
     "output_type": "stream",
     "text": [
      "bwa mem -t 8 ../data/male_assembly/male_assembly.scafSeq ../data/unmapped_A.tig_21545_M_1.fq ../data/unmapped_A.tig_21545_M_2.fq | samtools sort -T ../data/temp_A.tig_21545_M_rM_ -o ../data/A.tig_21545_M_rM.bam &> ../data/A.tig_21545_M_rM.out\n",
      "bwa mem -t 8 ../data/male_assembly/male_assembly.scafSeq ../data/unmapped_A.tig_21321_F_1.fq ../data/unmapped_A.tig_21321_F_2.fq | samtools sort -T ../data/temp_A.tig_21321_F_rM_ -o ../data/A.tig_21321_F_rM.bam &> ../data/A.tig_21321_F_rM.out\n",
      "bwa mem -t 8 ../data/male_assembly/male_assembly.scafSeq ../data/unmapped_A.tig_21322_M_1.fq ../data/unmapped_A.tig_21322_M_2.fq | samtools sort -T ../data/temp_A.tig_21322_M_rM_ -o ../data/A.tig_21322_M_rM.bam &> ../data/A.tig_21322_M_rM.out\n",
      "bwa mem -t 8 ../data/male_assembly/male_assembly.scafSeq ../data/unmapped_A.tig_21544_F_1.fq ../data/unmapped_A.tig_21544_F_2.fq | samtools sort -T ../data/temp_A.tig_21544_F_rM_ -o ../data/A.tig_21544_F_rM.bam &> ../data/A.tig_21544_F_rM.out\n",
      "bwa mem -t 8 ../data/male_assembly/male_assembly.scafSeq ../data/unmapped_A.tig_17115_M_1.fq ../data/unmapped_A.tig_17115_M_2.fq | samtools sort -T ../data/temp_A.tig_17115_M_rM_ -o ../data/A.tig_17115_M_rM.bam &> ../data/A.tig_17115_M_rM.out\n",
      "bwa mem -t 8 ../data/male_assembly/male_assembly.scafSeq ../data/unmapped_A.tig_21546_F_1.fq ../data/unmapped_A.tig_21546_F_2.fq | samtools sort -T ../data/temp_A.tig_21546_F_rM_ -o ../data/A.tig_21546_F_rM.bam &> ../data/A.tig_21546_F_rM.out\n",
      "bwa mem -t 8 ../data/male_assembly/male_assembly.scafSeq ../data/unmapped_A.tig_17118_F_1.fq ../data/unmapped_A.tig_17118_F_2.fq | samtools sort -T ../data/temp_A.tig_17118_F_rM_ -o ../data/A.tig_17118_F_rM.bam &> ../data/A.tig_17118_F_rM.out\n",
      "bwa mem -t 8 ../data/male_assembly/male_assembly.scafSeq ../data/unmapped_A.tig_21323_M_1.fq ../data/unmapped_A.tig_21323_M_2.fq | samtools sort -T ../data/temp_A.tig_21323_M_rM_ -o ../data/A.tig_21323_M_rM.bam &> ../data/A.tig_21323_M_rM.out\n"
     ]
    }
   ],
   "source": [
    "%%bash\n",
    "cat ../bin/indv_to_male_align.txt\n",
    "#parallel --no-notice -j 4 :::: ../bin/indv_to_male_align.txt &> ../bin/indv_to_male_align.out"
   ]
  },
  {
   "cell_type": "code",
   "execution_count": 92,
   "metadata": {
    "ExecuteTime": {
     "end_time": "2017-10-23T15:43:08.338542Z",
     "start_time": "2017-10-23T15:43:08.320734Z"
    },
    "collapsed": true
   },
   "outputs": [],
   "source": [
    "with open('../bin/indv_to_male_index.txt', 'w') as fw:\n",
    "    for key in indvBams:\n",
    "        command = 'samtools index -b {}'.format(indvBams[key])\n",
    "        fw.write(command + '\\n')\n",
    "        \n"
   ]
  },
  {
   "cell_type": "code",
   "execution_count": 93,
   "metadata": {
    "ExecuteTime": {
     "end_time": "2017-10-23T15:43:08.372843Z",
     "start_time": "2017-10-23T15:43:08.340920Z"
    }
   },
   "outputs": [
    {
     "name": "stdout",
     "output_type": "stream",
     "text": [
      "samtools index -b ../data/A.tig_21545_M_rM.bam\n",
      "samtools index -b ../data/A.tig_21321_F_rM.bam\n",
      "samtools index -b ../data/A.tig_21322_M_rM.bam\n",
      "samtools index -b ../data/A.tig_21544_F_rM.bam\n",
      "samtools index -b ../data/A.tig_17115_M_rM.bam\n",
      "samtools index -b ../data/A.tig_21546_F_rM.bam\n",
      "samtools index -b ../data/A.tig_17118_F_rM.bam\n",
      "samtools index -b ../data/A.tig_21323_M_rM.bam\n"
     ]
    }
   ],
   "source": [
    "%%bash\n",
    "cat ../bin/indv_to_male_index.txt\n",
    "#parallel --no-notice -j 8 :::: ../bin/indv_to_male_index.txt &> ../bin/indv_to_male_index.out"
   ]
  },
  {
   "cell_type": "code",
   "execution_count": 94,
   "metadata": {
    "ExecuteTime": {
     "end_time": "2017-10-23T15:43:53.222190Z",
     "start_time": "2017-10-23T15:43:08.375464Z"
    }
   },
   "outputs": [
    {
     "name": "stdout",
     "output_type": "stream",
     "text": [
      "../data/A.tig_17115_M_rM.bam\n",
      "A.tig_17115_M_rM\n",
      "../data/A.tig_17118_F_rM.bam\n",
      "A.tig_17118_F_rM\n",
      "../data/A.tig_21321_F_rM.bam\n",
      "A.tig_21321_F_rM\n",
      "../data/A.tig_21322_M_rM.bam\n",
      "A.tig_21322_M_rM\n",
      "../data/A.tig_21323_M_rM.bam\n",
      "A.tig_21323_M_rM\n",
      "../data/A.tig_21544_F_rM.bam\n",
      "A.tig_21544_F_rM\n",
      "../data/A.tig_21545_M_rM.bam\n",
      "A.tig_21545_M_rM\n",
      "../data/A.tig_21546_F_rM.bam\n",
      "A.tig_21546_F_rM\n",
      "A.tig_17115_M_rM,724129,10.20\n",
      "A.tig_17118_F_rM,543842,11.00\n",
      "A.tig_21321_F_rM,749486,12.00\n",
      "A.tig_21322_M_rM,774808,12.94\n",
      "A.tig_21323_M_rM,793697,14.20\n"
     ]
    }
   ],
   "source": [
    "%%bash\n",
    "rm ../data/flagstat_indv_data.csv\n",
    "touch ../data/flagstat_indv_data.csv\n",
    "for file in ../data/A.tig_*_*_rM.bam\n",
    " do\n",
    "  sample=$(basename $file | sed 's/.bam//')\n",
    "  flagstat=$(echo $file | sed 's/.bam/.flagstat/')\n",
    "  echo $file\n",
    "  echo $sample\n",
    "  samtools flagstat $file > $flagstat \n",
    "  grep \"mapped (\" $flagstat | sed \"s/ + 0 mapped (/,/\" | sed \"s/%.*$//\" | sed \"s/^/$sample,/\" >> ../data/flagstat_indv_data.csv\n",
    " done\n",
    "\n",
    "head -n 5 ../data/flagstat_indv_data.csv"
   ]
  },
  {
   "cell_type": "code",
   "execution_count": 95,
   "metadata": {
    "ExecuteTime": {
     "end_time": "2017-10-23T15:43:53.256846Z",
     "start_time": "2017-10-23T15:43:53.224776Z"
    }
   },
   "outputs": [
    {
     "data": {
      "text/html": [
       "<div>\n",
       "<style>\n",
       "    .dataframe thead tr:only-child th {\n",
       "        text-align: right;\n",
       "    }\n",
       "\n",
       "    .dataframe thead th {\n",
       "        text-align: left;\n",
       "    }\n",
       "\n",
       "    .dataframe tbody tr th {\n",
       "        vertical-align: top;\n",
       "    }\n",
       "</style>\n",
       "<table border=\"1\" class=\"dataframe\">\n",
       "  <thead>\n",
       "    <tr style=\"text-align: right;\">\n",
       "      <th></th>\n",
       "      <th>alignment</th>\n",
       "      <th>mapped_reads</th>\n",
       "      <th>percent_mapped</th>\n",
       "      <th>sample_name</th>\n",
       "      <th>sex</th>\n",
       "    </tr>\n",
       "  </thead>\n",
       "  <tbody>\n",
       "    <tr>\n",
       "      <th>0</th>\n",
       "      <td>A.tig_17115_M_rM</td>\n",
       "      <td>724129</td>\n",
       "      <td>10.20</td>\n",
       "      <td>A.tig_17115</td>\n",
       "      <td>M</td>\n",
       "    </tr>\n",
       "    <tr>\n",
       "      <th>1</th>\n",
       "      <td>A.tig_17118_F_rM</td>\n",
       "      <td>543842</td>\n",
       "      <td>11.00</td>\n",
       "      <td>A.tig_17118</td>\n",
       "      <td>F</td>\n",
       "    </tr>\n",
       "    <tr>\n",
       "      <th>2</th>\n",
       "      <td>A.tig_21321_F_rM</td>\n",
       "      <td>749486</td>\n",
       "      <td>12.00</td>\n",
       "      <td>A.tig_21321</td>\n",
       "      <td>F</td>\n",
       "    </tr>\n",
       "    <tr>\n",
       "      <th>3</th>\n",
       "      <td>A.tig_21322_M_rM</td>\n",
       "      <td>774808</td>\n",
       "      <td>12.94</td>\n",
       "      <td>A.tig_21322</td>\n",
       "      <td>M</td>\n",
       "    </tr>\n",
       "    <tr>\n",
       "      <th>4</th>\n",
       "      <td>A.tig_21323_M_rM</td>\n",
       "      <td>793697</td>\n",
       "      <td>14.20</td>\n",
       "      <td>A.tig_21323</td>\n",
       "      <td>M</td>\n",
       "    </tr>\n",
       "    <tr>\n",
       "      <th>5</th>\n",
       "      <td>A.tig_21544_F_rM</td>\n",
       "      <td>964352</td>\n",
       "      <td>14.41</td>\n",
       "      <td>A.tig_21544</td>\n",
       "      <td>F</td>\n",
       "    </tr>\n",
       "    <tr>\n",
       "      <th>6</th>\n",
       "      <td>A.tig_21545_M_rM</td>\n",
       "      <td>851393</td>\n",
       "      <td>13.71</td>\n",
       "      <td>A.tig_21545</td>\n",
       "      <td>M</td>\n",
       "    </tr>\n",
       "    <tr>\n",
       "      <th>7</th>\n",
       "      <td>A.tig_21546_F_rM</td>\n",
       "      <td>1271911</td>\n",
       "      <td>18.61</td>\n",
       "      <td>A.tig_21546</td>\n",
       "      <td>F</td>\n",
       "    </tr>\n",
       "  </tbody>\n",
       "</table>\n",
       "</div>"
      ],
      "text/plain": [
       "          alignment  mapped_reads  percent_mapped  sample_name sex\n",
       "0  A.tig_17115_M_rM        724129           10.20  A.tig_17115   M\n",
       "1  A.tig_17118_F_rM        543842           11.00  A.tig_17118   F\n",
       "2  A.tig_21321_F_rM        749486           12.00  A.tig_21321   F\n",
       "3  A.tig_21322_M_rM        774808           12.94  A.tig_21322   M\n",
       "4  A.tig_21323_M_rM        793697           14.20  A.tig_21323   M\n",
       "5  A.tig_21544_F_rM        964352           14.41  A.tig_21544   F\n",
       "6  A.tig_21545_M_rM        851393           13.71  A.tig_21545   M\n",
       "7  A.tig_21546_F_rM       1271911           18.61  A.tig_21546   F"
      ]
     },
     "execution_count": 95,
     "metadata": {},
     "output_type": "execute_result"
    }
   ],
   "source": [
    "normFactorsDF = pd.read_csv('../data/flagstat_indv_data.csv', names = ['alignment','mapped_reads','percent_mapped'])\n",
    "normFactorsDF['sample_name'] = normFactorsDF['alignment'].apply(lambda x: '_'.join(x.split('_')[:2]))\n",
    "normFactorsDF['sex'] = normFactorsDF['alignment'].apply(lambda x: x.split('_')[2])\n",
    "\n",
    "\n",
    "normFactorsDF"
   ]
  },
  {
   "cell_type": "markdown",
   "metadata": {},
   "source": [
    "#### Generating Coverage Tracks"
   ]
  },
  {
   "cell_type": "code",
   "execution_count": 96,
   "metadata": {
    "ExecuteTime": {
     "end_time": "2017-10-23T15:43:53.280447Z",
     "start_time": "2017-10-23T15:43:53.258583Z"
    },
    "collapsed": true
   },
   "outputs": [],
   "source": [
    "indvBedGraphs = {}\n",
    "with open('../bin/indv_bedtools_genome_cov.txt', 'w') as fw:\n",
    "    for key in indvBams:\n",
    "        bed = indvBams[key].replace('.bam', '.bedgraph')\n",
    "        command  = 'bedtools genomecov -ibam {} -bga > {}'.format(indvBams[key], bed)\n",
    "        indvBedGraphs[key] = bed\n",
    "        fw.write(command + '\\n')"
   ]
  },
  {
   "cell_type": "code",
   "execution_count": 97,
   "metadata": {
    "ExecuteTime": {
     "end_time": "2017-10-23T15:43:53.321274Z",
     "start_time": "2017-10-23T15:43:53.282191Z"
    }
   },
   "outputs": [
    {
     "name": "stdout",
     "output_type": "stream",
     "text": [
      "bedtools genomecov -ibam ../data/A.tig_21545_M_rM.bam -bga > ../data/A.tig_21545_M_rM.bedgraph\n",
      "bedtools genomecov -ibam ../data/A.tig_21321_F_rM.bam -bga > ../data/A.tig_21321_F_rM.bedgraph\n",
      "bedtools genomecov -ibam ../data/A.tig_21322_M_rM.bam -bga > ../data/A.tig_21322_M_rM.bedgraph\n",
      "bedtools genomecov -ibam ../data/A.tig_21544_F_rM.bam -bga > ../data/A.tig_21544_F_rM.bedgraph\n",
      "bedtools genomecov -ibam ../data/A.tig_17115_M_rM.bam -bga > ../data/A.tig_17115_M_rM.bedgraph\n",
      "bedtools genomecov -ibam ../data/A.tig_21546_F_rM.bam -bga > ../data/A.tig_21546_F_rM.bedgraph\n",
      "bedtools genomecov -ibam ../data/A.tig_17118_F_rM.bam -bga > ../data/A.tig_17118_F_rM.bedgraph\n",
      "bedtools genomecov -ibam ../data/A.tig_21323_M_rM.bam -bga > ../data/A.tig_21323_M_rM.bedgraph\n"
     ]
    }
   ],
   "source": [
    "%%bash\n",
    "cat ../bin/indv_bedtools_genome_cov.txt\n",
    "#parallel --no-notice -j 8 :::: ../bin/indv_bedtools_genome_cov.txt &> ../bin/indv_bedtools_genome_cov.out"
   ]
  },
  {
   "cell_type": "markdown",
   "metadata": {},
   "source": [
    "#### Load In Coverage Files"
   ]
  },
  {
   "cell_type": "code",
   "execution_count": 98,
   "metadata": {
    "ExecuteTime": {
     "end_time": "2017-10-23T15:55:44.280990Z",
     "start_time": "2017-10-23T15:43:53.323259Z"
    }
   },
   "outputs": [
    {
     "data": {
      "text/html": [
       "<div>\n",
       "<style>\n",
       "    .dataframe thead tr:only-child th {\n",
       "        text-align: right;\n",
       "    }\n",
       "\n",
       "    .dataframe thead th {\n",
       "        text-align: left;\n",
       "    }\n",
       "\n",
       "    .dataframe tbody tr th {\n",
       "        vertical-align: top;\n",
       "    }\n",
       "</style>\n",
       "<table border=\"1\" class=\"dataframe\">\n",
       "  <thead>\n",
       "    <tr style=\"text-align: right;\">\n",
       "      <th></th>\n",
       "      <th>avg_cov</th>\n",
       "      <th>sample_name</th>\n",
       "      <th>scaffold</th>\n",
       "      <th>sex</th>\n",
       "    </tr>\n",
       "  </thead>\n",
       "  <tbody>\n",
       "    <tr>\n",
       "      <th>0</th>\n",
       "      <td>3.586141</td>\n",
       "      <td>A.tig_21545</td>\n",
       "      <td>scaffold1</td>\n",
       "      <td>M</td>\n",
       "    </tr>\n",
       "    <tr>\n",
       "      <th>1</th>\n",
       "      <td>3.778757</td>\n",
       "      <td>A.tig_21545</td>\n",
       "      <td>scaffold2</td>\n",
       "      <td>M</td>\n",
       "    </tr>\n",
       "    <tr>\n",
       "      <th>2</th>\n",
       "      <td>4.216106</td>\n",
       "      <td>A.tig_21545</td>\n",
       "      <td>scaffold3</td>\n",
       "      <td>M</td>\n",
       "    </tr>\n",
       "    <tr>\n",
       "      <th>3</th>\n",
       "      <td>6.164294</td>\n",
       "      <td>A.tig_21545</td>\n",
       "      <td>scaffold4</td>\n",
       "      <td>M</td>\n",
       "    </tr>\n",
       "    <tr>\n",
       "      <th>4</th>\n",
       "      <td>862.024958</td>\n",
       "      <td>A.tig_21545</td>\n",
       "      <td>scaffold5</td>\n",
       "      <td>M</td>\n",
       "    </tr>\n",
       "  </tbody>\n",
       "</table>\n",
       "</div>"
      ],
      "text/plain": [
       "      avg_cov  sample_name   scaffold sex\n",
       "0    3.586141  A.tig_21545  scaffold1   M\n",
       "1    3.778757  A.tig_21545  scaffold2   M\n",
       "2    4.216106  A.tig_21545  scaffold3   M\n",
       "3    6.164294  A.tig_21545  scaffold4   M\n",
       "4  862.024958  A.tig_21545  scaffold5   M"
      ]
     },
     "execution_count": 98,
     "metadata": {},
     "output_type": "execute_result"
    }
   ],
   "source": [
    "allSampList = []\n",
    "for key in indvBedGraphs:\n",
    "    mapped_reads = normFactorsDF[normFactorsDF['sample_name']==key[0]]['mapped_reads'].iloc[0]\n",
    "    df = pd.read_csv(indvBedGraphs[key], sep='\\t', names = ['scaffold', 'start', 'stop', 'coverage'])\n",
    "    df['interval_length'] = df.stop - df.start\n",
    "    for scaffold in df.scaffold.unique():\n",
    "        sdf = df[df.scaffold == scaffold]\n",
    "        \n",
    "        avg = ((sum(sdf.interval_length * sdf.coverage) / sdf.interval_length.sum()) / mapped_reads) * 1e6\n",
    "        \n",
    "        data = {'scaffold': scaffold, 'avg_cov': avg, 'sample_name':key[0], 'sex':key[1]}\n",
    "        \n",
    "        allSampList.append(data)\n",
    "\n",
    "allSampsAvgDf = pd.DataFrame(allSampList)\n",
    "allSampsAvgDf.head()"
   ]
  },
  {
   "cell_type": "code",
   "execution_count": 99,
   "metadata": {
    "ExecuteTime": {
     "end_time": "2017-10-23T15:55:44.297249Z",
     "start_time": "2017-10-23T15:55:44.283382Z"
    }
   },
   "outputs": [
    {
     "data": {
      "text/html": [
       "<div>\n",
       "<style>\n",
       "    .dataframe thead tr:only-child th {\n",
       "        text-align: right;\n",
       "    }\n",
       "\n",
       "    .dataframe thead th {\n",
       "        text-align: left;\n",
       "    }\n",
       "\n",
       "    .dataframe tbody tr th {\n",
       "        vertical-align: top;\n",
       "    }\n",
       "</style>\n",
       "<table border=\"1\" class=\"dataframe\">\n",
       "  <thead>\n",
       "    <tr style=\"text-align: right;\">\n",
       "      <th></th>\n",
       "      <th>avg_cov</th>\n",
       "      <th>sample_name</th>\n",
       "      <th>scaffold</th>\n",
       "      <th>sex</th>\n",
       "    </tr>\n",
       "  </thead>\n",
       "  <tbody>\n",
       "    <tr>\n",
       "      <th>0</th>\n",
       "      <td>3.586141</td>\n",
       "      <td>A.tig_21545</td>\n",
       "      <td>scaffold1</td>\n",
       "      <td>M</td>\n",
       "    </tr>\n",
       "    <tr>\n",
       "      <th>1</th>\n",
       "      <td>3.778757</td>\n",
       "      <td>A.tig_21545</td>\n",
       "      <td>scaffold2</td>\n",
       "      <td>M</td>\n",
       "    </tr>\n",
       "    <tr>\n",
       "      <th>2</th>\n",
       "      <td>4.216106</td>\n",
       "      <td>A.tig_21545</td>\n",
       "      <td>scaffold3</td>\n",
       "      <td>M</td>\n",
       "    </tr>\n",
       "    <tr>\n",
       "      <th>3</th>\n",
       "      <td>6.164294</td>\n",
       "      <td>A.tig_21545</td>\n",
       "      <td>scaffold4</td>\n",
       "      <td>M</td>\n",
       "    </tr>\n",
       "    <tr>\n",
       "      <th>4</th>\n",
       "      <td>862.024958</td>\n",
       "      <td>A.tig_21545</td>\n",
       "      <td>scaffold5</td>\n",
       "      <td>M</td>\n",
       "    </tr>\n",
       "  </tbody>\n",
       "</table>\n",
       "</div>"
      ],
      "text/plain": [
       "      avg_cov  sample_name   scaffold sex\n",
       "0    3.586141  A.tig_21545  scaffold1   M\n",
       "1    3.778757  A.tig_21545  scaffold2   M\n",
       "2    4.216106  A.tig_21545  scaffold3   M\n",
       "3    6.164294  A.tig_21545  scaffold4   M\n",
       "4  862.024958  A.tig_21545  scaffold5   M"
      ]
     },
     "execution_count": 99,
     "metadata": {},
     "output_type": "execute_result"
    }
   ],
   "source": [
    "allSampsAvgDf.head()"
   ]
  },
  {
   "cell_type": "code",
   "execution_count": 100,
   "metadata": {
    "ExecuteTime": {
     "end_time": "2017-10-23T15:55:44.364454Z",
     "start_time": "2017-10-23T15:55:44.299007Z"
    }
   },
   "outputs": [
    {
     "data": {
      "text/html": [
       "<div>\n",
       "<style>\n",
       "    .dataframe thead tr:only-child th {\n",
       "        text-align: right;\n",
       "    }\n",
       "\n",
       "    .dataframe thead th {\n",
       "        text-align: left;\n",
       "    }\n",
       "\n",
       "    .dataframe tbody tr th {\n",
       "        vertical-align: top;\n",
       "    }\n",
       "</style>\n",
       "<table border=\"1\" class=\"dataframe\">\n",
       "  <thead>\n",
       "    <tr style=\"text-align: right;\">\n",
       "      <th></th>\n",
       "      <th>avg_cov</th>\n",
       "      <th>sample_name</th>\n",
       "      <th>scaffold</th>\n",
       "      <th>sex</th>\n",
       "      <th>length</th>\n",
       "    </tr>\n",
       "  </thead>\n",
       "  <tbody>\n",
       "    <tr>\n",
       "      <th>0</th>\n",
       "      <td>3.586141</td>\n",
       "      <td>A.tig_21545</td>\n",
       "      <td>scaffold1</td>\n",
       "      <td>M</td>\n",
       "      <td>451</td>\n",
       "    </tr>\n",
       "    <tr>\n",
       "      <th>1</th>\n",
       "      <td>0.106503</td>\n",
       "      <td>A.tig_21321</td>\n",
       "      <td>scaffold1</td>\n",
       "      <td>F</td>\n",
       "      <td>451</td>\n",
       "    </tr>\n",
       "    <tr>\n",
       "      <th>2</th>\n",
       "      <td>3.316750</td>\n",
       "      <td>A.tig_21322</td>\n",
       "      <td>scaffold1</td>\n",
       "      <td>M</td>\n",
       "      <td>451</td>\n",
       "    </tr>\n",
       "    <tr>\n",
       "      <th>3</th>\n",
       "      <td>2.805096</td>\n",
       "      <td>A.tig_21544</td>\n",
       "      <td>scaffold1</td>\n",
       "      <td>F</td>\n",
       "      <td>451</td>\n",
       "    </tr>\n",
       "    <tr>\n",
       "      <th>4</th>\n",
       "      <td>1.674923</td>\n",
       "      <td>A.tig_17115</td>\n",
       "      <td>scaffold1</td>\n",
       "      <td>M</td>\n",
       "      <td>451</td>\n",
       "    </tr>\n",
       "  </tbody>\n",
       "</table>\n",
       "</div>"
      ],
      "text/plain": [
       "    avg_cov  sample_name   scaffold sex  length\n",
       "0  3.586141  A.tig_21545  scaffold1   M     451\n",
       "1  0.106503  A.tig_21321  scaffold1   F     451\n",
       "2  3.316750  A.tig_21322  scaffold1   M     451\n",
       "3  2.805096  A.tig_21544  scaffold1   F     451\n",
       "4  1.674923  A.tig_17115  scaffold1   M     451"
      ]
     },
     "execution_count": 100,
     "metadata": {},
     "output_type": "execute_result"
    }
   ],
   "source": [
    "allSampsAvgDf = allSampsAvgDf.merge(maleScaffoldLensDF)\n",
    "allSampsAvgDf.head()"
   ]
  },
  {
   "cell_type": "code",
   "execution_count": 101,
   "metadata": {
    "ExecuteTime": {
     "end_time": "2017-10-23T15:55:44.392826Z",
     "start_time": "2017-10-23T15:55:44.366130Z"
    }
   },
   "outputs": [
    {
     "data": {
      "text/html": [
       "<div>\n",
       "<style>\n",
       "    .dataframe thead tr:only-child th {\n",
       "        text-align: right;\n",
       "    }\n",
       "\n",
       "    .dataframe thead th {\n",
       "        text-align: left;\n",
       "    }\n",
       "\n",
       "    .dataframe tbody tr th {\n",
       "        vertical-align: top;\n",
       "    }\n",
       "</style>\n",
       "<table border=\"1\" class=\"dataframe\">\n",
       "  <thead>\n",
       "    <tr style=\"text-align: right;\">\n",
       "      <th></th>\n",
       "      <th>avg_cov</th>\n",
       "      <th>sample_name</th>\n",
       "      <th>scaffold</th>\n",
       "      <th>sex</th>\n",
       "      <th>length</th>\n",
       "    </tr>\n",
       "  </thead>\n",
       "  <tbody>\n",
       "    <tr>\n",
       "      <th>267</th>\n",
       "      <td>1226.652593</td>\n",
       "      <td>A.tig_21544</td>\n",
       "      <td>scaffold34</td>\n",
       "      <td>F</td>\n",
       "      <td>4646</td>\n",
       "    </tr>\n",
       "    <tr>\n",
       "      <th>265</th>\n",
       "      <td>1073.736011</td>\n",
       "      <td>A.tig_21321</td>\n",
       "      <td>scaffold34</td>\n",
       "      <td>F</td>\n",
       "      <td>4646</td>\n",
       "    </tr>\n",
       "    <tr>\n",
       "      <th>266</th>\n",
       "      <td>1076.089569</td>\n",
       "      <td>A.tig_21322</td>\n",
       "      <td>scaffold34</td>\n",
       "      <td>M</td>\n",
       "      <td>4646</td>\n",
       "    </tr>\n",
       "    <tr>\n",
       "      <th>268</th>\n",
       "      <td>760.383873</td>\n",
       "      <td>A.tig_17115</td>\n",
       "      <td>scaffold34</td>\n",
       "      <td>M</td>\n",
       "      <td>4646</td>\n",
       "    </tr>\n",
       "    <tr>\n",
       "      <th>269</th>\n",
       "      <td>1247.072896</td>\n",
       "      <td>A.tig_21546</td>\n",
       "      <td>scaffold34</td>\n",
       "      <td>F</td>\n",
       "      <td>4646</td>\n",
       "    </tr>\n",
       "  </tbody>\n",
       "</table>\n",
       "</div>"
      ],
      "text/plain": [
       "         avg_cov  sample_name    scaffold sex  length\n",
       "267  1226.652593  A.tig_21544  scaffold34   F    4646\n",
       "265  1073.736011  A.tig_21321  scaffold34   F    4646\n",
       "266  1076.089569  A.tig_21322  scaffold34   M    4646\n",
       "268   760.383873  A.tig_17115  scaffold34   M    4646\n",
       "269  1247.072896  A.tig_21546  scaffold34   F    4646"
      ]
     },
     "execution_count": 101,
     "metadata": {},
     "output_type": "execute_result"
    }
   ],
   "source": [
    "allSampsAvgDf = allSampsAvgDf.sort_values('length', ascending=False)\n",
    "allSampsAvgDf.head()"
   ]
  },
  {
   "cell_type": "code",
   "execution_count": 102,
   "metadata": {
    "ExecuteTime": {
     "end_time": "2017-10-23T15:55:45.694426Z",
     "start_time": "2017-10-23T15:55:44.394496Z"
    },
    "collapsed": true
   },
   "outputs": [],
   "source": [
    "allSampsAvgDf['sex_name'] = allSampsAvgDf.apply(lambda x: '_'.join([x['sex'], x['sample_name']]), axis=1)"
   ]
  },
  {
   "cell_type": "markdown",
   "metadata": {
    "ExecuteTime": {
     "end_time": "2017-10-20T21:23:06.359596Z",
     "start_time": "2017-10-20T21:23:06.355742Z"
    }
   },
   "source": [
    "#### Clustering and Identification of >=1Kb Shared Male Contigs/Scaffolds"
   ]
  },
  {
   "cell_type": "code",
   "execution_count": 103,
   "metadata": {
    "ExecuteTime": {
     "end_time": "2017-10-23T15:55:45.796755Z",
     "start_time": "2017-10-23T15:55:45.698150Z"
    }
   },
   "outputs": [
    {
     "data": {
      "text/html": [
       "<div>\n",
       "<style>\n",
       "    .dataframe thead tr:only-child th {\n",
       "        text-align: right;\n",
       "    }\n",
       "\n",
       "    .dataframe thead th {\n",
       "        text-align: left;\n",
       "    }\n",
       "\n",
       "    .dataframe tbody tr th {\n",
       "        vertical-align: top;\n",
       "    }\n",
       "</style>\n",
       "<table border=\"1\" class=\"dataframe\">\n",
       "  <thead>\n",
       "    <tr style=\"text-align: right;\">\n",
       "      <th></th>\n",
       "      <th>F_A.tig_17118</th>\n",
       "      <th>F_A.tig_21321</th>\n",
       "      <th>F_A.tig_21544</th>\n",
       "      <th>F_A.tig_21546</th>\n",
       "      <th>M_A.tig_17115</th>\n",
       "      <th>M_A.tig_21322</th>\n",
       "      <th>M_A.tig_21323</th>\n",
       "      <th>M_A.tig_21545</th>\n",
       "      <th>length</th>\n",
       "    </tr>\n",
       "    <tr>\n",
       "      <th>scaffold</th>\n",
       "      <th></th>\n",
       "      <th></th>\n",
       "      <th></th>\n",
       "      <th></th>\n",
       "      <th></th>\n",
       "      <th></th>\n",
       "      <th></th>\n",
       "      <th></th>\n",
       "      <th></th>\n",
       "    </tr>\n",
       "  </thead>\n",
       "  <tbody>\n",
       "    <tr>\n",
       "      <th>scaffold34</th>\n",
       "      <td>1395.921579</td>\n",
       "      <td>1073.736011</td>\n",
       "      <td>1226.652593</td>\n",
       "      <td>1247.072896</td>\n",
       "      <td>760.383873</td>\n",
       "      <td>1076.089569</td>\n",
       "      <td>1286.891138</td>\n",
       "      <td>1147.491726</td>\n",
       "      <td>4646</td>\n",
       "    </tr>\n",
       "    <tr>\n",
       "      <th>scaffold36</th>\n",
       "      <td>810.090376</td>\n",
       "      <td>631.046307</td>\n",
       "      <td>731.777908</td>\n",
       "      <td>695.487032</td>\n",
       "      <td>444.348945</td>\n",
       "      <td>616.281025</td>\n",
       "      <td>755.770015</td>\n",
       "      <td>666.425368</td>\n",
       "      <td>3760</td>\n",
       "    </tr>\n",
       "    <tr>\n",
       "      <th>C7127</th>\n",
       "      <td>0.000000</td>\n",
       "      <td>10.618674</td>\n",
       "      <td>0.000000</td>\n",
       "      <td>13.547993</td>\n",
       "      <td>19.544821</td>\n",
       "      <td>0.000000</td>\n",
       "      <td>0.000000</td>\n",
       "      <td>0.000000</td>\n",
       "      <td>2726</td>\n",
       "    </tr>\n",
       "    <tr>\n",
       "      <th>C7125</th>\n",
       "      <td>17.339049</td>\n",
       "      <td>12.366495</td>\n",
       "      <td>24.610791</td>\n",
       "      <td>0.000000</td>\n",
       "      <td>20.922917</td>\n",
       "      <td>15.052212</td>\n",
       "      <td>29.413923</td>\n",
       "      <td>15.717050</td>\n",
       "      <td>2525</td>\n",
       "    </tr>\n",
       "    <tr>\n",
       "      <th>C7123</th>\n",
       "      <td>37.711805</td>\n",
       "      <td>14.268528</td>\n",
       "      <td>19.764912</td>\n",
       "      <td>10.023259</td>\n",
       "      <td>19.267968</td>\n",
       "      <td>19.728127</td>\n",
       "      <td>15.996579</td>\n",
       "      <td>9.289792</td>\n",
       "      <td>2105</td>\n",
       "    </tr>\n",
       "    <tr>\n",
       "      <th>C7121</th>\n",
       "      <td>18.235811</td>\n",
       "      <td>8.888464</td>\n",
       "      <td>0.000000</td>\n",
       "      <td>12.665189</td>\n",
       "      <td>0.000000</td>\n",
       "      <td>0.316037</td>\n",
       "      <td>14.907285</td>\n",
       "      <td>8.316541</td>\n",
       "      <td>2046</td>\n",
       "    </tr>\n",
       "    <tr>\n",
       "      <th>C7119</th>\n",
       "      <td>0.000000</td>\n",
       "      <td>0.000000</td>\n",
       "      <td>0.000000</td>\n",
       "      <td>0.000000</td>\n",
       "      <td>0.000000</td>\n",
       "      <td>0.000000</td>\n",
       "      <td>0.461638</td>\n",
       "      <td>64.775669</td>\n",
       "      <td>2006</td>\n",
       "    </tr>\n",
       "    <tr>\n",
       "      <th>C7117</th>\n",
       "      <td>38.956946</td>\n",
       "      <td>21.788658</td>\n",
       "      <td>25.149309</td>\n",
       "      <td>26.448646</td>\n",
       "      <td>37.753493</td>\n",
       "      <td>24.135142</td>\n",
       "      <td>27.286284</td>\n",
       "      <td>26.797969</td>\n",
       "      <td>1974</td>\n",
       "    </tr>\n",
       "    <tr>\n",
       "      <th>C7115</th>\n",
       "      <td>57.053511</td>\n",
       "      <td>27.361103</td>\n",
       "      <td>31.870241</td>\n",
       "      <td>36.641792</td>\n",
       "      <td>51.255377</td>\n",
       "      <td>35.665242</td>\n",
       "      <td>36.449376</td>\n",
       "      <td>41.716539</td>\n",
       "      <td>1922</td>\n",
       "    </tr>\n",
       "    <tr>\n",
       "      <th>scaffold33</th>\n",
       "      <td>1361.163440</td>\n",
       "      <td>990.958659</td>\n",
       "      <td>1175.303032</td>\n",
       "      <td>1237.315382</td>\n",
       "      <td>726.564855</td>\n",
       "      <td>998.046332</td>\n",
       "      <td>1117.411570</td>\n",
       "      <td>1112.341537</td>\n",
       "      <td>1784</td>\n",
       "    </tr>\n",
       "    <tr>\n",
       "      <th>C7113</th>\n",
       "      <td>33.188159</td>\n",
       "      <td>13.403437</td>\n",
       "      <td>22.281439</td>\n",
       "      <td>24.943019</td>\n",
       "      <td>28.374150</td>\n",
       "      <td>18.352772</td>\n",
       "      <td>29.769814</td>\n",
       "      <td>22.058116</td>\n",
       "      <td>1751</td>\n",
       "    </tr>\n",
       "    <tr>\n",
       "      <th>C7111</th>\n",
       "      <td>18.989512</td>\n",
       "      <td>18.445527</td>\n",
       "      <td>22.224764</td>\n",
       "      <td>23.355883</td>\n",
       "      <td>29.052820</td>\n",
       "      <td>1.089239</td>\n",
       "      <td>24.963631</td>\n",
       "      <td>21.406113</td>\n",
       "      <td>1711</td>\n",
       "    </tr>\n",
       "    <tr>\n",
       "      <th>C7109</th>\n",
       "      <td>30.044256</td>\n",
       "      <td>14.449551</td>\n",
       "      <td>27.176212</td>\n",
       "      <td>24.505225</td>\n",
       "      <td>33.077032</td>\n",
       "      <td>19.423858</td>\n",
       "      <td>22.473979</td>\n",
       "      <td>24.159870</td>\n",
       "      <td>1668</td>\n",
       "    </tr>\n",
       "    <tr>\n",
       "      <th>C7107</th>\n",
       "      <td>0.000000</td>\n",
       "      <td>8.975922</td>\n",
       "      <td>12.266164</td>\n",
       "      <td>0.214855</td>\n",
       "      <td>15.171460</td>\n",
       "      <td>7.341991</td>\n",
       "      <td>0.000000</td>\n",
       "      <td>10.917452</td>\n",
       "      <td>1654</td>\n",
       "    </tr>\n",
       "    <tr>\n",
       "      <th>C7105</th>\n",
       "      <td>11.554877</td>\n",
       "      <td>7.069274</td>\n",
       "      <td>9.652998</td>\n",
       "      <td>12.234518</td>\n",
       "      <td>12.181541</td>\n",
       "      <td>7.570592</td>\n",
       "      <td>20.225386</td>\n",
       "      <td>8.920416</td>\n",
       "      <td>1609</td>\n",
       "    </tr>\n",
       "    <tr>\n",
       "      <th>scaffold30</th>\n",
       "      <td>803.864250</td>\n",
       "      <td>240.279340</td>\n",
       "      <td>271.119351</td>\n",
       "      <td>296.616118</td>\n",
       "      <td>430.152467</td>\n",
       "      <td>1008.178002</td>\n",
       "      <td>569.434644</td>\n",
       "      <td>466.731878</td>\n",
       "      <td>1593</td>\n",
       "    </tr>\n",
       "    <tr>\n",
       "      <th>C7103</th>\n",
       "      <td>0.000000</td>\n",
       "      <td>6.611130</td>\n",
       "      <td>11.684946</td>\n",
       "      <td>9.328363</td>\n",
       "      <td>32.470306</td>\n",
       "      <td>8.350685</td>\n",
       "      <td>11.416886</td>\n",
       "      <td>9.212284</td>\n",
       "      <td>1576</td>\n",
       "    </tr>\n",
       "    <tr>\n",
       "      <th>C7101</th>\n",
       "      <td>0.000000</td>\n",
       "      <td>7.873868</td>\n",
       "      <td>10.889812</td>\n",
       "      <td>0.000000</td>\n",
       "      <td>17.799458</td>\n",
       "      <td>0.000000</td>\n",
       "      <td>13.209328</td>\n",
       "      <td>9.275200</td>\n",
       "      <td>1551</td>\n",
       "    </tr>\n",
       "    <tr>\n",
       "      <th>C7099</th>\n",
       "      <td>30.677476</td>\n",
       "      <td>6.524523</td>\n",
       "      <td>9.437327</td>\n",
       "      <td>7.897275</td>\n",
       "      <td>19.159387</td>\n",
       "      <td>16.018658</td>\n",
       "      <td>16.015575</td>\n",
       "      <td>11.832067</td>\n",
       "      <td>1546</td>\n",
       "    </tr>\n",
       "    <tr>\n",
       "      <th>C7097</th>\n",
       "      <td>0.000000</td>\n",
       "      <td>0.000000</td>\n",
       "      <td>8.553273</td>\n",
       "      <td>11.007573</td>\n",
       "      <td>18.286562</td>\n",
       "      <td>0.000000</td>\n",
       "      <td>0.238810</td>\n",
       "      <td>12.447114</td>\n",
       "      <td>1530</td>\n",
       "    </tr>\n",
       "    <tr>\n",
       "      <th>C7095</th>\n",
       "      <td>0.000000</td>\n",
       "      <td>6.100672</td>\n",
       "      <td>11.592868</td>\n",
       "      <td>9.129445</td>\n",
       "      <td>12.062586</td>\n",
       "      <td>0.000000</td>\n",
       "      <td>17.452471</td>\n",
       "      <td>0.000000</td>\n",
       "      <td>1520</td>\n",
       "    </tr>\n",
       "    <tr>\n",
       "      <th>C7093</th>\n",
       "      <td>30.272719</td>\n",
       "      <td>13.339827</td>\n",
       "      <td>21.599791</td>\n",
       "      <td>22.883645</td>\n",
       "      <td>27.947711</td>\n",
       "      <td>20.198125</td>\n",
       "      <td>18.918091</td>\n",
       "      <td>21.776544</td>\n",
       "      <td>1510</td>\n",
       "    </tr>\n",
       "    <tr>\n",
       "      <th>scaffold52</th>\n",
       "      <td>1127.599409</td>\n",
       "      <td>558.233692</td>\n",
       "      <td>528.212077</td>\n",
       "      <td>536.542828</td>\n",
       "      <td>718.081216</td>\n",
       "      <td>421.090662</td>\n",
       "      <td>817.505367</td>\n",
       "      <td>658.493605</td>\n",
       "      <td>1509</td>\n",
       "    </tr>\n",
       "    <tr>\n",
       "      <th>C7091</th>\n",
       "      <td>15.051571</td>\n",
       "      <td>7.065850</td>\n",
       "      <td>0.000000</td>\n",
       "      <td>10.589967</td>\n",
       "      <td>0.000000</td>\n",
       "      <td>9.585672</td>\n",
       "      <td>0.000000</td>\n",
       "      <td>9.906530</td>\n",
       "      <td>1508</td>\n",
       "    </tr>\n",
       "    <tr>\n",
       "      <th>C7089</th>\n",
       "      <td>24.356058</td>\n",
       "      <td>17.364725</td>\n",
       "      <td>17.307337</td>\n",
       "      <td>19.021264</td>\n",
       "      <td>21.572486</td>\n",
       "      <td>21.109077</td>\n",
       "      <td>24.294400</td>\n",
       "      <td>17.101542</td>\n",
       "      <td>1505</td>\n",
       "    </tr>\n",
       "    <tr>\n",
       "      <th>C7085</th>\n",
       "      <td>3.662848</td>\n",
       "      <td>3.128642</td>\n",
       "      <td>2.435696</td>\n",
       "      <td>14.176012</td>\n",
       "      <td>24.457502</td>\n",
       "      <td>13.566352</td>\n",
       "      <td>22.779340</td>\n",
       "      <td>5.197873</td>\n",
       "      <td>1502</td>\n",
       "    </tr>\n",
       "    <tr>\n",
       "      <th>C7087</th>\n",
       "      <td>29.891632</td>\n",
       "      <td>2.852376</td>\n",
       "      <td>10.762489</td>\n",
       "      <td>8.366266</td>\n",
       "      <td>14.674869</td>\n",
       "      <td>18.901637</td>\n",
       "      <td>10.988708</td>\n",
       "      <td>11.645363</td>\n",
       "      <td>1502</td>\n",
       "    </tr>\n",
       "    <tr>\n",
       "      <th>scaffold61</th>\n",
       "      <td>17.843568</td>\n",
       "      <td>10.106700</td>\n",
       "      <td>11.085658</td>\n",
       "      <td>6.194011</td>\n",
       "      <td>9.909160</td>\n",
       "      <td>10.945876</td>\n",
       "      <td>4.765437</td>\n",
       "      <td>11.782212</td>\n",
       "      <td>1470</td>\n",
       "    </tr>\n",
       "    <tr>\n",
       "      <th>scaffold5</th>\n",
       "      <td>1025.010489</td>\n",
       "      <td>780.622403</td>\n",
       "      <td>914.961617</td>\n",
       "      <td>887.074255</td>\n",
       "      <td>502.367890</td>\n",
       "      <td>749.791044</td>\n",
       "      <td>856.763163</td>\n",
       "      <td>862.024958</td>\n",
       "      <td>1449</td>\n",
       "    </tr>\n",
       "    <tr>\n",
       "      <th>C7083</th>\n",
       "      <td>0.000000</td>\n",
       "      <td>14.708097</td>\n",
       "      <td>11.751561</td>\n",
       "      <td>9.227465</td>\n",
       "      <td>28.804577</td>\n",
       "      <td>7.146731</td>\n",
       "      <td>12.660259</td>\n",
       "      <td>11.102950</td>\n",
       "      <td>1446</td>\n",
       "    </tr>\n",
       "    <tr>\n",
       "      <th>...</th>\n",
       "      <td>...</td>\n",
       "      <td>...</td>\n",
       "      <td>...</td>\n",
       "      <td>...</td>\n",
       "      <td>...</td>\n",
       "      <td>...</td>\n",
       "      <td>...</td>\n",
       "      <td>...</td>\n",
       "      <td>...</td>\n",
       "    </tr>\n",
       "    <tr>\n",
       "      <th>C6893</th>\n",
       "      <td>28.211424</td>\n",
       "      <td>11.257079</td>\n",
       "      <td>5.336218</td>\n",
       "      <td>9.519396</td>\n",
       "      <td>0.000000</td>\n",
       "      <td>7.269715</td>\n",
       "      <td>6.214276</td>\n",
       "      <td>10.438663</td>\n",
       "      <td>1048</td>\n",
       "    </tr>\n",
       "    <tr>\n",
       "      <th>C6891</th>\n",
       "      <td>35.465242</td>\n",
       "      <td>13.059571</td>\n",
       "      <td>18.931806</td>\n",
       "      <td>24.817322</td>\n",
       "      <td>35.462028</td>\n",
       "      <td>17.879156</td>\n",
       "      <td>20.786985</td>\n",
       "      <td>21.210254</td>\n",
       "      <td>1047</td>\n",
       "    </tr>\n",
       "    <tr>\n",
       "      <th>C6889</th>\n",
       "      <td>0.000000</td>\n",
       "      <td>0.000000</td>\n",
       "      <td>7.818880</td>\n",
       "      <td>0.000000</td>\n",
       "      <td>13.564130</td>\n",
       "      <td>7.161461</td>\n",
       "      <td>12.357158</td>\n",
       "      <td>7.856880</td>\n",
       "      <td>1046</td>\n",
       "    </tr>\n",
       "    <tr>\n",
       "      <th>C6887</th>\n",
       "      <td>28.820290</td>\n",
       "      <td>22.899266</td>\n",
       "      <td>38.255602</td>\n",
       "      <td>26.217567</td>\n",
       "      <td>43.883111</td>\n",
       "      <td>18.020825</td>\n",
       "      <td>34.919862</td>\n",
       "      <td>38.717298</td>\n",
       "      <td>1045</td>\n",
       "    </tr>\n",
       "    <tr>\n",
       "      <th>C6885</th>\n",
       "      <td>0.000000</td>\n",
       "      <td>0.000000</td>\n",
       "      <td>0.000000</td>\n",
       "      <td>0.000000</td>\n",
       "      <td>13.512356</td>\n",
       "      <td>10.490637</td>\n",
       "      <td>10.605086</td>\n",
       "      <td>11.733094</td>\n",
       "      <td>1045</td>\n",
       "    </tr>\n",
       "    <tr>\n",
       "      <th>C6883</th>\n",
       "      <td>0.000000</td>\n",
       "      <td>0.000000</td>\n",
       "      <td>0.000000</td>\n",
       "      <td>0.000000</td>\n",
       "      <td>13.303074</td>\n",
       "      <td>6.477937</td>\n",
       "      <td>11.219864</td>\n",
       "      <td>7.666048</td>\n",
       "      <td>1044</td>\n",
       "    </tr>\n",
       "    <tr>\n",
       "      <th>C6879</th>\n",
       "      <td>51.173497</td>\n",
       "      <td>5.416304</td>\n",
       "      <td>10.906533</td>\n",
       "      <td>8.674033</td>\n",
       "      <td>6.608263</td>\n",
       "      <td>14.034962</td>\n",
       "      <td>11.100159</td>\n",
       "      <td>13.686892</td>\n",
       "      <td>1043</td>\n",
       "    </tr>\n",
       "    <tr>\n",
       "      <th>C6881</th>\n",
       "      <td>1.018992</td>\n",
       "      <td>0.000000</td>\n",
       "      <td>0.960411</td>\n",
       "      <td>0.593998</td>\n",
       "      <td>17.299853</td>\n",
       "      <td>0.617479</td>\n",
       "      <td>0.788813</td>\n",
       "      <td>0.042793</td>\n",
       "      <td>1043</td>\n",
       "    </tr>\n",
       "    <tr>\n",
       "      <th>C6877</th>\n",
       "      <td>10.376670</td>\n",
       "      <td>4.177222</td>\n",
       "      <td>6.899811</td>\n",
       "      <td>3.338405</td>\n",
       "      <td>17.430755</td>\n",
       "      <td>12.654500</td>\n",
       "      <td>5.066359</td>\n",
       "      <td>3.216448</td>\n",
       "      <td>1040</td>\n",
       "    </tr>\n",
       "    <tr>\n",
       "      <th>C6873</th>\n",
       "      <td>9.291183</td>\n",
       "      <td>0.056503</td>\n",
       "      <td>12.338795</td>\n",
       "      <td>0.000000</td>\n",
       "      <td>9.533873</td>\n",
       "      <td>4.973755</td>\n",
       "      <td>5.529611</td>\n",
       "      <td>6.875445</td>\n",
       "      <td>1039</td>\n",
       "    </tr>\n",
       "    <tr>\n",
       "      <th>C6875</th>\n",
       "      <td>34.380916</td>\n",
       "      <td>17.150027</td>\n",
       "      <td>8.180951</td>\n",
       "      <td>23.743951</td>\n",
       "      <td>13.351143</td>\n",
       "      <td>24.517235</td>\n",
       "      <td>10.661477</td>\n",
       "      <td>13.129138</td>\n",
       "      <td>1039</td>\n",
       "    </tr>\n",
       "    <tr>\n",
       "      <th>C6871</th>\n",
       "      <td>0.000000</td>\n",
       "      <td>8.079038</td>\n",
       "      <td>6.624948</td>\n",
       "      <td>0.000000</td>\n",
       "      <td>14.035404</td>\n",
       "      <td>0.000000</td>\n",
       "      <td>9.132640</td>\n",
       "      <td>7.951470</td>\n",
       "      <td>1034</td>\n",
       "    </tr>\n",
       "    <tr>\n",
       "      <th>C6869</th>\n",
       "      <td>11.214531</td>\n",
       "      <td>7.472305</td>\n",
       "      <td>9.022910</td>\n",
       "      <td>5.578262</td>\n",
       "      <td>15.513470</td>\n",
       "      <td>6.145260</td>\n",
       "      <td>6.023451</td>\n",
       "      <td>10.447875</td>\n",
       "      <td>1031</td>\n",
       "    </tr>\n",
       "    <tr>\n",
       "      <th>C6867</th>\n",
       "      <td>0.000000</td>\n",
       "      <td>7.467630</td>\n",
       "      <td>6.519657</td>\n",
       "      <td>0.000000</td>\n",
       "      <td>10.734449</td>\n",
       "      <td>5.803492</td>\n",
       "      <td>0.000000</td>\n",
       "      <td>0.000000</td>\n",
       "      <td>1027</td>\n",
       "    </tr>\n",
       "    <tr>\n",
       "      <th>C6865</th>\n",
       "      <td>41.741498</td>\n",
       "      <td>20.609316</td>\n",
       "      <td>30.840130</td>\n",
       "      <td>31.689358</td>\n",
       "      <td>31.828249</td>\n",
       "      <td>22.832796</td>\n",
       "      <td>28.961121</td>\n",
       "      <td>32.641152</td>\n",
       "      <td>1026</td>\n",
       "    </tr>\n",
       "    <tr>\n",
       "      <th>scaffold76</th>\n",
       "      <td>6.077258</td>\n",
       "      <td>8.021092</td>\n",
       "      <td>7.897515</td>\n",
       "      <td>11.284458</td>\n",
       "      <td>6.974838</td>\n",
       "      <td>6.683414</td>\n",
       "      <td>12.489975</td>\n",
       "      <td>8.822830</td>\n",
       "      <td>1026</td>\n",
       "    </tr>\n",
       "    <tr>\n",
       "      <th>C6863</th>\n",
       "      <td>6.214825</td>\n",
       "      <td>0.000000</td>\n",
       "      <td>2.764567</td>\n",
       "      <td>2.212007</td>\n",
       "      <td>7.612864</td>\n",
       "      <td>0.620113</td>\n",
       "      <td>9.770584</td>\n",
       "      <td>8.464988</td>\n",
       "      <td>1024</td>\n",
       "    </tr>\n",
       "    <tr>\n",
       "      <th>C6861</th>\n",
       "      <td>41.232248</td>\n",
       "      <td>18.341997</td>\n",
       "      <td>28.178329</td>\n",
       "      <td>27.071562</td>\n",
       "      <td>41.414248</td>\n",
       "      <td>25.919980</td>\n",
       "      <td>31.562147</td>\n",
       "      <td>30.046118</td>\n",
       "      <td>1024</td>\n",
       "    </tr>\n",
       "    <tr>\n",
       "      <th>C6859</th>\n",
       "      <td>0.000000</td>\n",
       "      <td>0.000000</td>\n",
       "      <td>0.000000</td>\n",
       "      <td>0.000000</td>\n",
       "      <td>12.770912</td>\n",
       "      <td>7.035714</td>\n",
       "      <td>4.557788</td>\n",
       "      <td>4.333231</td>\n",
       "      <td>1017</td>\n",
       "    </tr>\n",
       "    <tr>\n",
       "      <th>scaffold79</th>\n",
       "      <td>9.298816</td>\n",
       "      <td>3.741409</td>\n",
       "      <td>5.350172</td>\n",
       "      <td>5.008274</td>\n",
       "      <td>3.517666</td>\n",
       "      <td>3.044950</td>\n",
       "      <td>3.957112</td>\n",
       "      <td>3.866984</td>\n",
       "      <td>1016</td>\n",
       "    </tr>\n",
       "    <tr>\n",
       "      <th>C6857</th>\n",
       "      <td>0.000000</td>\n",
       "      <td>5.469758</td>\n",
       "      <td>0.000000</td>\n",
       "      <td>9.203792</td>\n",
       "      <td>11.107620</td>\n",
       "      <td>0.000000</td>\n",
       "      <td>0.000000</td>\n",
       "      <td>10.362618</td>\n",
       "      <td>1015</td>\n",
       "    </tr>\n",
       "    <tr>\n",
       "      <th>scaffold69</th>\n",
       "      <td>12.203402</td>\n",
       "      <td>11.802758</td>\n",
       "      <td>11.931760</td>\n",
       "      <td>13.384342</td>\n",
       "      <td>18.405200</td>\n",
       "      <td>15.314433</td>\n",
       "      <td>13.887800</td>\n",
       "      <td>12.546653</td>\n",
       "      <td>1013</td>\n",
       "    </tr>\n",
       "    <tr>\n",
       "      <th>C6855</th>\n",
       "      <td>25.069342</td>\n",
       "      <td>17.616548</td>\n",
       "      <td>23.949507</td>\n",
       "      <td>22.608634</td>\n",
       "      <td>32.550253</td>\n",
       "      <td>20.550899</td>\n",
       "      <td>24.524416</td>\n",
       "      <td>25.111857</td>\n",
       "      <td>1013</td>\n",
       "    </tr>\n",
       "    <tr>\n",
       "      <th>C6853</th>\n",
       "      <td>14.227705</td>\n",
       "      <td>11.814037</td>\n",
       "      <td>14.412797</td>\n",
       "      <td>18.898047</td>\n",
       "      <td>18.677269</td>\n",
       "      <td>6.646169</td>\n",
       "      <td>7.907599</td>\n",
       "      <td>9.513820</td>\n",
       "      <td>1010</td>\n",
       "    </tr>\n",
       "    <tr>\n",
       "      <th>C6851</th>\n",
       "      <td>20.521394</td>\n",
       "      <td>10.230113</td>\n",
       "      <td>13.146878</td>\n",
       "      <td>18.656732</td>\n",
       "      <td>31.838865</td>\n",
       "      <td>16.484442</td>\n",
       "      <td>21.501085</td>\n",
       "      <td>20.760386</td>\n",
       "      <td>1010</td>\n",
       "    </tr>\n",
       "    <tr>\n",
       "      <th>C6849</th>\n",
       "      <td>0.072895</td>\n",
       "      <td>3.718439</td>\n",
       "      <td>8.452967</td>\n",
       "      <td>10.801349</td>\n",
       "      <td>24.802703</td>\n",
       "      <td>6.382859</td>\n",
       "      <td>8.041554</td>\n",
       "      <td>6.911078</td>\n",
       "      <td>1009</td>\n",
       "    </tr>\n",
       "    <tr>\n",
       "      <th>scaffold70</th>\n",
       "      <td>23.210815</td>\n",
       "      <td>12.590639</td>\n",
       "      <td>11.221451</td>\n",
       "      <td>18.390338</td>\n",
       "      <td>16.462032</td>\n",
       "      <td>13.597839</td>\n",
       "      <td>14.562902</td>\n",
       "      <td>11.249072</td>\n",
       "      <td>1008</td>\n",
       "    </tr>\n",
       "    <tr>\n",
       "      <th>C6847</th>\n",
       "      <td>24.170331</td>\n",
       "      <td>4.931951</td>\n",
       "      <td>4.217817</td>\n",
       "      <td>5.048022</td>\n",
       "      <td>0.000000</td>\n",
       "      <td>11.743821</td>\n",
       "      <td>7.418318</td>\n",
       "      <td>4.117901</td>\n",
       "      <td>1008</td>\n",
       "    </tr>\n",
       "    <tr>\n",
       "      <th>C6845</th>\n",
       "      <td>17.704774</td>\n",
       "      <td>7.381424</td>\n",
       "      <td>5.580256</td>\n",
       "      <td>9.209765</td>\n",
       "      <td>11.343971</td>\n",
       "      <td>11.369700</td>\n",
       "      <td>6.066916</td>\n",
       "      <td>13.265252</td>\n",
       "      <td>1007</td>\n",
       "    </tr>\n",
       "    <tr>\n",
       "      <th>C6843</th>\n",
       "      <td>36.751507</td>\n",
       "      <td>16.630778</td>\n",
       "      <td>15.052060</td>\n",
       "      <td>19.661747</td>\n",
       "      <td>19.661914</td>\n",
       "      <td>20.375645</td>\n",
       "      <td>15.319248</td>\n",
       "      <td>18.352717</td>\n",
       "      <td>1001</td>\n",
       "    </tr>\n",
       "  </tbody>\n",
       "</table>\n",
       "<p>168 rows × 9 columns</p>\n",
       "</div>"
      ],
      "text/plain": [
       "            F_A.tig_17118  F_A.tig_21321  F_A.tig_21544  F_A.tig_21546  \\\n",
       "scaffold                                                                 \n",
       "scaffold34    1395.921579    1073.736011    1226.652593    1247.072896   \n",
       "scaffold36     810.090376     631.046307     731.777908     695.487032   \n",
       "C7127            0.000000      10.618674       0.000000      13.547993   \n",
       "C7125           17.339049      12.366495      24.610791       0.000000   \n",
       "C7123           37.711805      14.268528      19.764912      10.023259   \n",
       "C7121           18.235811       8.888464       0.000000      12.665189   \n",
       "C7119            0.000000       0.000000       0.000000       0.000000   \n",
       "C7117           38.956946      21.788658      25.149309      26.448646   \n",
       "C7115           57.053511      27.361103      31.870241      36.641792   \n",
       "scaffold33    1361.163440     990.958659    1175.303032    1237.315382   \n",
       "C7113           33.188159      13.403437      22.281439      24.943019   \n",
       "C7111           18.989512      18.445527      22.224764      23.355883   \n",
       "C7109           30.044256      14.449551      27.176212      24.505225   \n",
       "C7107            0.000000       8.975922      12.266164       0.214855   \n",
       "C7105           11.554877       7.069274       9.652998      12.234518   \n",
       "scaffold30     803.864250     240.279340     271.119351     296.616118   \n",
       "C7103            0.000000       6.611130      11.684946       9.328363   \n",
       "C7101            0.000000       7.873868      10.889812       0.000000   \n",
       "C7099           30.677476       6.524523       9.437327       7.897275   \n",
       "C7097            0.000000       0.000000       8.553273      11.007573   \n",
       "C7095            0.000000       6.100672      11.592868       9.129445   \n",
       "C7093           30.272719      13.339827      21.599791      22.883645   \n",
       "scaffold52    1127.599409     558.233692     528.212077     536.542828   \n",
       "C7091           15.051571       7.065850       0.000000      10.589967   \n",
       "C7089           24.356058      17.364725      17.307337      19.021264   \n",
       "C7085            3.662848       3.128642       2.435696      14.176012   \n",
       "C7087           29.891632       2.852376      10.762489       8.366266   \n",
       "scaffold61      17.843568      10.106700      11.085658       6.194011   \n",
       "scaffold5     1025.010489     780.622403     914.961617     887.074255   \n",
       "C7083            0.000000      14.708097      11.751561       9.227465   \n",
       "...                   ...            ...            ...            ...   \n",
       "C6893           28.211424      11.257079       5.336218       9.519396   \n",
       "C6891           35.465242      13.059571      18.931806      24.817322   \n",
       "C6889            0.000000       0.000000       7.818880       0.000000   \n",
       "C6887           28.820290      22.899266      38.255602      26.217567   \n",
       "C6885            0.000000       0.000000       0.000000       0.000000   \n",
       "C6883            0.000000       0.000000       0.000000       0.000000   \n",
       "C6879           51.173497       5.416304      10.906533       8.674033   \n",
       "C6881            1.018992       0.000000       0.960411       0.593998   \n",
       "C6877           10.376670       4.177222       6.899811       3.338405   \n",
       "C6873            9.291183       0.056503      12.338795       0.000000   \n",
       "C6875           34.380916      17.150027       8.180951      23.743951   \n",
       "C6871            0.000000       8.079038       6.624948       0.000000   \n",
       "C6869           11.214531       7.472305       9.022910       5.578262   \n",
       "C6867            0.000000       7.467630       6.519657       0.000000   \n",
       "C6865           41.741498      20.609316      30.840130      31.689358   \n",
       "scaffold76       6.077258       8.021092       7.897515      11.284458   \n",
       "C6863            6.214825       0.000000       2.764567       2.212007   \n",
       "C6861           41.232248      18.341997      28.178329      27.071562   \n",
       "C6859            0.000000       0.000000       0.000000       0.000000   \n",
       "scaffold79       9.298816       3.741409       5.350172       5.008274   \n",
       "C6857            0.000000       5.469758       0.000000       9.203792   \n",
       "scaffold69      12.203402      11.802758      11.931760      13.384342   \n",
       "C6855           25.069342      17.616548      23.949507      22.608634   \n",
       "C6853           14.227705      11.814037      14.412797      18.898047   \n",
       "C6851           20.521394      10.230113      13.146878      18.656732   \n",
       "C6849            0.072895       3.718439       8.452967      10.801349   \n",
       "scaffold70      23.210815      12.590639      11.221451      18.390338   \n",
       "C6847           24.170331       4.931951       4.217817       5.048022   \n",
       "C6845           17.704774       7.381424       5.580256       9.209765   \n",
       "C6843           36.751507      16.630778      15.052060      19.661747   \n",
       "\n",
       "            M_A.tig_17115  M_A.tig_21322  M_A.tig_21323  M_A.tig_21545  length  \n",
       "scaffold                                                                        \n",
       "scaffold34     760.383873    1076.089569    1286.891138    1147.491726    4646  \n",
       "scaffold36     444.348945     616.281025     755.770015     666.425368    3760  \n",
       "C7127           19.544821       0.000000       0.000000       0.000000    2726  \n",
       "C7125           20.922917      15.052212      29.413923      15.717050    2525  \n",
       "C7123           19.267968      19.728127      15.996579       9.289792    2105  \n",
       "C7121            0.000000       0.316037      14.907285       8.316541    2046  \n",
       "C7119            0.000000       0.000000       0.461638      64.775669    2006  \n",
       "C7117           37.753493      24.135142      27.286284      26.797969    1974  \n",
       "C7115           51.255377      35.665242      36.449376      41.716539    1922  \n",
       "scaffold33     726.564855     998.046332    1117.411570    1112.341537    1784  \n",
       "C7113           28.374150      18.352772      29.769814      22.058116    1751  \n",
       "C7111           29.052820       1.089239      24.963631      21.406113    1711  \n",
       "C7109           33.077032      19.423858      22.473979      24.159870    1668  \n",
       "C7107           15.171460       7.341991       0.000000      10.917452    1654  \n",
       "C7105           12.181541       7.570592      20.225386       8.920416    1609  \n",
       "scaffold30     430.152467    1008.178002     569.434644     466.731878    1593  \n",
       "C7103           32.470306       8.350685      11.416886       9.212284    1576  \n",
       "C7101           17.799458       0.000000      13.209328       9.275200    1551  \n",
       "C7099           19.159387      16.018658      16.015575      11.832067    1546  \n",
       "C7097           18.286562       0.000000       0.238810      12.447114    1530  \n",
       "C7095           12.062586       0.000000      17.452471       0.000000    1520  \n",
       "C7093           27.947711      20.198125      18.918091      21.776544    1510  \n",
       "scaffold52     718.081216     421.090662     817.505367     658.493605    1509  \n",
       "C7091            0.000000       9.585672       0.000000       9.906530    1508  \n",
       "C7089           21.572486      21.109077      24.294400      17.101542    1505  \n",
       "C7085           24.457502      13.566352      22.779340       5.197873    1502  \n",
       "C7087           14.674869      18.901637      10.988708      11.645363    1502  \n",
       "scaffold61       9.909160      10.945876       4.765437      11.782212    1470  \n",
       "scaffold5      502.367890     749.791044     856.763163     862.024958    1449  \n",
       "C7083           28.804577       7.146731      12.660259      11.102950    1446  \n",
       "...                   ...            ...            ...            ...     ...  \n",
       "C6893            0.000000       7.269715       6.214276      10.438663    1048  \n",
       "C6891           35.462028      17.879156      20.786985      21.210254    1047  \n",
       "C6889           13.564130       7.161461      12.357158       7.856880    1046  \n",
       "C6887           43.883111      18.020825      34.919862      38.717298    1045  \n",
       "C6885           13.512356      10.490637      10.605086      11.733094    1045  \n",
       "C6883           13.303074       6.477937      11.219864       7.666048    1044  \n",
       "C6879            6.608263      14.034962      11.100159      13.686892    1043  \n",
       "C6881           17.299853       0.617479       0.788813       0.042793    1043  \n",
       "C6877           17.430755      12.654500       5.066359       3.216448    1040  \n",
       "C6873            9.533873       4.973755       5.529611       6.875445    1039  \n",
       "C6875           13.351143      24.517235      10.661477      13.129138    1039  \n",
       "C6871           14.035404       0.000000       9.132640       7.951470    1034  \n",
       "C6869           15.513470       6.145260       6.023451      10.447875    1031  \n",
       "C6867           10.734449       5.803492       0.000000       0.000000    1027  \n",
       "C6865           31.828249      22.832796      28.961121      32.641152    1026  \n",
       "scaffold76       6.974838       6.683414      12.489975       8.822830    1026  \n",
       "C6863            7.612864       0.620113       9.770584       8.464988    1024  \n",
       "C6861           41.414248      25.919980      31.562147      30.046118    1024  \n",
       "C6859           12.770912       7.035714       4.557788       4.333231    1017  \n",
       "scaffold79       3.517666       3.044950       3.957112       3.866984    1016  \n",
       "C6857           11.107620       0.000000       0.000000      10.362618    1015  \n",
       "scaffold69      18.405200      15.314433      13.887800      12.546653    1013  \n",
       "C6855           32.550253      20.550899      24.524416      25.111857    1013  \n",
       "C6853           18.677269       6.646169       7.907599       9.513820    1010  \n",
       "C6851           31.838865      16.484442      21.501085      20.760386    1010  \n",
       "C6849           24.802703       6.382859       8.041554       6.911078    1009  \n",
       "scaffold70      16.462032      13.597839      14.562902      11.249072    1008  \n",
       "C6847            0.000000      11.743821       7.418318       4.117901    1008  \n",
       "C6845           11.343971      11.369700       6.066916      13.265252    1007  \n",
       "C6843           19.661914      20.375645      15.319248      18.352717    1001  \n",
       "\n",
       "[168 rows x 9 columns]"
      ]
     },
     "execution_count": 103,
     "metadata": {},
     "output_type": "execute_result"
    }
   ],
   "source": [
    "pivAvgCov = allSampsAvgDf[allSampsAvgDf['length'] > 1000].pivot(index='scaffold', columns='sex_name', values='avg_cov').reset_index()\n",
    "pivAvgCov = pivAvgCov.merge(maleScaffoldLensDF)\n",
    "pivAvgCov.sort_values('length', ascending=False, inplace=True)\n",
    "pivAvgCov = pivAvgCov.set_index('scaffold')\n",
    "pivAvgCov"
   ]
  },
  {
   "cell_type": "code",
   "execution_count": 104,
   "metadata": {
    "ExecuteTime": {
     "end_time": "2017-10-23T15:55:45.909235Z",
     "start_time": "2017-10-23T15:55:45.798494Z"
    }
   },
   "outputs": [
    {
     "data": {
      "text/html": [
       "<div>\n",
       "<style>\n",
       "    .dataframe thead tr:only-child th {\n",
       "        text-align: right;\n",
       "    }\n",
       "\n",
       "    .dataframe thead th {\n",
       "        text-align: left;\n",
       "    }\n",
       "\n",
       "    .dataframe tbody tr th {\n",
       "        vertical-align: top;\n",
       "    }\n",
       "</style>\n",
       "<table border=\"1\" class=\"dataframe\">\n",
       "  <thead>\n",
       "    <tr style=\"text-align: right;\">\n",
       "      <th></th>\n",
       "      <th>F_A.tig_17118</th>\n",
       "      <th>F_A.tig_21321</th>\n",
       "      <th>F_A.tig_21544</th>\n",
       "      <th>F_A.tig_21546</th>\n",
       "      <th>M_A.tig_17115</th>\n",
       "      <th>M_A.tig_21322</th>\n",
       "      <th>M_A.tig_21323</th>\n",
       "      <th>M_A.tig_21545</th>\n",
       "    </tr>\n",
       "    <tr>\n",
       "      <th>scaffold</th>\n",
       "      <th></th>\n",
       "      <th></th>\n",
       "      <th></th>\n",
       "      <th></th>\n",
       "      <th></th>\n",
       "      <th></th>\n",
       "      <th></th>\n",
       "      <th></th>\n",
       "    </tr>\n",
       "  </thead>\n",
       "  <tbody>\n",
       "    <tr>\n",
       "      <th>scaffold34</th>\n",
       "      <td>1.360612</td>\n",
       "      <td>-0.434942</td>\n",
       "      <td>0.417269</td>\n",
       "      <td>0.531072</td>\n",
       "      <td>-2.181267</td>\n",
       "      <td>-0.421826</td>\n",
       "      <td>0.752980</td>\n",
       "      <td>-0.023898</td>\n",
       "    </tr>\n",
       "    <tr>\n",
       "      <th>scaffold36</th>\n",
       "      <td>1.355653</td>\n",
       "      <td>-0.363497</td>\n",
       "      <td>0.603710</td>\n",
       "      <td>0.255252</td>\n",
       "      <td>-2.156132</td>\n",
       "      <td>-0.505271</td>\n",
       "      <td>0.834078</td>\n",
       "      <td>-0.023793</td>\n",
       "    </tr>\n",
       "    <tr>\n",
       "      <th>C7127</th>\n",
       "      <td>-0.737203</td>\n",
       "      <td>0.695486</td>\n",
       "      <td>-0.737203</td>\n",
       "      <td>1.090714</td>\n",
       "      <td>1.899816</td>\n",
       "      <td>-0.737203</td>\n",
       "      <td>-0.737203</td>\n",
       "      <td>-0.737203</td>\n",
       "    </tr>\n",
       "    <tr>\n",
       "      <th>C7125</th>\n",
       "      <td>0.049898</td>\n",
       "      <td>-0.553445</td>\n",
       "      <td>0.932212</td>\n",
       "      <td>-2.053928</td>\n",
       "      <td>0.484745</td>\n",
       "      <td>-0.227574</td>\n",
       "      <td>1.514998</td>\n",
       "      <td>-0.146906</td>\n",
       "    </tr>\n",
       "    <tr>\n",
       "      <th>C7123</th>\n",
       "      <td>2.339676</td>\n",
       "      <td>-0.479571</td>\n",
       "      <td>0.181414</td>\n",
       "      <td>-0.990099</td>\n",
       "      <td>0.121653</td>\n",
       "      <td>0.176991</td>\n",
       "      <td>-0.271759</td>\n",
       "      <td>-1.078305</td>\n",
       "    </tr>\n",
       "  </tbody>\n",
       "</table>\n",
       "</div>"
      ],
      "text/plain": [
       "            F_A.tig_17118  F_A.tig_21321  F_A.tig_21544  F_A.tig_21546  \\\n",
       "scaffold                                                                 \n",
       "scaffold34       1.360612      -0.434942       0.417269       0.531072   \n",
       "scaffold36       1.355653      -0.363497       0.603710       0.255252   \n",
       "C7127           -0.737203       0.695486      -0.737203       1.090714   \n",
       "C7125            0.049898      -0.553445       0.932212      -2.053928   \n",
       "C7123            2.339676      -0.479571       0.181414      -0.990099   \n",
       "\n",
       "            M_A.tig_17115  M_A.tig_21322  M_A.tig_21323  M_A.tig_21545  \n",
       "scaffold                                                                \n",
       "scaffold34      -2.181267      -0.421826       0.752980      -0.023898  \n",
       "scaffold36      -2.156132      -0.505271       0.834078      -0.023793  \n",
       "C7127            1.899816      -0.737203      -0.737203      -0.737203  \n",
       "C7125            0.484745      -0.227574       1.514998      -0.146906  \n",
       "C7123            0.121653       0.176991      -0.271759      -1.078305  "
      ]
     },
     "execution_count": 104,
     "metadata": {},
     "output_type": "execute_result"
    }
   ],
   "source": [
    "normPivAvgCov = pivAvgCov.filter(regex='A.tig')\n",
    "normPivAvgCov = normPivAvgCov.apply(lambda row: scale(row, copy=True), axis=1)\n",
    "normPivAvgCov.head()"
   ]
  },
  {
   "cell_type": "code",
   "execution_count": 105,
   "metadata": {
    "ExecuteTime": {
     "end_time": "2017-10-23T15:55:46.399385Z",
     "start_time": "2017-10-23T15:55:45.911080Z"
    }
   },
   "outputs": [
    {
     "data": {
      "image/png": "[encoded data removed]",
      "text/plain": [
       "<matplotlib.figure.Figure at 0x7f30c54fbcc0>"
      ]
     },
     "metadata": {},
     "output_type": "display_data"
    }
   ],
   "source": [
    "fig, ax = plt.subplots(figsize=(10,15))\n",
    "ax = sns.heatmap(normPivAvgCov, \n",
    "                 yticklabels=False,\n",
    "                 ax=ax)\n",
    "plt.xticks(rotation=90);"
   ]
  },
  {
   "cell_type": "code",
   "execution_count": 106,
   "metadata": {
    "ExecuteTime": {
     "end_time": "2017-10-23T15:55:48.884028Z",
     "start_time": "2017-10-23T15:55:46.401161Z"
    },
    "scrolled": false
   },
   "outputs": [
    {
     "name": "stderr",
     "output_type": "stream",
     "text": [
      "/home/dut/anaconda3/lib/python3.6/site-packages/matplotlib/cbook.py:136: MatplotlibDeprecationWarning: The axisbg attribute was deprecated in version 2.0. Use facecolor instead.\n",
      "  warnings.warn(message, mplDeprecation, stacklevel=1)\n"
     ]
    },
    {
     "data": {
      "image/png": "[encoded data removed]",
      "text/plain": [
       "<matplotlib.figure.Figure at 0x7f30c49eb278>"
      ]
     },
     "metadata": {},
     "output_type": "display_data"
    }
   ],
   "source": [
    "g = sns.clustermap(normPivAvgCov.T,\n",
    "               yticklabels=True,\n",
    "               col_cluster=True,\n",
    "                row_cluster=False,\n",
    "#                figsize=(25, 8)\n",
    "                  )\n",
    "\n",
    "hm = g.ax_heatmap.get_position()\n",
    "g.ax_heatmap.add_patch(Rectangle((19, 0.01), 5, 7.95, fill=False, edgecolor='black', lw=2))\n",
    "\n",
    "\n",
    "g.ax_heatmap.set_position([hm.x0-0.1, hm.y0, hm.width*4, hm.height])\n",
    "col = g.ax_col_dendrogram.get_position()\n",
    "g.ax_col_dendrogram.set_position([col.x0-0.1, col.y0, col.width*4, col.height*0.5])\n",
    "\n",
    "plt.setp(g.ax_heatmap.get_yticklabels(), rotation=0);"
   ]
  },
  {
   "cell_type": "code",
   "execution_count": 107,
   "metadata": {
    "ExecuteTime": {
     "end_time": "2017-10-23T15:55:48.890242Z",
     "start_time": "2017-10-23T15:55:48.885904Z"
    },
    "collapsed": true
   },
   "outputs": [],
   "source": [
    "heatMapMaleScaffolds = ['C6889', 'C6885', 'C6883', 'C7069','C6925']\n",
    "heatMapMaleScaffoldsStr = ' '.join(heatMapMaleScaffolds)"
   ]
  },
  {
   "cell_type": "markdown",
   "metadata": {},
   "source": [
    "#### Data For Candidate Scaffolds"
   ]
  },
  {
   "cell_type": "code",
   "execution_count": 108,
   "metadata": {
    "ExecuteTime": {
     "end_time": "2017-10-23T15:55:48.930517Z",
     "start_time": "2017-10-23T15:55:48.891898Z"
    }
   },
   "outputs": [
    {
     "data": {
      "text/html": [
       "<div>\n",
       "<style>\n",
       "    .dataframe thead tr:only-child th {\n",
       "        text-align: right;\n",
       "    }\n",
       "\n",
       "    .dataframe thead th {\n",
       "        text-align: left;\n",
       "    }\n",
       "\n",
       "    .dataframe tbody tr th {\n",
       "        vertical-align: top;\n",
       "    }\n",
       "</style>\n",
       "<table border=\"1\" class=\"dataframe\">\n",
       "  <thead>\n",
       "    <tr style=\"text-align: right;\">\n",
       "      <th></th>\n",
       "      <th>avg_cov</th>\n",
       "      <th>sample_name</th>\n",
       "      <th>scaffold</th>\n",
       "      <th>sex</th>\n",
       "      <th>length</th>\n",
       "      <th>sex_name</th>\n",
       "    </tr>\n",
       "  </thead>\n",
       "  <tbody>\n",
       "    <tr>\n",
       "      <th>23506</th>\n",
       "      <td>17.442269</td>\n",
       "      <td>A.tig_21322</td>\n",
       "      <td>C7069</td>\n",
       "      <td>M</td>\n",
       "      <td>1388</td>\n",
       "      <td>M_A.tig_21322</td>\n",
       "    </tr>\n",
       "    <tr>\n",
       "      <th>23507</th>\n",
       "      <td>0.000000</td>\n",
       "      <td>A.tig_21544</td>\n",
       "      <td>C7069</td>\n",
       "      <td>F</td>\n",
       "      <td>1388</td>\n",
       "      <td>F_A.tig_21544</td>\n",
       "    </tr>\n",
       "    <tr>\n",
       "      <th>23508</th>\n",
       "      <td>26.863238</td>\n",
       "      <td>A.tig_17115</td>\n",
       "      <td>C7069</td>\n",
       "      <td>M</td>\n",
       "      <td>1388</td>\n",
       "      <td>M_A.tig_17115</td>\n",
       "    </tr>\n",
       "    <tr>\n",
       "      <th>23509</th>\n",
       "      <td>0.000000</td>\n",
       "      <td>A.tig_21546</td>\n",
       "      <td>C7069</td>\n",
       "      <td>F</td>\n",
       "      <td>1388</td>\n",
       "      <td>F_A.tig_21546</td>\n",
       "    </tr>\n",
       "    <tr>\n",
       "      <th>23510</th>\n",
       "      <td>0.000000</td>\n",
       "      <td>A.tig_17118</td>\n",
       "      <td>C7069</td>\n",
       "      <td>F</td>\n",
       "      <td>1388</td>\n",
       "      <td>F_A.tig_17118</td>\n",
       "    </tr>\n",
       "  </tbody>\n",
       "</table>\n",
       "</div>"
      ],
      "text/plain": [
       "         avg_cov  sample_name scaffold sex  length       sex_name\n",
       "23506  17.442269  A.tig_21322    C7069   M    1388  M_A.tig_21322\n",
       "23507   0.000000  A.tig_21544    C7069   F    1388  F_A.tig_21544\n",
       "23508  26.863238  A.tig_17115    C7069   M    1388  M_A.tig_17115\n",
       "23509   0.000000  A.tig_21546    C7069   F    1388  F_A.tig_21546\n",
       "23510   0.000000  A.tig_17118    C7069   F    1388  F_A.tig_17118"
      ]
     },
     "execution_count": 108,
     "metadata": {},
     "output_type": "execute_result"
    }
   ],
   "source": [
    "canDf = allSampsAvgDf[allSampsAvgDf.scaffold.isin(heatMapMaleScaffolds)]\n",
    "canDf.head()"
   ]
  },
  {
   "cell_type": "code",
   "execution_count": 109,
   "metadata": {
    "ExecuteTime": {
     "end_time": "2017-10-23T15:55:49.809542Z",
     "start_time": "2017-10-23T15:55:48.932193Z"
    }
   },
   "outputs": [
    {
     "data": {
      "text/plain": [
       "<matplotlib.axes._subplots.AxesSubplot at 0x7f30c69a45f8>"
      ]
     },
     "execution_count": 109,
     "metadata": {},
     "output_type": "execute_result"
    },
    {
     "data": {
      "image/png": "[encoded data removed]",
      "text/plain": [
       "<matplotlib.figure.Figure at 0x7f30c49f3b00>"
      ]
     },
     "metadata": {},
     "output_type": "display_data"
    }
   ],
   "source": [
    "sns.barplot(x='scaffold', y='avg_cov', hue='sex',data = canDf)"
   ]
  },
  {
   "cell_type": "code",
   "execution_count": 253,
   "metadata": {
    "ExecuteTime": {
     "end_time": "2017-10-25T18:12:24.051934Z",
     "start_time": "2017-10-25T18:12:20.243121Z"
    }
   },
   "outputs": [
    {
     "data": {
      "text/html": [
       "<div>\n",
       "<style>\n",
       "    .dataframe thead tr:only-child th {\n",
       "        text-align: right;\n",
       "    }\n",
       "\n",
       "    .dataframe thead th {\n",
       "        text-align: left;\n",
       "    }\n",
       "\n",
       "    .dataframe tbody tr th {\n",
       "        vertical-align: top;\n",
       "    }\n",
       "</style>\n",
       "<table border=\"1\" class=\"dataframe\">\n",
       "  <thead>\n",
       "    <tr style=\"text-align: right;\">\n",
       "      <th></th>\n",
       "      <th>scaffold</th>\n",
       "      <th>start</th>\n",
       "      <th>stop</th>\n",
       "      <th>coverage</th>\n",
       "      <th>sample_name</th>\n",
       "      <th>sex</th>\n",
       "      <th>sex_name</th>\n",
       "    </tr>\n",
       "  </thead>\n",
       "  <tbody>\n",
       "    <tr>\n",
       "      <th>0</th>\n",
       "      <td>C6883</td>\n",
       "      <td>0</td>\n",
       "      <td>3</td>\n",
       "      <td>2</td>\n",
       "      <td>A.tig_21545</td>\n",
       "      <td>M</td>\n",
       "      <td>A.tig_21545_M</td>\n",
       "    </tr>\n",
       "    <tr>\n",
       "      <th>1</th>\n",
       "      <td>C6883</td>\n",
       "      <td>3</td>\n",
       "      <td>9</td>\n",
       "      <td>3</td>\n",
       "      <td>A.tig_21545</td>\n",
       "      <td>M</td>\n",
       "      <td>A.tig_21545_M</td>\n",
       "    </tr>\n",
       "    <tr>\n",
       "      <th>2</th>\n",
       "      <td>C6883</td>\n",
       "      <td>9</td>\n",
       "      <td>43</td>\n",
       "      <td>4</td>\n",
       "      <td>A.tig_21545</td>\n",
       "      <td>M</td>\n",
       "      <td>A.tig_21545_M</td>\n",
       "    </tr>\n",
       "    <tr>\n",
       "      <th>3</th>\n",
       "      <td>C6883</td>\n",
       "      <td>43</td>\n",
       "      <td>89</td>\n",
       "      <td>5</td>\n",
       "      <td>A.tig_21545</td>\n",
       "      <td>M</td>\n",
       "      <td>A.tig_21545_M</td>\n",
       "    </tr>\n",
       "    <tr>\n",
       "      <th>4</th>\n",
       "      <td>C6883</td>\n",
       "      <td>89</td>\n",
       "      <td>115</td>\n",
       "      <td>6</td>\n",
       "      <td>A.tig_21545</td>\n",
       "      <td>M</td>\n",
       "      <td>A.tig_21545_M</td>\n",
       "    </tr>\n",
       "  </tbody>\n",
       "</table>\n",
       "</div>"
      ],
      "text/plain": [
       "  scaffold  start  stop  coverage  sample_name sex       sex_name\n",
       "0    C6883      0     3         2  A.tig_21545   M  A.tig_21545_M\n",
       "1    C6883      3     9         3  A.tig_21545   M  A.tig_21545_M\n",
       "2    C6883      9    43         4  A.tig_21545   M  A.tig_21545_M\n",
       "3    C6883     43    89         5  A.tig_21545   M  A.tig_21545_M\n",
       "4    C6883     89   115         6  A.tig_21545   M  A.tig_21545_M"
      ]
     },
     "execution_count": 253,
     "metadata": {},
     "output_type": "execute_result"
    }
   ],
   "source": [
    "df_list = []\n",
    "for key in indvBedGraphs:\n",
    "    mapped_reads = normFactorsDF[normFactorsDF['sample_name']==key[0]]['mapped_reads'].iloc[0]\n",
    "    df = pd.read_csv(indvBedGraphs[key], sep='\\t', names = ['scaffold', 'start', 'stop', 'coverage'])\n",
    "    df = df[df.scaffold.isin(heatMapMaleScaffolds)]\n",
    "    df['sample_name'] = key[0]\n",
    "    df['sex'] = key[1]\n",
    "    df['sex_name'] = '_'.join(key)\n",
    "    df_list.append(df)\n",
    "    df = None\n",
    "\n",
    "canScaffoldsCovDf =pd.concat(df_list).reset_index(drop=True)\n",
    "canScaffoldsCovDf.head()"
   ]
  },
  {
   "cell_type": "code",
   "execution_count": 266,
   "metadata": {
    "ExecuteTime": {
     "end_time": "2017-10-25T21:02:44.206785Z",
     "start_time": "2017-10-25T21:02:43.725912Z"
    }
   },
   "outputs": [
    {
     "data": {
      "text/plain": [
       "1044"
      ]
     },
     "execution_count": 266,
     "metadata": {},
     "output_type": "execute_result"
    }
   ],
   "source": [
    "maleScaffoldLensDF[maleScaffoldLensDF.scaffold == scaffold].length.iloc[0]"
   ]
  },
  {
   "cell_type": "code",
   "execution_count": 279,
   "metadata": {
    "ExecuteTime": {
     "end_time": "2017-10-25T22:05:43.424778Z",
     "start_time": "2017-10-25T22:05:27.315574Z"
    }
   },
   "outputs": [
    {
     "data": {
      "image/png": "[encoded data removed]",
      "text/plain": [
       "<matplotlib.figure.Figure at 0x7f3095dad860>"
      ]
     },
     "metadata": {},
     "output_type": "display_data"
    },
    {
     "data": {
      "image/png": "[encoded data removed]",
      "text/plain": [
       "<matplotlib.figure.Figure at 0x7f309ad65d68>"
      ]
     },
     "metadata": {},
     "output_type": "display_data"
    },
    {
     "data": {
      "image/png": "[encoded data removed]",
      "text/plain": [
       "<matplotlib.figure.Figure at 0x7f30990f5828>"
      ]
     },
     "metadata": {},
     "output_type": "display_data"
    },
    {
     "data": {
      "image/png": "[encoded data removed]",
      "text/plain": [
       "<matplotlib.figure.Figure at 0x7f309b876ba8>"
      ]
     },
     "metadata": {},
     "output_type": "display_data"
    },
    {
     "data": {
      "image/png": "[encoded data removed]",
      "text/plain": [
       "<matplotlib.figure.Figure at 0x7f3097c7ac18>"
      ]
     },
     "metadata": {},
     "output_type": "display_data"
    }
   ],
   "source": [
    "colorsDict = dict(zip(['F','M'], ['#66c2a5', '#fc8d62'])) \n",
    "for scaffold in canScaffoldsCovDf.scaffold.unique():\n",
    "    fig, axarr = plt.subplots(8, 1, figsize=(15,10))\n",
    "    fig.suptitle(scaffold, fontsize=16, y=0.90)\n",
    "    for i, sex_name in enumerate(sorted(canScaffoldsCovDf.sex_name.unique(), key=lambda x: x[-1])):\n",
    "        data = canScaffoldsCovDf[(canScaffoldsCovDf.scaffold==scaffold) & (canScaffoldsCovDf.sex_name == sex_name) & (canScaffoldsCovDf.coverage > 0)].reset_index(drop=True)\n",
    "        ax = axarr[i]\n",
    "        ax.set_ylim(0,30)\n",
    "        ax.set_xlim(0, maleScaffoldLensDF[maleScaffoldLensDF.scaffold == scaffold].length.iloc[0])\n",
    "        ax.hlines(y=data.coverage, xmin=data.start, xmax=data.stop, color=colorsDict[sex_name[-1]], label=sex_name)\n",
    "        for k,x in enumerate(zip(data.start, data.stop)):\n",
    "            ax.fill_between(x=x, y1=data.coverage.iloc[k], y2=0, color=colorsDict[sex_name[-1]],alpha=1.0, lw=0)\n",
    "        if i != 7:\n",
    "            ax.xaxis.set_ticklabels([])\n",
    "        else:\n",
    "            ax.set_xlabel('Position (bp)')\n",
    "        ax.legend() "
   ]
  },
  {
   "cell_type": "code",
   "execution_count": 110,
   "metadata": {
    "ExecuteTime": {
     "end_time": "2017-10-23T15:55:49.885295Z",
     "start_time": "2017-10-23T15:55:49.811452Z"
    }
   },
   "outputs": [
    {
     "name": "stdout",
     "output_type": "stream",
     "text": [
      ">C6889\n",
      "TTTGCCAAACCATGTGTTTTTTTGGTCTGAACTGGACCTGGCTGGTCCAGACACAGTGGT\n",
      "TTGGGCCATGAAGAGGTAAGTGCACAAAGGAGATGCTTAAGAAATTCCAGCACTAATTCA\n",
      "GGTTCTTTAACTGCTGAGAAACTGAATTGGGATATCTTCAATTTTCATGCTTGGTCATAG\n",
      "ATTCAGCATAGCTCTTGAGTGAAAATCAAGTTTATTCTGACCATTCTTGTTCTAAGTTTT\n",
      "TTAAAAACTAAAATTTTCATACTAATTTTTTTTCCAATTTAGGGATTAGCACAAAGACAC\n",
      "ACCGTCAATGAACCCTTGCAAAAGTACGTGGAAGAAGGCTGATTGATCCATTCGTATGAT\n",
      "TTTTAGGCATTGTGAAAATCACTAAAAACCATTGAGTTCTATATCCCATGTCCCTTTTTT\n",
      "TTCATGAATAATGGGCCATGGTATAGTTGAGACAATAAGAATATATCTTGATATTTCTCA\n",
      "GACTCTCAGAAGTTTTTGATACTGTGCAGATACTTTCTGTGCAATAGTTCTGGTTCTGCC\n",
      "TTAGGGTCTGTGATCAGAAAATAATATTGATCCTTAGGGGTTCTGTAAGTTTCACTCCTA\n",
      "TCTCCTATACTATTTAAAATTTACACATATCCCTTAGGAGCAGTCATCCAGAATTTTAGA\n",
      "CTGAACAGGCAACCCTATGGAGATGACACTCAGTTCTGTCACACCTTTATGAGGTCTTTT\n",
      "ACCCTGACCTGTAGCTGGGGGAACAGCAGGCCCTCCCAATGCAAGTACTGTCGCCATTTT\n",
      "AGCTACTTAATTTATATGTTTCCATACTGAATTTATTGGGGCCTGCTCATAGACCTTTGG\n",
      "CTTGAGGCAGGATAGAAATGTAAATAAACAAGTGATAAATAAAACAAGAGCTTGGGGCTG\n",
      "AAGTGCTGAAGCAGAAATTGTAAGCTGCAATGGACTGTATGTTAACCAATATATTGCAGC\n",
      "TCAGTCTTGGTTAGATGGAATTTCTTTGCGTGCCCAGTGCTTGAGTCTAGGAGCTGGCTA\n",
      "TGACTCTGCTGTGAATGGAGTGCCTC\n",
      ">C6885\n",
      "TCTGGCCAGGAAATGTGCACTTTTACATGGATTGGCTGAAGAGGAAAAAAGAAACCCACC\n",
      "CTGCACTATCATGGAAATTTTTCTTCTCCTTGAGATGTTAAGCCTTACTCCCTTCCCTGG\n",
      "CCATTCTCCCCCTGGTTTATCTGTCAAAATCGATAAGATTCCTGACCTCCAAATTGTTTG\n",
      "TACCTCTGCATTTGCAGCTCTGAAAACAAGCAATCAAGGGAAGGGAGGGACTCCTAGGTG\n",
      "AAGAAAGCAAGCAAAGCAAGCAAGTCGGCTGAACTGAAGAAGAAGGTGAAGAAAGGAAAA\n",
      "GACATATGAAGTTCAAGCAAAGAGGGAGAGGGGAGCACGGATCAAAGAGGCCAAAAAGAG\n",
      "GAAAGAGAAAAGAGAAGCACCAATGGAGTTAGAAGGGGCTGTGCAGTAGGAAGGGAGGAA\n",
      "GTCATTCTCCAGAGTAAAGAAAAGTGAAGGTAATCCAGCAAAAAGACAGAGAAGGTCAGT\n",
      "CACTGCTCCTTGGCTGGCATCCCTTTTTACCAAGTTAGCCAATGCTTCCCTCTTGGCCCA\n",
      "ACTCAACCTTTCCCAGTGACACTTGTGCTGAACAGCACAAGGATTTCTGATCTCAGAGTG\n",
      "CTACTTAGTCTCCCCCACACCAGTGCTTAACAGTTACTGCCCTCTATAGTTGTCCCATAA\n",
      "CTGCTGAGATGGGCAAATATTGTTTCTGTACAAGAAGAAAACTAAAGAGGGGAAATCTAT\n",
      "TTCAATAAATAGATCTTGAATAACATGATAGCTTTATTAGAGGCAACAGAATTTTTGTTG\n",
      "ATTGTGTGGGTTTTGTTTTGTTTTTTATTCCTTTATTCCTCCTCCCCCCCCAAAAAAAGA\n",
      "CACCTACAAGTTCCAGCACTGGCTGAACAAGGCAACCTAAACCTTCTAATTGTGGATAGC\n",
      "ATGATAACTGCCCCAAAGGTTCTCTTTCATGTTCACATTTTTCAATAAAAATGGGCTAAA\n",
      "ATGCAGGAACGGTTTCAGTACCGTAATAATCTGATTATAGGTAAGTACTGAAGTGGAGGA\n",
      "GAAAGCTCAGAGAAAAATCAGAACT\n",
      ">C6883\n",
      "TCTGGCCAGGAAATGTGCACTTTTACATGGATTGGCTGAAGAGGAAAAAAGAAACCCACC\n",
      "CTGCACTATCATGGAAATTTTTCTTCTCCTTGAGATGTTAAGCCTTACTCCCTTCCCTGG\n",
      "CCATTCTTCCCCTGGTTTATCTGTCAAAATCGATAAGATTCCTGACCTCCAAATTGTTTG\n",
      "TACCTCTGCATTTGCAGCTCTGAAAACAAGCAATCAAGGGAAGGGAGGGACTCCTAGGTG\n",
      "AAGAAAGCAAGCAAAGCAAGCAAGTCGGCTGAACTGAAGAAGAAGGTGAAGAAAGGAAAA\n",
      "GACATATGAAGTTCAAGCAAAGAGGGAGGGGGAGCACGGATCAAAGAGGCCAAAAAGAGG\n",
      "AAAGAGAAAAGAGAAGCACCAATGGAGTTAGAAGGGGCTGTGCAGTAGGAAGGGAGGAAG\n",
      "TCATTCTTCAGAGTAAAGAAAAGTGAAGGTAATCCAGCAAAAAGACAGAGAAGGTCAGTT\n",
      "ACTGCTCCTTGGCTGGCATCCCTTTTTACCAAGTTAGCCAATGCTTCCCTCTTGGCCCAA\n",
      "CTCAACCTTTCCCAGTGACACTTGTGCTGAACAGCACAAGGATTTCTGATCTCAGAGTGC\n",
      "TACTTAGTCTCCCCCACACCAGTGCTTAACAGTAACTGCCCTCTATAGTTGTCCCATAAC\n",
      "TGCTGAGATGGGCAAATATTGTTTCTGTACAAGAAGAAAACTAAAGAGGGGAAATCTATT\n",
      "TCAATAAATAGATCTTGAATAACATGATAGCTTTATTAGAGGCAACAGAATTTTTGTTGA\n",
      "TTGTGTGGGTTTTGTTTTGTTTTTTATTCCTTTATTCCTCCTCCCCCCCAAAAAAAAGAC\n",
      "ACCTACAAGTTCCAGCACTGGCTGAACAAGGCAACCTAAACCTTCTAATTGTGGATAGCA\n",
      "TGATAACTGCCCCAAAAGTTCTCTTTCATGTTCACATTTTTCAATAAAAATGGGCTAAAA\n",
      "TGCAGGAACGGTTTCAGTACCGTAATAATCTGATTATAGGTAAGTACTGAAGTGGAGGAG\n",
      "AAAGCTCAGAGAAAAATCAGAACT\n",
      ">C7069\n",
      "AGTCCACCAGCCGCCACTGACTACAAGCCACCTGAAAAGAAGGAGGAAAGGGTTGAAAAA\n",
      "AAAAGGGCATACTGCCAACACCTTTCAAACTGAAAACAGATTATAATCTGATCCAGATAG\n",
      "AGGAAAATCCATTTGGAGAGAGTACAGTCGAGGGGAAAAAAATCCAGCTTAGTCTTTAAA\n",
      "AGGTGTAACTGTGGCATTTTAAGTTTTCTTGATATCAGCAATATTAGGAATGGCTGCACC\n",
      "TAGCTGATCAGATCTGGATGGGTTGATTTGATTATTGCTTAAATTGTCATCAAACCCTGG\n",
      "ATTCACCATAGTCAAGTAAAAGCTGTAAAAACACTGGATACCATAGAGATGTTTGTATAT\n",
      "TTTTATTTAAAATTTAATGCCACTTTGTACAGCAAACTGTTCACTTTGATATATGATTGT\n",
      "GCCTTACAAACGAAAATAAGTTTTTTCACTTTCCTTAACATTTTAAATTTGAATTTCTTA\n",
      "TGCCTAGAATGATATGCAAATGACACAACTACAATGAAATCAAAAGTGTTACAAAATGTC\n",
      "TACAAAGGAATAATCCCATGAATGTCTCAGATAACAGTTGTATTAATTATGATGGAGCAA\n",
      "CAGGTAAAGAGACAGTGAAGCGAAAGGACATTTTCACCTCAAAGGTTGGTGAAGAAACTG\n",
      "CATCATAGCACATCTCCAATTTCAAGGGTTAGTAATGAAGTGATGCCAGTTTTTGCAGCT\n",
      "GTAGGAAAGTATGCTCATGCAGATCTAGGCAACTATACTGGTGATCCCAGGTTTTCTAAT\n",
      "TGAAGAAGAAAATCACAGCTGGGGAAAATAATGGCAAAGTATGGCACAAGAGGAGAAGTT\n",
      "GTTCCCTTAAAGAAATTACTTTGCCATTGCCTCCCCCTGCAAGTTCACAAAATTAATAGT\n",
      "ATACTCTTGAGTTTATTTTGAAAACAAAGAAAGACCTAGTGGCAGGTTTATAACTGTGTC\n",
      "CGAAACGTCAGGTTGCTTCCTGTCAATGACCGAGCACAGACATCATCAATCCATTCATTT\n",
      "TGTGCAACTGTGAAATGATTTTTCCAATCTCCAACAATGCCTGCAAATGAGAGAGACCAT\n",
      "CAAGTCTTGTTTTTAATATGATATTACGCAAGCAGTTACATTAATTGGTAATAGGTTTTT\n",
      "TAATTGATTAATTCCTCAGCAATTCTACAATTCAGCATTAATACATATGTTATCAGCACA\n",
      "CGTGATTTTTTTTTTAAAAAATCTGATTTAATTGAATTTGTTTGACAGCAGTTTATACAT\n",
      "GAAGAAGAAGAACAGAAGGACTAGGCTTTTATATCCACTTTTCTCATCCTTAAGGAATCT\n",
      "CAGGACACCCTGTGTGGGGGGGGCTGCAAAAGCTCAGAAGGAGAGCTATGATTACCCAAG\n",
      "GCCACCCA\n",
      ">C6925\n",
      "ATAAATAATGGGAACATTGGATACTGAGTTCAAATTCACCTCGAATTTTAGTGCCTATGG\n",
      "AAATGCACCCTAGGTTTCTTTCTTATGATTTCTTCATCAACAGGGACTACCTGGATGCAG\n",
      "GAAATTGTAGACATGATCCAACATGGGGGAGACCCCCAGCAATGTGCTCGGGCTCCTATC\n",
      "TATGAAAGGAATCCATTCATAGAGCTGTGTCCTCCAAAACCTATTCGTACAGGTGAGAAA\n",
      "CAAGTAGTACAGAGTTCCAGTGAAGTCATGCATGAAAACAGAGTTACTTAAGATGAATCT\n",
      "GCATATTCCTCTCTGTTTCAGGTTTTGAAGAAGCAGAGGTAATGCCTTCCCCACGCACAC\n",
      "TCAAATCACACCTCCCTGTCCATCTTTTACCACCTTCCTTCTGGGAACAGAATTGTAAGG\n",
      "TCAGAAGAATAAGTGGGGATCAAGTTGAAGACAGGACTGATGTCCAGACTGATTCTCACT\n",
      "TCATTGTGAACCATCAACTTATTAATAATGTGAAAAACAATGGTCTTTCAAAATTAATTG\n",
      "TGCCACAGACTTGGCAATGAAATTTTCCCTCCGCAAAACACAGTCAGAAATTGATACCTT\n",
      "ATAAAAATGGTGCATTACTGAAAATAATGAAAAGAGGATAATACCAGGGAAAAAATTATT\n",
      "ACAGAAGTGAAAACTTTTTAAAAAGAGGTACAAAGTGTTTAGATATATGACCTGATAAAC\n",
      "CAACATTTCACCTAGTCTAAACATCTTCAAACTAAAGACTTAATTAGAATTACTGTTACT\n",
      "GCTTGTTCTTTTGCAGAACTTTGTAATACAATCATATCATAATCCTAGTAACGCTACTGA\n",
      "TAACAGTACAATTATGGTTTTGGATCAGGGGTTGTGTTGTGTACATACGTGCTTGCAAGG\n",
      "TCATGGCTGGGGAGGTGGAAGACCATTCAATTTGTGGGCAAAGGGGGGACCCTACAGATG\n",
      "TAGGTCCTTTTTGATTCACCTGCAAAAGTTCAAATTAATAGGAATTCATACAAATTGCAA\n",
      "ATATACTGATTATATTTTGCCGCATTTCTGTAGATCATTTATGTAGCCAGGAATGTCAAG\n",
      "GACACTGCA\n"
     ]
    }
   ],
   "source": [
    "%%bash -s \"$heatMapMaleScaffoldsStr\"\n",
    "samtools faidx ../data/male_assembly/male_assembly.scafSeq $1 > ../data/male_candidate_sequences.fasta\n",
    "cat ../data/male_candidate_sequences.fasta"
   ]
  },
  {
   "cell_type": "markdown",
   "metadata": {},
   "source": [
    "#### Designing Primers"
   ]
  },
  {
   "cell_type": "code",
   "execution_count": 139,
   "metadata": {
    "ExecuteTime": {
     "end_time": "2017-10-23T22:03:16.924809Z",
     "start_time": "2017-10-23T22:03:14.875661Z"
    }
   },
   "outputs": [
    {
     "name": "stdout",
     "output_type": "stream",
     "text": [
      "The autoreload extension is already loaded. To reload it, use:\n",
      "  %reload_ext autoreload\n"
     ]
    }
   ],
   "source": [
    "%load_ext autoreload\n",
    "\n",
    "%autoreload 2"
   ]
  },
  {
   "cell_type": "code",
   "execution_count": 180,
   "metadata": {
    "ExecuteTime": {
     "end_time": "2017-10-24T16:33:52.383670Z",
     "start_time": "2017-10-24T16:33:52.326493Z"
    }
   },
   "outputs": [],
   "source": [
    "import fasta_classes as fa"
   ]
  },
  {
   "cell_type": "code",
   "execution_count": 158,
   "metadata": {
    "ExecuteTime": {
     "end_time": "2017-10-24T15:48:52.967565Z",
     "start_time": "2017-10-24T15:48:52.903497Z"
    }
   },
   "outputs": [],
   "source": [
    "targetSeqs = fa.Fasta_file('../data/male_candidate_sequences.fasta')\n",
    "targeSeqTups = list(targetSeqs.fasta_tuples)"
   ]
  },
  {
   "cell_type": "code",
   "execution_count": 159,
   "metadata": {
    "ExecuteTime": {
     "end_time": "2017-10-24T15:48:52.997330Z",
     "start_time": "2017-10-24T15:48:52.969561Z"
    }
   },
   "outputs": [
    {
     "data": {
      "text/plain": [
       "('>C6889',\n",
       " 'TTTGCCAAACCATGTGTTTTTTTGGTCTGAACTGGACCTGGCTGGTCCAGACACAGTGGTTTGGGCCATGAAGAGGTAAGTGCACAAAGGAGATGCTTAAGAAATTCCAGCACTAATTCAGGTTCTTTAACTGCTGAGAAACTGAATTGGGATATCTTCAATTTTCATGCTTGGTCATAGATTCAGCATAGCTCTTGAGTGAAAATCAAGTTTATTCTGACCATTCTTGTTCTAAGTTTTTTAAAAACTAAAATTTTCATACTAATTTTTTTTCCAATTTAGGGATTAGCACAAAGACACACCGTCAATGAACCCTTGCAAAAGTACGTGGAAGAAGGCTGATTGATCCATTCGTATGATTTTTAGGCATTGTGAAAATCACTAAAAACCATTGAGTTCTATATCCCATGTCCCTTTTTTTTCATGAATAATGGGCCATGGTATAGTTGAGACAATAAGAATATATCTTGATATTTCTCAGACTCTCAGAAGTTTTTGATACTGTGCAGATACTTTCTGTGCAATAGTTCTGGTTCTGCCTTAGGGTCTGTGATCAGAAAATAATATTGATCCTTAGGGGTTCTGTAAGTTTCACTCCTATCTCCTATACTATTTAAAATTTACACATATCCCTTAGGAGCAGTCATCCAGAATTTTAGACTGAACAGGCAACCCTATGGAGATGACACTCAGTTCTGTCACACCTTTATGAGGTCTTTTACCCTGACCTGTAGCTGGGGGAACAGCAGGCCCTCCCAATGCAAGTACTGTCGCCATTTTAGCTACTTAATTTATATGTTTCCATACTGAATTTATTGGGGCCTGCTCATAGACCTTTGGCTTGAGGCAGGATAGAAATGTAAATAAACAAGTGATAAATAAAACAAGAGCTTGGGGCTGAAGTGCTGAAGCAGAAATTGTAAGCTGCAATGGACTGTATGTTAACCAATATATTGCAGCTCAGTCTTGGTTAGATGGAATTTCTTTGCGTGCCCAGTGCTTGAGTCTAGGAGCTGGCTATGACTCTGCTGTGAATGGAGTGCCTC')"
      ]
     },
     "execution_count": 159,
     "metadata": {},
     "output_type": "execute_result"
    }
   ],
   "source": [
    "targeSeqTups[0]"
   ]
  },
  {
   "cell_type": "code",
   "execution_count": 209,
   "metadata": {
    "ExecuteTime": {
     "end_time": "2017-10-24T22:18:05.770863Z",
     "start_time": "2017-10-24T22:18:05.515594Z"
    }
   },
   "outputs": [
    {
     "data": {
      "text/html": [
       "<div>\n",
       "<style>\n",
       "    .dataframe thead tr:only-child th {\n",
       "        text-align: right;\n",
       "    }\n",
       "\n",
       "    .dataframe thead th {\n",
       "        text-align: left;\n",
       "    }\n",
       "\n",
       "    .dataframe tbody tr th {\n",
       "        vertical-align: top;\n",
       "    }\n",
       "</style>\n",
       "<table border=\"1\" class=\"dataframe\">\n",
       "  <thead>\n",
       "    <tr style=\"text-align: right;\">\n",
       "      <th></th>\n",
       "      <th>SEQ_NAME</th>\n",
       "      <th>PRIMER_SET</th>\n",
       "      <th>PRIMER_LEFT_SEQUENCE</th>\n",
       "      <th>PRIMER_RIGHT_SEQUENCE</th>\n",
       "      <th>PRIMER_PAIR_PRODUCT_SIZE</th>\n",
       "      <th>PRIMER_LEFT_COORD</th>\n",
       "      <th>PRIMER_RIGHT_COORD</th>\n",
       "      <th>PRIMER_LEFT_GC_PERCENT</th>\n",
       "      <th>PRIMER_RIGHT_GC_PERCENT</th>\n",
       "      <th>PRIMER_LEFT_TM</th>\n",
       "      <th>PRIMER_RIGHT_TM</th>\n",
       "    </tr>\n",
       "  </thead>\n",
       "  <tbody>\n",
       "    <tr>\n",
       "      <th>0</th>\n",
       "      <td>C6889</td>\n",
       "      <td>0</td>\n",
       "      <td>ACTGAACAGGCAACCCTATGG</td>\n",
       "      <td>ACTGGGCACGCAAAGAAATTC</td>\n",
       "      <td>339</td>\n",
       "      <td>(659, 21)</td>\n",
       "      <td>(997, 21)</td>\n",
       "      <td>52.380952</td>\n",
       "      <td>47.619048</td>\n",
       "      <td>59.995255</td>\n",
       "      <td>60.000274</td>\n",
       "    </tr>\n",
       "    <tr>\n",
       "      <th>1</th>\n",
       "      <td>C6889</td>\n",
       "      <td>1</td>\n",
       "      <td>TCCCTTAGGAGCAGTCATCCA</td>\n",
       "      <td>ACTGGGCACGCAAAGAAATTC</td>\n",
       "      <td>369</td>\n",
       "      <td>(629, 21)</td>\n",
       "      <td>(997, 21)</td>\n",
       "      <td>52.380952</td>\n",
       "      <td>47.619048</td>\n",
       "      <td>59.991673</td>\n",
       "      <td>60.000274</td>\n",
       "    </tr>\n",
       "    <tr>\n",
       "      <th>2</th>\n",
       "      <td>C6889</td>\n",
       "      <td>2</td>\n",
       "      <td>CTGGTTCTGCCTTAGGGTCTG</td>\n",
       "      <td>ACTGGGCACGCAAAGAAATTC</td>\n",
       "      <td>469</td>\n",
       "      <td>(529, 21)</td>\n",
       "      <td>(997, 21)</td>\n",
       "      <td>57.142857</td>\n",
       "      <td>47.619048</td>\n",
       "      <td>60.065854</td>\n",
       "      <td>60.000274</td>\n",
       "    </tr>\n",
       "    <tr>\n",
       "      <th>3</th>\n",
       "      <td>C6885</td>\n",
       "      <td>0</td>\n",
       "      <td>AAGCAATCAAGGGAAGGGAGG</td>\n",
       "      <td>AAAGGTTGAGTTGGGCCAAGA</td>\n",
       "      <td>344</td>\n",
       "      <td>(207, 21)</td>\n",
       "      <td>(550, 21)</td>\n",
       "      <td>52.380952</td>\n",
       "      <td>47.619048</td>\n",
       "      <td>59.993600</td>\n",
       "      <td>60.063266</td>\n",
       "    </tr>\n",
       "    <tr>\n",
       "      <th>4</th>\n",
       "      <td>C6885</td>\n",
       "      <td>1</td>\n",
       "      <td>AAGCAATCAAGGGAAGGGAGG</td>\n",
       "      <td>AGCACAAGTGTCACTGGGAAA</td>\n",
       "      <td>362</td>\n",
       "      <td>(207, 21)</td>\n",
       "      <td>(568, 21)</td>\n",
       "      <td>52.380952</td>\n",
       "      <td>47.619048</td>\n",
       "      <td>59.993600</td>\n",
       "      <td>60.064758</td>\n",
       "    </tr>\n",
       "    <tr>\n",
       "      <th>5</th>\n",
       "      <td>C6885</td>\n",
       "      <td>2</td>\n",
       "      <td>GAAACCCACCCTGCACTATCA</td>\n",
       "      <td>GGAGCAGTGACTGACCTTCTC</td>\n",
       "      <td>439</td>\n",
       "      <td>(50, 21)</td>\n",
       "      <td>(488, 21)</td>\n",
       "      <td>52.380952</td>\n",
       "      <td>57.142857</td>\n",
       "      <td>59.995723</td>\n",
       "      <td>60.067213</td>\n",
       "    </tr>\n",
       "    <tr>\n",
       "      <th>6</th>\n",
       "      <td>C6883</td>\n",
       "      <td>0</td>\n",
       "      <td>GAAACCCACCCTGCACTATCA</td>\n",
       "      <td>CAGCCAAGGAGCAGTAACTGA</td>\n",
       "      <td>445</td>\n",
       "      <td>(50, 21)</td>\n",
       "      <td>(494, 21)</td>\n",
       "      <td>52.380952</td>\n",
       "      <td>52.380952</td>\n",
       "      <td>59.995723</td>\n",
       "      <td>59.997570</td>\n",
       "    </tr>\n",
       "    <tr>\n",
       "      <th>7</th>\n",
       "      <td>C6883</td>\n",
       "      <td>1</td>\n",
       "      <td>GAAACCCACCCTGCACTATCA</td>\n",
       "      <td>AGCCAAGGAGCAGTAACTGAC</td>\n",
       "      <td>444</td>\n",
       "      <td>(50, 21)</td>\n",
       "      <td>(493, 21)</td>\n",
       "      <td>52.380952</td>\n",
       "      <td>52.380952</td>\n",
       "      <td>59.995723</td>\n",
       "      <td>59.997456</td>\n",
       "    </tr>\n",
       "    <tr>\n",
       "      <th>8</th>\n",
       "      <td>C6883</td>\n",
       "      <td>2</td>\n",
       "      <td>GGCCATTCTTCCCCTGGTTTA</td>\n",
       "      <td>CAGCCAAGGAGCAGTAACTGA</td>\n",
       "      <td>377</td>\n",
       "      <td>(118, 21)</td>\n",
       "      <td>(494, 21)</td>\n",
       "      <td>52.380952</td>\n",
       "      <td>52.380952</td>\n",
       "      <td>59.993361</td>\n",
       "      <td>59.997570</td>\n",
       "    </tr>\n",
       "    <tr>\n",
       "      <th>9</th>\n",
       "      <td>C7069</td>\n",
       "      <td>0</td>\n",
       "      <td>GCTGCACCTAGCTGATCAGAT</td>\n",
       "      <td>CAGCTGCAAAAACTGGCATCA</td>\n",
       "      <td>489</td>\n",
       "      <td>(232, 21)</td>\n",
       "      <td>(720, 21)</td>\n",
       "      <td>52.380952</td>\n",
       "      <td>47.619048</td>\n",
       "      <td>59.929555</td>\n",
       "      <td>60.269883</td>\n",
       "    </tr>\n",
       "    <tr>\n",
       "      <th>10</th>\n",
       "      <td>C7069</td>\n",
       "      <td>1</td>\n",
       "      <td>GCTGCACCTAGCTGATCAGAT</td>\n",
       "      <td>GCTGCAAAAACTGGCATCACT</td>\n",
       "      <td>487</td>\n",
       "      <td>(232, 21)</td>\n",
       "      <td>(718, 21)</td>\n",
       "      <td>52.380952</td>\n",
       "      <td>47.619048</td>\n",
       "      <td>59.929555</td>\n",
       "      <td>60.269936</td>\n",
       "    </tr>\n",
       "    <tr>\n",
       "      <th>11</th>\n",
       "      <td>C7069</td>\n",
       "      <td>2</td>\n",
       "      <td>GCTGCACCTAGCTGATCAGAT</td>\n",
       "      <td>AGCTGCAAAAACTGGCATCAC</td>\n",
       "      <td>488</td>\n",
       "      <td>(232, 21)</td>\n",
       "      <td>(719, 21)</td>\n",
       "      <td>52.380952</td>\n",
       "      <td>47.619048</td>\n",
       "      <td>59.929555</td>\n",
       "      <td>60.269936</td>\n",
       "    </tr>\n",
       "    <tr>\n",
       "      <th>12</th>\n",
       "      <td>C6925</td>\n",
       "      <td>0</td>\n",
       "      <td>TGCTCGGGCTCCTATCTATGA</td>\n",
       "      <td>CTGTGTTTTGCGGAGGGAAAA</td>\n",
       "      <td>419</td>\n",
       "      <td>(164, 21)</td>\n",
       "      <td>(582, 21)</td>\n",
       "      <td>52.380952</td>\n",
       "      <td>47.619048</td>\n",
       "      <td>59.924464</td>\n",
       "      <td>59.592742</td>\n",
       "    </tr>\n",
       "    <tr>\n",
       "      <th>13</th>\n",
       "      <td>C6925</td>\n",
       "      <td>1</td>\n",
       "      <td>GAGCTGTGTCCTCCAAAACCT</td>\n",
       "      <td>CTGTGTTTTGCGGAGGGAAAA</td>\n",
       "      <td>382</td>\n",
       "      <td>(201, 21)</td>\n",
       "      <td>(582, 21)</td>\n",
       "      <td>52.380952</td>\n",
       "      <td>47.619048</td>\n",
       "      <td>60.202818</td>\n",
       "      <td>59.592742</td>\n",
       "    </tr>\n",
       "    <tr>\n",
       "      <th>14</th>\n",
       "      <td>C6925</td>\n",
       "      <td>2</td>\n",
       "      <td>AGAGCTGTGTCCTCCAAAACC</td>\n",
       "      <td>CTGTGTTTTGCGGAGGGAAAA</td>\n",
       "      <td>383</td>\n",
       "      <td>(200, 21)</td>\n",
       "      <td>(582, 21)</td>\n",
       "      <td>52.380952</td>\n",
       "      <td>47.619048</td>\n",
       "      <td>60.202818</td>\n",
       "      <td>59.592742</td>\n",
       "    </tr>\n",
       "  </tbody>\n",
       "</table>\n",
       "</div>"
      ],
      "text/plain": [
       "   SEQ_NAME  PRIMER_SET   PRIMER_LEFT_SEQUENCE  PRIMER_RIGHT_SEQUENCE  \\\n",
       "0     C6889           0  ACTGAACAGGCAACCCTATGG  ACTGGGCACGCAAAGAAATTC   \n",
       "1     C6889           1  TCCCTTAGGAGCAGTCATCCA  ACTGGGCACGCAAAGAAATTC   \n",
       "2     C6889           2  CTGGTTCTGCCTTAGGGTCTG  ACTGGGCACGCAAAGAAATTC   \n",
       "3     C6885           0  AAGCAATCAAGGGAAGGGAGG  AAAGGTTGAGTTGGGCCAAGA   \n",
       "4     C6885           1  AAGCAATCAAGGGAAGGGAGG  AGCACAAGTGTCACTGGGAAA   \n",
       "5     C6885           2  GAAACCCACCCTGCACTATCA  GGAGCAGTGACTGACCTTCTC   \n",
       "6     C6883           0  GAAACCCACCCTGCACTATCA  CAGCCAAGGAGCAGTAACTGA   \n",
       "7     C6883           1  GAAACCCACCCTGCACTATCA  AGCCAAGGAGCAGTAACTGAC   \n",
       "8     C6883           2  GGCCATTCTTCCCCTGGTTTA  CAGCCAAGGAGCAGTAACTGA   \n",
       "9     C7069           0  GCTGCACCTAGCTGATCAGAT  CAGCTGCAAAAACTGGCATCA   \n",
       "10    C7069           1  GCTGCACCTAGCTGATCAGAT  GCTGCAAAAACTGGCATCACT   \n",
       "11    C7069           2  GCTGCACCTAGCTGATCAGAT  AGCTGCAAAAACTGGCATCAC   \n",
       "12    C6925           0  TGCTCGGGCTCCTATCTATGA  CTGTGTTTTGCGGAGGGAAAA   \n",
       "13    C6925           1  GAGCTGTGTCCTCCAAAACCT  CTGTGTTTTGCGGAGGGAAAA   \n",
       "14    C6925           2  AGAGCTGTGTCCTCCAAAACC  CTGTGTTTTGCGGAGGGAAAA   \n",
       "\n",
       "    PRIMER_PAIR_PRODUCT_SIZE PRIMER_LEFT_COORD PRIMER_RIGHT_COORD  \\\n",
       "0                        339         (659, 21)          (997, 21)   \n",
       "1                        369         (629, 21)          (997, 21)   \n",
       "2                        469         (529, 21)          (997, 21)   \n",
       "3                        344         (207, 21)          (550, 21)   \n",
       "4                        362         (207, 21)          (568, 21)   \n",
       "5                        439          (50, 21)          (488, 21)   \n",
       "6                        445          (50, 21)          (494, 21)   \n",
       "7                        444          (50, 21)          (493, 21)   \n",
       "8                        377         (118, 21)          (494, 21)   \n",
       "9                        489         (232, 21)          (720, 21)   \n",
       "10                       487         (232, 21)          (718, 21)   \n",
       "11                       488         (232, 21)          (719, 21)   \n",
       "12                       419         (164, 21)          (582, 21)   \n",
       "13                       382         (201, 21)          (582, 21)   \n",
       "14                       383         (200, 21)          (582, 21)   \n",
       "\n",
       "    PRIMER_LEFT_GC_PERCENT  PRIMER_RIGHT_GC_PERCENT  PRIMER_LEFT_TM  \\\n",
       "0                52.380952                47.619048       59.995255   \n",
       "1                52.380952                47.619048       59.991673   \n",
       "2                57.142857                47.619048       60.065854   \n",
       "3                52.380952                47.619048       59.993600   \n",
       "4                52.380952                47.619048       59.993600   \n",
       "5                52.380952                57.142857       59.995723   \n",
       "6                52.380952                52.380952       59.995723   \n",
       "7                52.380952                52.380952       59.995723   \n",
       "8                52.380952                52.380952       59.993361   \n",
       "9                52.380952                47.619048       59.929555   \n",
       "10               52.380952                47.619048       59.929555   \n",
       "11               52.380952                47.619048       59.929555   \n",
       "12               52.380952                47.619048       59.924464   \n",
       "13               52.380952                47.619048       60.202818   \n",
       "14               52.380952                47.619048       60.202818   \n",
       "\n",
       "    PRIMER_RIGHT_TM  \n",
       "0         60.000274  \n",
       "1         60.000274  \n",
       "2         60.000274  \n",
       "3         60.063266  \n",
       "4         60.064758  \n",
       "5         60.067213  \n",
       "6         59.997570  \n",
       "7         59.997456  \n",
       "8         59.997570  \n",
       "9         60.269883  \n",
       "10        60.269936  \n",
       "11        60.269936  \n",
       "12        59.592742  \n",
       "13        59.592742  \n",
       "14        59.592742  "
      ]
     },
     "execution_count": 209,
     "metadata": {},
     "output_type": "execute_result"
    }
   ],
   "source": [
    "results_dfs = []\n",
    "for seq in targeSeqTups:\n",
    "    df = fa.design_primers(seq, fragment_size=[300,500],exlude_seqs='../../dovetail_genome_delivery/data/fastas/lizard_23Jun2015_piz6a.upper.fasta')\n",
    "    results_dfs.append(df)\n",
    "\n",
    "allPrimerDf= pd.concat(results_dfs).reset_index(drop=True)\n",
    "allPrimerDf"
   ]
  },
  {
   "cell_type": "code",
   "execution_count": 250,
   "metadata": {
    "ExecuteTime": {
     "end_time": "2017-10-25T16:40:28.087821Z",
     "start_time": "2017-10-25T16:40:27.861470Z"
    }
   },
   "outputs": [
    {
     "data": {
      "text/html": [
       "<div>\n",
       "<style>\n",
       "    .dataframe thead tr:only-child th {\n",
       "        text-align: right;\n",
       "    }\n",
       "\n",
       "    .dataframe thead th {\n",
       "        text-align: left;\n",
       "    }\n",
       "\n",
       "    .dataframe tbody tr th {\n",
       "        vertical-align: top;\n",
       "    }\n",
       "</style>\n",
       "<table border=\"1\" class=\"dataframe\">\n",
       "  <thead>\n",
       "    <tr style=\"text-align: right;\">\n",
       "      <th></th>\n",
       "      <th>name</th>\n",
       "      <th>sequence</th>\n",
       "      <th>length (nt)</th>\n",
       "      <th>date</th>\n",
       "      <th>Distance to start of primer (nt)</th>\n",
       "      <th>description/comments</th>\n",
       "      <th>Page Reference</th>\n",
       "      <th>Tm</th>\n",
       "      <th>Additional Comments/Results</th>\n",
       "      <th>%GC</th>\n",
       "    </tr>\n",
       "  </thead>\n",
       "  <tbody>\n",
       "    <tr>\n",
       "      <th>0</th>\n",
       "      <td>Holi1252T</td>\n",
       "      <td>ACTGAACAGGCAACCCTATGG</td>\n",
       "      <td>21</td>\n",
       "      <td>10/25/2017</td>\n",
       "      <td>NaN</td>\n",
       "      <td>Left (top) Probe for C6889</td>\n",
       "      <td>/n/projects/dut/a_marmorata/dnaseq_sex_determ/...</td>\n",
       "      <td>59.995</td>\n",
       "      <td>Primers for Male Specific Sequences in Aspidos...</td>\n",
       "      <td>52.381</td>\n",
       "    </tr>\n",
       "    <tr>\n",
       "      <th>1</th>\n",
       "      <td>Holi1253T</td>\n",
       "      <td>TCCCTTAGGAGCAGTCATCCA</td>\n",
       "      <td>21</td>\n",
       "      <td>10/25/2017</td>\n",
       "      <td>NaN</td>\n",
       "      <td>Left (top) Probe for C6889</td>\n",
       "      <td>/n/projects/dut/a_marmorata/dnaseq_sex_determ/...</td>\n",
       "      <td>59.992</td>\n",
       "      <td>Primers for Male Specific Sequences in Aspidos...</td>\n",
       "      <td>52.381</td>\n",
       "    </tr>\n",
       "    <tr>\n",
       "      <th>2</th>\n",
       "      <td>Holi1254T</td>\n",
       "      <td>CTGGTTCTGCCTTAGGGTCTG</td>\n",
       "      <td>21</td>\n",
       "      <td>10/25/2017</td>\n",
       "      <td>NaN</td>\n",
       "      <td>Left (top) Probe for C6889</td>\n",
       "      <td>/n/projects/dut/a_marmorata/dnaseq_sex_determ/...</td>\n",
       "      <td>60.066</td>\n",
       "      <td>Primers for Male Specific Sequences in Aspidos...</td>\n",
       "      <td>57.143</td>\n",
       "    </tr>\n",
       "    <tr>\n",
       "      <th>3</th>\n",
       "      <td>Holi1255T</td>\n",
       "      <td>AAGCAATCAAGGGAAGGGAGG</td>\n",
       "      <td>21</td>\n",
       "      <td>10/25/2017</td>\n",
       "      <td>NaN</td>\n",
       "      <td>Left (top) Probe for C6885</td>\n",
       "      <td>/n/projects/dut/a_marmorata/dnaseq_sex_determ/...</td>\n",
       "      <td>59.994</td>\n",
       "      <td>Primers for Male Specific Sequences in Aspidos...</td>\n",
       "      <td>52.381</td>\n",
       "    </tr>\n",
       "    <tr>\n",
       "      <th>4</th>\n",
       "      <td>Holi1256T</td>\n",
       "      <td>GAAACCCACCCTGCACTATCA</td>\n",
       "      <td>21</td>\n",
       "      <td>10/25/2017</td>\n",
       "      <td>NaN</td>\n",
       "      <td>Left (top) Probe for C6885</td>\n",
       "      <td>/n/projects/dut/a_marmorata/dnaseq_sex_determ/...</td>\n",
       "      <td>59.996</td>\n",
       "      <td>Primers for Male Specific Sequences in Aspidos...</td>\n",
       "      <td>52.381</td>\n",
       "    </tr>\n",
       "    <tr>\n",
       "      <th>5</th>\n",
       "      <td>Holi1257T</td>\n",
       "      <td>GAAACCCACCCTGCACTATCA</td>\n",
       "      <td>21</td>\n",
       "      <td>10/25/2017</td>\n",
       "      <td>NaN</td>\n",
       "      <td>Left (top) Probe for C6883</td>\n",
       "      <td>/n/projects/dut/a_marmorata/dnaseq_sex_determ/...</td>\n",
       "      <td>59.996</td>\n",
       "      <td>Primers for Male Specific Sequences in Aspidos...</td>\n",
       "      <td>52.381</td>\n",
       "    </tr>\n",
       "    <tr>\n",
       "      <th>6</th>\n",
       "      <td>Holi1258T</td>\n",
       "      <td>GGCCATTCTTCCCCTGGTTTA</td>\n",
       "      <td>21</td>\n",
       "      <td>10/25/2017</td>\n",
       "      <td>NaN</td>\n",
       "      <td>Left (top) Probe for C6883</td>\n",
       "      <td>/n/projects/dut/a_marmorata/dnaseq_sex_determ/...</td>\n",
       "      <td>59.993</td>\n",
       "      <td>Primers for Male Specific Sequences in Aspidos...</td>\n",
       "      <td>52.381</td>\n",
       "    </tr>\n",
       "    <tr>\n",
       "      <th>7</th>\n",
       "      <td>Holi1259T</td>\n",
       "      <td>GCTGCACCTAGCTGATCAGAT</td>\n",
       "      <td>21</td>\n",
       "      <td>10/25/2017</td>\n",
       "      <td>NaN</td>\n",
       "      <td>Left (top) Probe for C7069</td>\n",
       "      <td>/n/projects/dut/a_marmorata/dnaseq_sex_determ/...</td>\n",
       "      <td>59.930</td>\n",
       "      <td>Primers for Male Specific Sequences in Aspidos...</td>\n",
       "      <td>52.381</td>\n",
       "    </tr>\n",
       "    <tr>\n",
       "      <th>8</th>\n",
       "      <td>Holi1260T</td>\n",
       "      <td>TGCTCGGGCTCCTATCTATGA</td>\n",
       "      <td>21</td>\n",
       "      <td>10/25/2017</td>\n",
       "      <td>NaN</td>\n",
       "      <td>Left (top) Probe for C6925</td>\n",
       "      <td>/n/projects/dut/a_marmorata/dnaseq_sex_determ/...</td>\n",
       "      <td>59.924</td>\n",
       "      <td>Primers for Male Specific Sequences in Aspidos...</td>\n",
       "      <td>52.381</td>\n",
       "    </tr>\n",
       "    <tr>\n",
       "      <th>9</th>\n",
       "      <td>Holi1261T</td>\n",
       "      <td>GAGCTGTGTCCTCCAAAACCT</td>\n",
       "      <td>21</td>\n",
       "      <td>10/25/2017</td>\n",
       "      <td>NaN</td>\n",
       "      <td>Left (top) Probe for C6925</td>\n",
       "      <td>/n/projects/dut/a_marmorata/dnaseq_sex_determ/...</td>\n",
       "      <td>60.203</td>\n",
       "      <td>Primers for Male Specific Sequences in Aspidos...</td>\n",
       "      <td>52.381</td>\n",
       "    </tr>\n",
       "    <tr>\n",
       "      <th>10</th>\n",
       "      <td>Holi1262T</td>\n",
       "      <td>AGAGCTGTGTCCTCCAAAACC</td>\n",
       "      <td>21</td>\n",
       "      <td>10/25/2017</td>\n",
       "      <td>NaN</td>\n",
       "      <td>Left (top) Probe for C6925</td>\n",
       "      <td>/n/projects/dut/a_marmorata/dnaseq_sex_determ/...</td>\n",
       "      <td>60.203</td>\n",
       "      <td>Primers for Male Specific Sequences in Aspidos...</td>\n",
       "      <td>52.381</td>\n",
       "    </tr>\n",
       "    <tr>\n",
       "      <th>11</th>\n",
       "      <td>Holi1263B</td>\n",
       "      <td>ACTGGGCACGCAAAGAAATTC</td>\n",
       "      <td>21</td>\n",
       "      <td>10/25/2017</td>\n",
       "      <td>NaN</td>\n",
       "      <td>Right (bottom) Probe for C6889</td>\n",
       "      <td>/n/projects/dut/a_marmorata/dnaseq_sex_determ/...</td>\n",
       "      <td>60.000</td>\n",
       "      <td>Primers for Male Specific Sequences in Aspidos...</td>\n",
       "      <td>47.619</td>\n",
       "    </tr>\n",
       "    <tr>\n",
       "      <th>12</th>\n",
       "      <td>Holi1264B</td>\n",
       "      <td>AAAGGTTGAGTTGGGCCAAGA</td>\n",
       "      <td>21</td>\n",
       "      <td>10/25/2017</td>\n",
       "      <td>NaN</td>\n",
       "      <td>Right (bottom) Probe for C6885</td>\n",
       "      <td>/n/projects/dut/a_marmorata/dnaseq_sex_determ/...</td>\n",
       "      <td>60.063</td>\n",
       "      <td>Primers for Male Specific Sequences in Aspidos...</td>\n",
       "      <td>47.619</td>\n",
       "    </tr>\n",
       "    <tr>\n",
       "      <th>13</th>\n",
       "      <td>Holi1265B</td>\n",
       "      <td>AGCACAAGTGTCACTGGGAAA</td>\n",
       "      <td>21</td>\n",
       "      <td>10/25/2017</td>\n",
       "      <td>NaN</td>\n",
       "      <td>Right (bottom) Probe for C6885</td>\n",
       "      <td>/n/projects/dut/a_marmorata/dnaseq_sex_determ/...</td>\n",
       "      <td>60.065</td>\n",
       "      <td>Primers for Male Specific Sequences in Aspidos...</td>\n",
       "      <td>47.619</td>\n",
       "    </tr>\n",
       "    <tr>\n",
       "      <th>14</th>\n",
       "      <td>Holi1266B</td>\n",
       "      <td>GGAGCAGTGACTGACCTTCTC</td>\n",
       "      <td>21</td>\n",
       "      <td>10/25/2017</td>\n",
       "      <td>NaN</td>\n",
       "      <td>Right (bottom) Probe for C6885</td>\n",
       "      <td>/n/projects/dut/a_marmorata/dnaseq_sex_determ/...</td>\n",
       "      <td>60.067</td>\n",
       "      <td>Primers for Male Specific Sequences in Aspidos...</td>\n",
       "      <td>57.143</td>\n",
       "    </tr>\n",
       "    <tr>\n",
       "      <th>15</th>\n",
       "      <td>Holi1267B</td>\n",
       "      <td>CAGCCAAGGAGCAGTAACTGA</td>\n",
       "      <td>21</td>\n",
       "      <td>10/25/2017</td>\n",
       "      <td>NaN</td>\n",
       "      <td>Right (bottom) Probe for C6883</td>\n",
       "      <td>/n/projects/dut/a_marmorata/dnaseq_sex_determ/...</td>\n",
       "      <td>59.998</td>\n",
       "      <td>Primers for Male Specific Sequences in Aspidos...</td>\n",
       "      <td>52.381</td>\n",
       "    </tr>\n",
       "    <tr>\n",
       "      <th>16</th>\n",
       "      <td>Holi1268B</td>\n",
       "      <td>AGCCAAGGAGCAGTAACTGAC</td>\n",
       "      <td>21</td>\n",
       "      <td>10/25/2017</td>\n",
       "      <td>NaN</td>\n",
       "      <td>Right (bottom) Probe for C6883</td>\n",
       "      <td>/n/projects/dut/a_marmorata/dnaseq_sex_determ/...</td>\n",
       "      <td>59.997</td>\n",
       "      <td>Primers for Male Specific Sequences in Aspidos...</td>\n",
       "      <td>52.381</td>\n",
       "    </tr>\n",
       "    <tr>\n",
       "      <th>17</th>\n",
       "      <td>Holi1269B</td>\n",
       "      <td>CAGCTGCAAAAACTGGCATCA</td>\n",
       "      <td>21</td>\n",
       "      <td>10/25/2017</td>\n",
       "      <td>NaN</td>\n",
       "      <td>Right (bottom) Probe for C7069</td>\n",
       "      <td>/n/projects/dut/a_marmorata/dnaseq_sex_determ/...</td>\n",
       "      <td>60.270</td>\n",
       "      <td>Primers for Male Specific Sequences in Aspidos...</td>\n",
       "      <td>47.619</td>\n",
       "    </tr>\n",
       "    <tr>\n",
       "      <th>18</th>\n",
       "      <td>Holi1270B</td>\n",
       "      <td>GCTGCAAAAACTGGCATCACT</td>\n",
       "      <td>21</td>\n",
       "      <td>10/25/2017</td>\n",
       "      <td>NaN</td>\n",
       "      <td>Right (bottom) Probe for C7069</td>\n",
       "      <td>/n/projects/dut/a_marmorata/dnaseq_sex_determ/...</td>\n",
       "      <td>60.270</td>\n",
       "      <td>Primers for Male Specific Sequences in Aspidos...</td>\n",
       "      <td>47.619</td>\n",
       "    </tr>\n",
       "    <tr>\n",
       "      <th>19</th>\n",
       "      <td>Holi1271B</td>\n",
       "      <td>AGCTGCAAAAACTGGCATCAC</td>\n",
       "      <td>21</td>\n",
       "      <td>10/25/2017</td>\n",
       "      <td>NaN</td>\n",
       "      <td>Right (bottom) Probe for C7069</td>\n",
       "      <td>/n/projects/dut/a_marmorata/dnaseq_sex_determ/...</td>\n",
       "      <td>60.270</td>\n",
       "      <td>Primers for Male Specific Sequences in Aspidos...</td>\n",
       "      <td>47.619</td>\n",
       "    </tr>\n",
       "    <tr>\n",
       "      <th>20</th>\n",
       "      <td>Holi1272B</td>\n",
       "      <td>CTGTGTTTTGCGGAGGGAAAA</td>\n",
       "      <td>21</td>\n",
       "      <td>10/25/2017</td>\n",
       "      <td>NaN</td>\n",
       "      <td>Right (bottom) Probe for C6925</td>\n",
       "      <td>/n/projects/dut/a_marmorata/dnaseq_sex_determ/...</td>\n",
       "      <td>59.593</td>\n",
       "      <td>Primers for Male Specific Sequences in Aspidos...</td>\n",
       "      <td>47.619</td>\n",
       "    </tr>\n",
       "  </tbody>\n",
       "</table>\n",
       "</div>"
      ],
      "text/plain": [
       "         name               sequence  length (nt)        date  \\\n",
       "0   Holi1252T  ACTGAACAGGCAACCCTATGG           21  10/25/2017   \n",
       "1   Holi1253T  TCCCTTAGGAGCAGTCATCCA           21  10/25/2017   \n",
       "2   Holi1254T  CTGGTTCTGCCTTAGGGTCTG           21  10/25/2017   \n",
       "3   Holi1255T  AAGCAATCAAGGGAAGGGAGG           21  10/25/2017   \n",
       "4   Holi1256T  GAAACCCACCCTGCACTATCA           21  10/25/2017   \n",
       "5   Holi1257T  GAAACCCACCCTGCACTATCA           21  10/25/2017   \n",
       "6   Holi1258T  GGCCATTCTTCCCCTGGTTTA           21  10/25/2017   \n",
       "7   Holi1259T  GCTGCACCTAGCTGATCAGAT           21  10/25/2017   \n",
       "8   Holi1260T  TGCTCGGGCTCCTATCTATGA           21  10/25/2017   \n",
       "9   Holi1261T  GAGCTGTGTCCTCCAAAACCT           21  10/25/2017   \n",
       "10  Holi1262T  AGAGCTGTGTCCTCCAAAACC           21  10/25/2017   \n",
       "11  Holi1263B  ACTGGGCACGCAAAGAAATTC           21  10/25/2017   \n",
       "12  Holi1264B  AAAGGTTGAGTTGGGCCAAGA           21  10/25/2017   \n",
       "13  Holi1265B  AGCACAAGTGTCACTGGGAAA           21  10/25/2017   \n",
       "14  Holi1266B  GGAGCAGTGACTGACCTTCTC           21  10/25/2017   \n",
       "15  Holi1267B  CAGCCAAGGAGCAGTAACTGA           21  10/25/2017   \n",
       "16  Holi1268B  AGCCAAGGAGCAGTAACTGAC           21  10/25/2017   \n",
       "17  Holi1269B  CAGCTGCAAAAACTGGCATCA           21  10/25/2017   \n",
       "18  Holi1270B  GCTGCAAAAACTGGCATCACT           21  10/25/2017   \n",
       "19  Holi1271B  AGCTGCAAAAACTGGCATCAC           21  10/25/2017   \n",
       "20  Holi1272B  CTGTGTTTTGCGGAGGGAAAA           21  10/25/2017   \n",
       "\n",
       "    Distance to start of primer (nt)            description/comments  \\\n",
       "0                                NaN      Left (top) Probe for C6889   \n",
       "1                                NaN      Left (top) Probe for C6889   \n",
       "2                                NaN      Left (top) Probe for C6889   \n",
       "3                                NaN      Left (top) Probe for C6885   \n",
       "4                                NaN      Left (top) Probe for C6885   \n",
       "5                                NaN      Left (top) Probe for C6883   \n",
       "6                                NaN      Left (top) Probe for C6883   \n",
       "7                                NaN      Left (top) Probe for C7069   \n",
       "8                                NaN      Left (top) Probe for C6925   \n",
       "9                                NaN      Left (top) Probe for C6925   \n",
       "10                               NaN      Left (top) Probe for C6925   \n",
       "11                               NaN  Right (bottom) Probe for C6889   \n",
       "12                               NaN  Right (bottom) Probe for C6885   \n",
       "13                               NaN  Right (bottom) Probe for C6885   \n",
       "14                               NaN  Right (bottom) Probe for C6885   \n",
       "15                               NaN  Right (bottom) Probe for C6883   \n",
       "16                               NaN  Right (bottom) Probe for C6883   \n",
       "17                               NaN  Right (bottom) Probe for C7069   \n",
       "18                               NaN  Right (bottom) Probe for C7069   \n",
       "19                               NaN  Right (bottom) Probe for C7069   \n",
       "20                               NaN  Right (bottom) Probe for C6925   \n",
       "\n",
       "                                       Page Reference      Tm  \\\n",
       "0   /n/projects/dut/a_marmorata/dnaseq_sex_determ/...  59.995   \n",
       "1   /n/projects/dut/a_marmorata/dnaseq_sex_determ/...  59.992   \n",
       "2   /n/projects/dut/a_marmorata/dnaseq_sex_determ/...  60.066   \n",
       "3   /n/projects/dut/a_marmorata/dnaseq_sex_determ/...  59.994   \n",
       "4   /n/projects/dut/a_marmorata/dnaseq_sex_determ/...  59.996   \n",
       "5   /n/projects/dut/a_marmorata/dnaseq_sex_determ/...  59.996   \n",
       "6   /n/projects/dut/a_marmorata/dnaseq_sex_determ/...  59.993   \n",
       "7   /n/projects/dut/a_marmorata/dnaseq_sex_determ/...  59.930   \n",
       "8   /n/projects/dut/a_marmorata/dnaseq_sex_determ/...  59.924   \n",
       "9   /n/projects/dut/a_marmorata/dnaseq_sex_determ/...  60.203   \n",
       "10  /n/projects/dut/a_marmorata/dnaseq_sex_determ/...  60.203   \n",
       "11  /n/projects/dut/a_marmorata/dnaseq_sex_determ/...  60.000   \n",
       "12  /n/projects/dut/a_marmorata/dnaseq_sex_determ/...  60.063   \n",
       "13  /n/projects/dut/a_marmorata/dnaseq_sex_determ/...  60.065   \n",
       "14  /n/projects/dut/a_marmorata/dnaseq_sex_determ/...  60.067   \n",
       "15  /n/projects/dut/a_marmorata/dnaseq_sex_determ/...  59.998   \n",
       "16  /n/projects/dut/a_marmorata/dnaseq_sex_determ/...  59.997   \n",
       "17  /n/projects/dut/a_marmorata/dnaseq_sex_determ/...  60.270   \n",
       "18  /n/projects/dut/a_marmorata/dnaseq_sex_determ/...  60.270   \n",
       "19  /n/projects/dut/a_marmorata/dnaseq_sex_determ/...  60.270   \n",
       "20  /n/projects/dut/a_marmorata/dnaseq_sex_determ/...  59.593   \n",
       "\n",
       "                          Additional Comments/Results     %GC  \n",
       "0   Primers for Male Specific Sequences in Aspidos...  52.381  \n",
       "1   Primers for Male Specific Sequences in Aspidos...  52.381  \n",
       "2   Primers for Male Specific Sequences in Aspidos...  57.143  \n",
       "3   Primers for Male Specific Sequences in Aspidos...  52.381  \n",
       "4   Primers for Male Specific Sequences in Aspidos...  52.381  \n",
       "5   Primers for Male Specific Sequences in Aspidos...  52.381  \n",
       "6   Primers for Male Specific Sequences in Aspidos...  52.381  \n",
       "7   Primers for Male Specific Sequences in Aspidos...  52.381  \n",
       "8   Primers for Male Specific Sequences in Aspidos...  52.381  \n",
       "9   Primers for Male Specific Sequences in Aspidos...  52.381  \n",
       "10  Primers for Male Specific Sequences in Aspidos...  52.381  \n",
       "11  Primers for Male Specific Sequences in Aspidos...  47.619  \n",
       "12  Primers for Male Specific Sequences in Aspidos...  47.619  \n",
       "13  Primers for Male Specific Sequences in Aspidos...  47.619  \n",
       "14  Primers for Male Specific Sequences in Aspidos...  57.143  \n",
       "15  Primers for Male Specific Sequences in Aspidos...  52.381  \n",
       "16  Primers for Male Specific Sequences in Aspidos...  52.381  \n",
       "17  Primers for Male Specific Sequences in Aspidos...  47.619  \n",
       "18  Primers for Male Specific Sequences in Aspidos...  47.619  \n",
       "19  Primers for Male Specific Sequences in Aspidos...  47.619  \n",
       "20  Primers for Male Specific Sequences in Aspidos...  47.619  "
      ]
     },
     "execution_count": 250,
     "metadata": {},
     "output_type": "execute_result"
    }
   ],
   "source": [
    "temp = allPrimerDf[[\"SEQ_NAME\", \"PRIMER_LEFT_SEQUENCE\", \"PRIMER_LEFT_GC_PERCENT\", 'PRIMER_LEFT_TM']].copy()\n",
    "\n",
    "temp['sequence'] = temp[\"PRIMER_LEFT_SEQUENCE\"]\n",
    "temp['description/comments'] = temp.apply(lambda x: 'Left (top) Probe for {}'.format(x['SEQ_NAME']), axis=1)\n",
    "temp['length (nt)'] = temp['sequence'].apply(lambda x: len(x))\n",
    "temp['requested by'] = 'dut'\n",
    "temp['%GC'] = temp['PRIMER_LEFT_GC_PERCENT']\n",
    "temp['strand'] = 'T'\n",
    "temp['Tm'] = temp['PRIMER_LEFT_TM']\n",
    "temp = temp[['sequence', 'description/comments', 'length (nt)', 'requested by', '%GC','strand', 'Tm']]\n",
    "\n",
    "\n",
    "temp2 = allPrimerDf[[\"SEQ_NAME\", \"PRIMER_RIGHT_SEQUENCE\", \"PRIMER_RIGHT_GC_PERCENT\", \"PRIMER_RIGHT_TM\"]].copy()\n",
    "\n",
    "\n",
    "temp2['sequence'] = temp2[\"PRIMER_RIGHT_SEQUENCE\"]\n",
    "temp2['description/comments'] = temp2.apply(lambda x: 'Right (bottom) Probe for {}'.format(x['SEQ_NAME']), axis=1)\n",
    "temp2['length (nt)'] = temp2['sequence'].apply(lambda x: len(x))\n",
    "temp2['requested by'] = 'dut'\n",
    "temp2['%GC'] = temp2['PRIMER_RIGHT_GC_PERCENT']\n",
    "temp2['strand'] = 'B'\n",
    "temp2['Tm'] = temp2['PRIMER_RIGHT_TM']\n",
    "temp2 = temp2[['sequence', 'description/comments', 'length (nt)', 'requested by', '%GC','strand', 'Tm']]\n",
    "\n",
    "order_df = pd.concat((temp, temp2)).drop_duplicates().reset_index(drop=True)\n",
    "order_df = order_df.reset_index()\n",
    "\n",
    "order_df['name'] = order_df.apply(lambda x: 'Holi{}{}'.format(int(x['index']) + 1252, x['strand']), axis=1)\n",
    "order_df = order_df.drop('index',axis=1)\n",
    "order_df['date'] = datetime.datetime.today().strftime('%-m/%-d/%Y')\n",
    "order_df['Distance to start of primer (nt)'] = np.nan\n",
    "order_df['Page Reference'] = os.getcwd() + '/marm_dnaseq_sex_determ.ipynb'\n",
    "order_df['Additional Comments/Results'] = 'Primers for Male Specific Sequences in Aspidoscelis marmoratus'\n",
    "order_df['%GC'] = round(order_df['%GC'],3)\n",
    "order_df['Tm'] = round(order_df['Tm'],3)\n",
    "order_df = order_df[['name', 'sequence', 'length (nt)','date', 'Distance to start of primer (nt)','description/comments', 'Page Reference', 'Tm', 'Additional Comments/Results', '%GC']]\n",
    "\n",
    "order_df"
   ]
  },
  {
   "cell_type": "code",
   "execution_count": 251,
   "metadata": {
    "ExecuteTime": {
     "end_time": "2017-10-25T16:40:43.636479Z",
     "start_time": "2017-10-25T16:40:43.564294Z"
    }
   },
   "outputs": [],
   "source": [
    "order_df.to_excel('../data/male_marker_primer_order_df.xls')\n",
    "allPrimerDf.to_excel('../data/male_marker_primer_sets.xls')"
   ]
  },
  {
   "cell_type": "markdown",
   "metadata": {},
   "source": [
    "## Assembling Unmapped Male Reads 67-mer"
   ]
  },
  {
   "cell_type": "code",
   "execution_count": 111,
   "metadata": {
    "ExecuteTime": {
     "end_time": "2017-10-23T15:55:49.906712Z",
     "start_time": "2017-10-23T15:55:49.888555Z"
    }
   },
   "outputs": [
    {
     "name": "stdout",
     "output_type": "stream",
     "text": [
      "\n",
      "maximal read length\n",
      "max_rd_len=250\n",
      "[LIB]\n",
      "#average insert size\n",
      "avg_ins=538\n",
      "#if sequence needs to be reversed, 1 for forward reverse\n",
      "reverse_seq=1\n",
      "#in which part(s) the reads are used\n",
      "asm_flags=3\n",
      "#use only first 100 bps of each read\n",
      "rd_len_cutoff=250\n",
      "#in which order the reads are used while scaffolding\n",
      "rank=1\n",
      "# cutoff of pair number for a reliable connection (at least 3 for short insert size)\n",
      "pair_num_cutoff=3\n",
      "#minimum aligned length to contigs for a reliable read location (at least 32 for short insert size)\n",
      "map_len=32\n",
      "#bam file for single or paired reads, reads 1 in paired reads file should always be followed by reads 2\n",
      "#NOTE: If a read in bam file fails platform/vendor quality checks(the flag field 0x0200 is set), itself and it's paired read would be ignored.\n",
      "b=/n/projects/dut/a_marmorata/dnaseq_sex_determ/data/malelib/male_unmapped.bam\n",
      "\n"
     ]
    }
   ],
   "source": [
    "male63Config =\"\"\"\n",
    "maximal read length\n",
    "max_rd_len=250\n",
    "[LIB]\n",
    "#average insert size\n",
    "avg_ins=538\n",
    "#if sequence needs to be reversed, 1 for forward reverse\n",
    "reverse_seq=1\n",
    "#in which part(s) the reads are used\n",
    "asm_flags=3\n",
    "#use only first 100 bps of each read\n",
    "rd_len_cutoff=250\n",
    "#in which order the reads are used while scaffolding\n",
    "rank=1\n",
    "# cutoff of pair number for a reliable connection (at least 3 for short insert size)\n",
    "pair_num_cutoff=3\n",
    "#minimum aligned length to contigs for a reliable read location (at least 32 for short insert size)\n",
    "map_len=32\n",
    "#bam file for single or paired reads, reads 1 in paired reads file should always be followed by reads 2\n",
    "#NOTE: If a read in bam file fails platform/vendor quality checks(the flag field 0x0200 is set), itself and it's paired read would be ignored.\n",
    "b=/n/projects/dut/a_marmorata/dnaseq_sex_determ/data/malelib/male_unmapped.bam\n",
    "\"\"\"\n",
    "with open('../bin/male_63_Assembly.config','w') as fw:\n",
    "    fw.write(male63Config)\n",
    "print(male63Config)"
   ]
  },
  {
   "cell_type": "code",
   "execution_count": 112,
   "metadata": {
    "ExecuteTime": {
     "end_time": "2017-10-23T15:55:49.942232Z",
     "start_time": "2017-10-23T15:55:49.908436Z"
    },
    "collapsed": true
   },
   "outputs": [],
   "source": [
    "%%bash\n",
    "cd ../bin/SOAPdenovo2-bin-LINUX-generic-r240\n",
    "#nohup ./SOAPdenovo-63mer all -s ../male_63_Assembly.config -K 63 -R -p 20 -o male_63_assembly 1>ass.log 2>ass.err &\n",
    "## after the assembly finished...\n",
    "#mkdir ../../data/male_63_assembly\n",
    "#mv male_63_assembly* ../../data/male_63_assembly/\n",
    "#mv ass* ../../data/male_63_assembly/"
   ]
  }
 ],
 "metadata": {
  "kernelspec": {
   "display_name": "Python [conda root]",
   "language": "python",
   "name": "conda-root-py"
  },
  "language_info": {
   "codemirror_mode": {
    "name": "ipython",
    "version": 3
   },
   "file_extension": ".py",
   "mimetype": "text/x-python",
   "name": "python",
   "nbconvert_exporter": "python",
   "pygments_lexer": "ipython3",
   "version": "3.6.1"
  },
  "toc": {
   "colors": {
    "hover_highlight": "#DAA520",
    "navigate_num": "#000000",
    "navigate_text": "#333333",
    "running_highlight": "#FF0000",
    "selected_highlight": "#FFD700",
    "sidebar_border": "#EEEEEE",
    "wrapper_background": "#FFFFFF"
   },
   "moveMenuLeft": true,
   "nav_menu": {
    "height": "171px",
    "width": "252px"
   },
   "navigate_menu": true,
   "number_sections": true,
   "sideBar": true,
   "threshold": 4,
   "toc_cell": false,
   "toc_position": {
    "height": "1140px",
    "left": "0px",
    "right": "1634px",
    "top": "66px",
    "width": "389px"
   },
   "toc_section_display": "block",
   "toc_window_display": true,
   "widenNotebook": false
  }
 },
 "nbformat": 4,
 "nbformat_minor": 2
}
